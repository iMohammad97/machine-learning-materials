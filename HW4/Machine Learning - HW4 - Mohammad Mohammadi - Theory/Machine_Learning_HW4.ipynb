{
  "nbformat": 4,
  "nbformat_minor": 0,
  "metadata": {
    "colab": {
      "provenance": []
    },
    "kernelspec": {
      "name": "python3",
      "display_name": "Python 3"
    },
    "language_info": {
      "name": "python"
    }
  },
  "cells": [
    {
      "cell_type": "markdown",
      "source": [
        "**Course:** Machine Learning by Dr. Seyyed Salehi\n",
        "\n",
        "**Homework:** HW4\n",
        "\n",
        "**Name:** Mohammad Mohammadi\n",
        "\n",
        "**Student ID:** 402208592"
      ],
      "metadata": {
        "id": "9JbKLJNkfqlH"
      }
    },
    {
      "cell_type": "markdown",
      "source": [
        "# Question 1\n",
        "Suppose we want to construct a decision tree that predicts in which games AI is better than human players. The table below shows the dataset, with $x_1$, $x_2$, and $x_3$ as features and $y$ as the target output. We display the dataset with $x$ and $y$ in the table below.\n",
        "\n",
        "\\begin{array}{|c|c|c|c|}\n",
        "\\hline\n",
        "x_1 \\text{ (Team or Individual)} & x_2 \\text{ (Mental or Physical)} & x_3 \\text{ (Skill or Chance)} & y \\text{ (Win or Lose)} \\\\\n",
        "\\hline\n",
        "T & M & S & W \\\\\n",
        "I & M & S & W \\\\\n",
        "T & P & S & W \\\\\n",
        "I & M & C & W \\\\\n",
        "T & P & S & L \\\\\n",
        "I & M & C & L \\\\\n",
        "T & P & C & L \\\\\n",
        "T & P & C & L \\\\\n",
        "T & P & C & L \\\\\n",
        "I & P & S & W \\\\\n",
        "\\hline\n",
        "\\end{array}\n",
        "\n",
        "\n",
        "a) Calculate the entropy \\(H(y)\\) of class \\(y\\).\n",
        "\n",
        "b) According to the information gain criterion, construct the best tree with a depth of 1 and perform the calculations in full detail. Show which feature at the root of the tree will split."
      ],
      "metadata": {
        "id": "F0z9g1qMFEyq"
      }
    },
    {
      "cell_type": "markdown",
      "source": [
        "## Answer"
      ],
      "metadata": {
        "id": "H5IY6RjFIDlA"
      }
    },
    {
      "cell_type": "markdown",
      "source": [
        "### Part (a)\n",
        "\n",
        "The entropy \\(H(y)\\) is calculated using the formula:\n",
        "$ H(y) = - \\sum_{i=1}^{k} p_i \\log_2(p_i) $\n",
        "where \\(p_i\\) is the probability of class \\(i\\).\n",
        "\n",
        "In our dataset, \\(y\\) (Win or Lose) has 10 samples:\n",
        "- 5 samples are Win (W)\n",
        "- 5 samples are Lose (L)\n",
        "\n",
        "The probabilities are:\n",
        "$$ p(\\text{Win}) = \\frac{5}{10} = 0.5 $$\n",
        "$$ p(\\text{Lose}) = \\frac{5}{10} = 0.5 $$\n",
        "\n",
        "Now, calculate the entropy:\n",
        "$$ H(y) = - (0.5 \\log_2(0.5) + 0.5 \\log_2(0.5)) $$\n",
        "$$ H(y) = - (0.5 \\cdot (-1) + 0.5 \\cdot (-1))$$\n",
        "$$ H(y) = - (-0.5 - 0.5)$$\n",
        "$$ H(y) = 1 $$\n",
        "\n",
        "So, the entropy \\(H(y)\\) is 1.\n"
      ],
      "metadata": {
        "id": "aIwItFSGHhfT"
      }
    },
    {
      "cell_type": "markdown",
      "source": [
        "### Part (b)\n",
        "\n",
        "To find the best feature to split on, we need to calculate the information gain for each feature. As the information gain is calculated as follows:\n",
        "$$ \\text{Information Gain}(X) = H(y) - H(y|X) $$\n",
        "\n",
        "Where $H(y|X)$ is the conditional entropy of $y$ given $X$.\n",
        "\n",
        "#### 1. Calculating $H(y|x_1)$\n",
        "\n",
        "Feature $x_1$ (Team or Individual):\n",
        "\n",
        "- For $x_1 = T$:\n",
        "  - 5 samples: $ \\{W, W, L, L, L\\} $\n",
        "  - $p(\\text{Win}) = \\frac{2}{5}$, $p(\\text{Lose}) = \\frac{3}{5}$\n",
        "  - Entropy $ H(y|x_1 = T) = - \\left( \\frac{2}{5} \\log_2 \\frac{2}{5} + \\frac{3}{5} \\log_2 \\frac{3}{5} \\right) $\n",
        "\n",
        "$$ H(y|x_1 = T) = - \\left( \\frac{2}{5} \\log_2 \\frac{2}{5} + \\frac{3}{5} \\log_2 \\frac{3}{5} \\right) $$\n",
        "$$ = - \\left( 0.4 \\log_2 0.4 + 0.6 \\log_2 0.6 \\right) $$\n",
        "$$ = - \\left( 0.4 \\cdot -1.322 + 0.6 \\cdot -0.737 \\right) $$\n",
        "$$ = - \\left( -0.529 - 0.442 \\right) $$\n",
        "$$ = 0.971 $$\n",
        "\n",
        "- For $x_1 = I$:\n",
        "  - 5 samples: $ \\{W, W, W, L, W\\} $\n",
        "  - $p(\\text{Win}) = \\frac{4}{5}$, $p(\\text{Lose}) = \\frac{1}{5}$\n",
        "  - Entropy $ H(y|x_1 = I) = - \\left( \\frac{4}{5} \\log_2 \\frac{4}{5} + \\frac{1}{5} \\log_2 \\frac{1}{5} \\right) $\n",
        "\n",
        "$$ H(y|x_1 = I) = - \\left( \\frac{4}{5} \\log_2 \\frac{4}{5} + \\frac{1}{5} \\log_2 \\frac{1}{5} \\right) $$\n",
        "$$ = - \\left( 0.8 \\log_2 0.8 + 0.2 \\log_2 0.2 \\right) $$\n",
        "$$ = - \\left( 0.8 \\cdot -0.322 + 0.2 \\cdot -2.322 \\right) $$\n",
        "$$ = - \\left( -0.258 - 0.464 \\right) $$\n",
        "$$ = 0.722 $$\n",
        "\n",
        "Now, we calculate the conditional entropy $ H(y|x_1) $:\n",
        "\n",
        "$$ H(y|x_1) = \\frac{5}{10} H(y|x_1 = T) + \\frac{5}{10} H(y|x_1 = I) $$\n",
        "$$ = 0.5 \\cdot 0.971 + 0.5 \\cdot 0.722 $$\n",
        "$$ = 0.4855 + 0.361 $$\n",
        "$$ = 0.8465 $$\n",
        "\n",
        "Information Gain for $x_1$:\n",
        "$$ \\text{IG}(x_1) = H(y) - H(y|x_1) $$\n",
        "$$ = 1 - 0.8465 $$\n",
        "$$ = 0.1535 $$\n",
        "\n",
        "#### 2. Calculating $H(y|x_2)$\n",
        "\n",
        "Feature $x_2$ (Mental or Physical):\n",
        "\n",
        "- For $x_2 = M$:\n",
        "  - 5 samples: $ \\{W, W, W, W, L\\} $\n",
        "  - $p(\\text{Win}) = \\frac{4}{5}$, $p(\\text{Lose}) = \\frac{1}{5}$\n",
        "  - Entropy $ H(y|x_2 = M) = - \\left( \\frac{4}{5} \\log_2 \\frac{4}{5} + \\frac{1}{5} \\log_2 \\frac{1}{5} \\right) $\n",
        "  - We have already calculated this as 0.722.\n",
        "\n",
        "- For $x_2 = P$:\n",
        "  - 5 samples: $ \\{W, L, L, L, L\\} $\n",
        "  - $p(\\text{Win}) = \\frac{1}{5}$, $p(\\text{Lose}) = \\frac{4}{5}$\n",
        "  - Entropy $ H(y|x_2 = P) = - \\left( \\frac{1}{5} \\log_2 \\frac{1}{5} + \\frac{4}{5} \\log_2 \\frac{4}{5} \\right) $\n",
        "\n",
        "$$ H(y|x_2 = P) = - \\left( \\frac{1}{5} \\log_2 \\frac{1}{5} + \\frac{4}{5} \\log_2 \\frac{4}{5} \\right) $$\n",
        "$$ = - \\left( 0.2 \\log_2 0.2 + 0.8 \\log_2 0.8 \\right) $$\n",
        "$$ = - \\left( 0.2 \\cdot -2.322 + 0.8 \\cdot -0.322 \\right) $$\n",
        "$$ = - \\left( -0.464 - 0.258 \\right) $$\n",
        "$$ = 0.722 $$\n",
        "\n",
        "Now, we calculate the conditional entropy $ H(y|x_2) $:\n",
        "\n",
        "$$ H(y|x_2) = \\frac{5}{10} H(y|x_2 = M) + \\frac{5}{10} H(y|x_2 = P) $$\n",
        "$$ = 0.5 \\cdot 0.722 + 0.5 \\cdot 0.722 $$\n",
        "$$ = 0.361 + 0.361 $$\n",
        "$$ = 0.722 $$\n",
        "\n",
        "Information Gain for $x_2$:\n",
        "$$ \\text{IG}(x_2) = H(y) - H(y|x_2) $$\n",
        "$$ = 1 - 0.722 $$\n",
        "$$ = 0.278 $$\n",
        "\n",
        "#### 3. Calculating $H(y|x_3)$\n",
        "\n",
        "Feature $x_3$ (Skill or Chance):\n",
        "\n",
        "- For $x_3 = S$:\n",
        "  - 5 samples: $ \\{W, W, W, L, W\\} $\n",
        "  - $p(\\text{Win}) = \\frac{4}{5}$, $p(\\text{Lose}) = \\frac{1}{5}$\n",
        "  - Entropy $ H(y|x_3 = S) = - \\left( \\frac{4}{5} \\log_2 \\frac{4}{5} + \\frac{1}{5} \\log_2 \\frac{1}{5} \\right) $\n",
        "  - We have already calculated this as 0.722.\n",
        "\n",
        "- For $x_3 = C$:\n",
        "  - 5 samples: $ \\{W, L, L, L, L\\} $\n",
        "  - $p(\\text{Win}) = \\frac{1}{5}$, $p(\\text{Lose}) = \\frac{4}{5}$\n",
        "  - Entropy $ H(y|x_3 = C) = - \\left( \\frac{1}{5} \\log_2 \\frac{1}{5} + \\frac{4}{5} \\log_2 \\frac{4}{5} \\right) $\n",
        "  - We have already calculated this as 0.722.\n",
        "\n",
        "Now, we calculate the conditional entropy $ H(y|x_3) $:\n",
        "\n",
        "$$ H(y|x_3) = \\frac{5}{10} H(y|x_3 = S) + \\frac{5}{10} H(y|x_3 = C) $$\n",
        "$$ = 0.5 \\cdot 0.722 + 0.5 \\cdot 0.722 $$\n",
        "$$ = 0.361 + 0.361 $$\n",
        "$$ = 0.722 $$\n",
        "\n",
        "Information Gain for $x_3$:\n",
        "$$ \\text{IG}(x_3) = H(y) - H(y|x_3) $$\n",
        "$$ = 1 - 0.722 $$\n",
        "$$ = 0.278 $$\n",
        "\n",
        "### Conclusion\n",
        "\n",
        "Comparing the information gains for each feature:\n",
        "- $ \\text{IG}(x_1) = 0.1535 $\n",
        "- $ \\text{IG}(x_2) = 0.278 $\n",
        "- $ \\text{IG}(x_3) = 0.278 $\n",
        "\n",
        "The features $x_2$ (Mental or Physical) and $x_3$ (Skill or Chance) have the highest information gain of 0.278. We can choose either one as the root of the tree. We will select $x_2$ as the root.\n",
        "\n",
        "### Final Decision Tree of Depth 1\n",
        "\n",
        "The decision tree with depth 1 and the feature $x_2$ at the root will look like this:\n",
        "\n",
        "```\n",
        "      x_2\n",
        "     /   \\\n",
        "    M     P\n",
        "   /       \\\n",
        " {W}       {L}\n",
        "```\n",
        "\n",
        "Where:\n",
        "- If $x_2 = M$, the outcome is Win (W).\n",
        "- If $x_2 = P$, the outcome is Lose (L).\n"
      ],
      "metadata": {
        "id": "56unW716IHkA"
      }
    },
    {
      "cell_type": "markdown",
      "source": [
        "# Question 2\n",
        "Consider the AdaBoost algorithm. In this algorithm, $ T $ classifiers with names $ G_1, \\ldots, G_T $ are repeatedly trained on the given data, and in each step, the weight assigned to the training data is adjusted. Suppose $ z $ is a test sample from the dataset. The output of the metalearner(main model) is a linear combination of the outputs of the classifiers (mainly):\n",
        "$$M_T(z) = \\sum_{t=1}^{T} \\beta_t G_t(z) $$\n",
        "\n",
        "where $ M_T(z) $ is the output of the meta-learner, and $ G_t(z) $ is the output of the $ t $-th classifier for sample $ z $.\n",
        "\n",
        "The AdaBoost model, trains metalearner $ M_T $ with exponential training cost function. In this question, the boosting algorithm named Gradient Boosting is reviewed. Suppose $ ρ = M_T(z) $ is the output metalearner in this algorithm, and $ \\ell \\in \\{+1, -1\\} $ is the actual label for sample $ z $. The Gradient Boosting algorithm replaces the exponential cost function with the squared error loss function:\n",
        "\n",
        "$$L(\\rho, \\ell) = (\\rho - \\ell)^2$$\n",
        "\n",
        "Suppose the classification is done with 2 classes and we have $ n $ training data points $ X_1, X_2, \\ldots, X_n \\in \\mathbb{R}^d $ and vector $ y \\in \\mathbb{R}^n $ of labels as $ y_i \\in \\{ \\pm 1 \\} $.\n",
        "\n",
        "a) Write an expression for the cost function of this model. Pay attention to the fact that based on explanations the cost function is the mean squared error (MSE). Answer based on $ \\beta_t $s and $ y_i $s and $ G_t $s.\n",
        "\n",
        "b) Suppose we are in step $ T $ of the Gradient Boosting algorithm, and we have trained weak classifier $ G_T $ but we have not yet determined $ \\beta_t $. Also, suppose that the coefficients $ \\beta_1, \\beta_2, \\ldots, \\beta_{t-1} $ in step $ T $ remain fixed and do not change. Determine $ \\beta_T $ in a way that the training cost of the meta-learner is minimized. YOur expression should be as simplified as possible."
      ],
      "metadata": {
        "id": "OLUmZ18FLCk_"
      }
    },
    {
      "cell_type": "markdown",
      "source": [
        "## Answer"
      ],
      "metadata": {
        "id": "hW7PwSDEu2zq"
      }
    },
    {
      "cell_type": "markdown",
      "source": [
        "### Part (a)\n",
        "\n",
        "Given the model:\n",
        "$$ M_T(z) = \\sum_{t=1}^{T} \\beta_t G_t(z), $$\n",
        "we aim to minimize the squared error between the model's prediction $ M_T(z) $ and the actual label $\\ell$.\n",
        "\n",
        "For the $n$ training data points $(X_i, y_i)$, the cost function can be written as:\n",
        "$$ L = \\frac{1}{n} \\sum_{i=1}^{n} (M_T(X_i) - y_i)^2. $$\n",
        "\n",
        "Substituting $ M_T(X_i) = \\sum_{t=1}^{T} \\beta_t G_t(X_i) $, we get:\n",
        "$$ L = \\frac{1}{n} \\sum_{i=1}^{n} \\left( \\sum_{t=1}^{T} \\beta_t G_t(X_i) - y_i \\right)^2. $$\n",
        "\n",
        "This is the expression for the cost function based on $\\beta_t$, $y_i$, and $G_t(X_i)$."
      ],
      "metadata": {
        "id": "4Xt_sYODu5zZ"
      }
    },
    {
      "cell_type": "markdown",
      "source": [
        "### Part (b)\n",
        "\n",
        "We are at step $T$ of the Gradient Boosting algorithm, where we have trained the weak classifier $G_T$ but have not yet determined $\\beta_T$. The coefficients $\\beta_1, \\beta_2, \\ldots, \\beta_{T-1}$ are fixed. We aim to find $\\beta_T$ such that the training cost is minimized.\n",
        "\n",
        "The cost function at step $T$ is:\n",
        "$$ L = \\frac{1}{n} \\sum_{i=1}^{n} \\left( \\sum_{t=1}^{T} \\beta_t G_t(X_i) - y_i \\right)^2 $$\n",
        "\n",
        "Let's denote the output of the model up to step $T-1$ as:\n",
        "$$ M_{T-1}(X_i) = \\sum_{t=1}^{T-1} \\beta_t G_t(X_i) $$\n",
        "\n",
        "Then, the cost function can be rewritten as:\n",
        "$$ L = \\frac{1}{n} \\sum_{i=1}^{n} \\left( M_{T-1}(X_i) + \\beta_T G_T(X_i) - y_i \\right)^2 $$\n",
        "\n",
        "To minimize $L$ with respect to $\\beta_T$, we take the derivative of $L$ with respect to $\\beta_T$ and set it to zero:\n",
        "$$ \\frac{\\partial L}{\\partial \\beta_T} = \\frac{\\partial}{\\partial \\beta_T} \\left( \\frac{1}{n} \\sum_{i=1}^{n} \\left( M_{T-1}(X_i) + \\beta_T G_T(X_i) - y_i \\right)^2 \\right) = 0 $$\n",
        "\n",
        "Carrying out the differentiation, we have:\n",
        "$$ \\frac{\\partial L}{\\partial \\beta_T} = \\frac{1}{n} \\sum_{i=1}^{n} 2 \\left( M_{T-1}(X_i) + \\beta_T G_T(X_i) - y_i \\right) G_T(X_i) = 0 $$\n",
        "\n",
        "Simplifying, we get:\n",
        "$$ \\frac{1}{n} \\sum_{i=1}^{n} \\left( M_{T-1}(X_i) + \\beta_T G_T(X_i) - y_i \\right) G_T(X_i) = 0 $$\n",
        "\n",
        "Rearranging to solve for $\\beta_T$:\n",
        "$$ \\sum_{i=1}^{n} \\left( M_{T-1}(X_i) G_T(X_i) + \\beta_T G_T(X_i)^2 - y_i G_T(X_i) \\right) = 0 $$\n",
        "\n",
        "$$ \\sum_{i=1}^{n} M_{T-1}(X_i) G_T(X_i) + \\beta_T \\sum_{i=1}^{n} G_T(X_i)^2 = \\sum_{i=1}^{n} y_i G_T(X_i) $$\n",
        "\n",
        "$$ \\beta_T \\sum_{i=1}^{n} G_T(X_i)^2 = \\sum_{i=1}^{n} y_i G_T(X_i) - \\sum_{i=1}^{n} M_{T-1}(X_i) G_T(X_i) $$\n",
        "\n",
        "$$ \\beta_T = \\frac{\\sum_{i=1}^{n} y_i G_T(X_i) - \\sum_{i=1}^{n} M_{T-1}(X_i) G_T(X_i)}{\\sum_{i=1}^{n} G_T(X_i)^2} $$\n",
        "\n",
        "Thus, the coefficient $\\beta_T$ that minimizes the training cost at step $T$ is:\n",
        "$$ \\beta_T = \\frac{\\sum_{i=1}^{n} y_i G_T(X_i) - \\sum_{i=1}^{n} M_{T-1}(X_i) G_T(X_i)}{\\sum_{i=1}^{n} G_T(X_i)^2} $$"
      ],
      "metadata": {
        "id": "nzOgoZjTvRqZ"
      }
    },
    {
      "cell_type": "markdown",
      "source": [
        "# Question 3\n",
        "Answer the following questions.\n",
        "\n",
        "(a) If we use bootstrapping from the data of size $ N $ to choose $ N' = pN $ samples, show that approximately $ e^{-p} N $ data points will not be selected in the entire sampling process. (Assume $ N $ is very large.)\n",
        "\n",
        "(b) Consider a random forest $ G $ consisting of three binary decision trees $ \\{ g_k \\}_{k=1}^{3} $. Assume that each of these decision trees has the following errors on test data:\n",
        "\n",
        "$$\n",
        "E_{\\text{out}}(g_1) = 0.15, \\quad E_{\\text{out}}(g_2) = 0.25, \\quad E_{\\text{out}}(g_3) = 0.35\n",
        "$$\n",
        "\n",
        "Find the error bound $ E_{\\text{out}}(G) $ with reasoning."
      ],
      "metadata": {
        "id": "qWAcoFWdv3oj"
      }
    },
    {
      "cell_type": "markdown",
      "source": [
        "## Answer"
      ],
      "metadata": {
        "id": "GonwN1iKzjXd"
      }
    },
    {
      "cell_type": "markdown",
      "source": [
        "### Part (a)\n",
        "\n",
        "In bootstrapping, each sample is drawn with replacement. For each data point $ x_i $, the probability that it is not selected in a single draw is:\n",
        "$$ 1 - \\frac{1}{N} $$\n",
        "\n",
        "When drawing $ N' = pN $ samples, the probability that $ x_i $ is not selected at all is:\n",
        "$$ \\left(1 - \\frac{1}{N}\\right)^{pN} $$\n",
        "\n",
        "For large $ N $, we can use the approximation:\n",
        "$$ \\left(1 - \\frac{1}{N}\\right)^{pN} \\approx e^{-p} $$\n",
        "\n",
        "Thus, the expected number of data points that are not selected is:\n",
        "$$ N \\cdot e^{-p} $$\n",
        "\n",
        "Hence, approximately $ e^{-p} N $ data points will not be selected in the entire sampling process."
      ],
      "metadata": {
        "id": "4v903bW0zk45"
      }
    },
    {
      "cell_type": "markdown",
      "source": [
        "### Part (b)\n",
        "\n",
        "\n",
        "The random forest $ G $ makes its decision by majority vote of the three trees. We need to find the error bound $ E_{\\text{out}}(G) $.\n",
        "\n",
        "First, let's denote the errors as:\n",
        "$$ e_1 = 0.15, \\quad e_2 = 0.25, \\quad e_3 = 0.35 $$\n",
        "\n",
        "Assume the errors of the individual trees are independent. The error of the majority vote can be analyzed by considering the probability that at least two out of three trees make an incorrect prediction.\n",
        "\n",
        "The probability that each tree makes a correct prediction is:\n",
        "$$ 1 - e_1 = 0.85, \\quad 1 - e_2 = 0.75, \\quad 1 - e_3 = 0.65 $$\n",
        "\n",
        "The probability that the majority vote is incorrect (at least two trees make an incorrect prediction) can be calculated using the binomial distribution. There are three cases to consider for at least two errors:\n",
        "\n",
        "1. Exactly two trees are wrong.\n",
        "2. All three trees are wrong.\n",
        "\n",
        "Let's calculate these probabilities:\n",
        "\n",
        "1. Probability that exactly two trees are wrong:\n",
        "$$ \\text{P(2 errors)} = \\binom{3}{2} \\cdot e_i e_j (1-e_k) $$\n",
        "where $(i, j, k)$ are all permutations of (1, 2, 3).\n",
        "\n",
        "Summing over all permutations:\n",
        "$$ \\text{P(2 errors)} = 3 \\cdot e_1 e_2 (1 - e_3) + 3 \\cdot e_1 e_3 (1 - e_2) + 3 \\cdot e_2 e_3 (1 - e_1) $$\n",
        "\n",
        "2. Probability that all three trees are wrong:\n",
        "$$ \\text{P(3 errors)} = e_1 e_2 e_3 $$\n",
        "\n",
        "Now, substituting the given error values:\n",
        "$$ \\text{P(2 errors)} = 3 \\cdot 0.15 \\cdot 0.25 \\cdot 0.65 + 3 \\cdot 0.15 \\cdot 0.35 \\cdot 0.75 + 3 \\cdot 0.25 \\cdot 0.35 \\cdot 0.85 $$\n",
        "\n",
        "$$ = 3 \\cdot 0.024375 + 3 \\cdot 0.039375 + 3 \\cdot 0.074375 $$\n",
        "$$ = 3 \\cdot (0.024375 + 0.039375 + 0.074375) $$\n",
        "$$ = 3 \\cdot 0.138125 $$\n",
        "$$ = 0.414375 $$\n",
        "\n",
        "And for all three errors:\n",
        "$$ \\text{P(3 errors)} = 0.15 \\cdot 0.25 \\cdot 0.35 $$\n",
        "$$ = 0.013125 $$\n",
        "\n",
        "Adding these probabilities together:\n",
        "$$ E_{\\text{out}}(G) = \\text{P(2 errors)} + \\text{P(3 errors)} $$\n",
        "$$ = 0.414375 + 0.013125 $$\n",
        "$$ = 0.4275 $$\n",
        "\n",
        "Therefore, the error bound $ E_{\\text{out}}(G) $ for the random forest $ G $ consisting of the three decision trees is:\n",
        "$$ E_{\\text{out}}(G) \\approx 0.4275. $$"
      ],
      "metadata": {
        "id": "mZjmqWwU0RBq"
      }
    },
    {
      "cell_type": "markdown",
      "source": [
        "# Question 4\n",
        "\n",
        "Which of the following statements about bagging and boosting is correct? (Multiple choices may be correct)\n",
        "\n",
        "a) Different learners in bagging can be trained in parallel.\n",
        "\n",
        "b) Different learners in boosting can be trained in parallel.\n",
        "\n",
        "c) Each of the learners in bagging is trained on the entire training data.\n",
        "\n",
        "d) Each of the learners in boosting is trained on the entire training data."
      ],
      "metadata": {
        "id": "54DYGVE60-d0"
      }
    },
    {
      "cell_type": "markdown",
      "source": [
        "## Answer\n",
        "\n",
        "a) Correct.\n",
        "\n",
        "b) Incorrect.\n",
        "\n",
        "c) Incorrect.\n",
        "\n",
        "d) Correct.\n",
        "\n",
        "a) In bagging (Bootstrap Aggregating), each learner (model) is trained independently on a different bootstrap sample of the data. Therefore, the training of different learners can be done in parallel since there are no dependencies between them during the training phase.\n",
        "\n",
        "b) In boosting, each learner is trained sequentially, with each one attempting to correct the errors of its predecessor. The training process is dependent on the previous models because the weights of the training data points are adjusted based on the errors of the previous model. Thus, different learners in boosting cannot be trained in parallel.\n",
        "\n",
        "c) In bagging, each learner is trained on a bootstrap sample of the data, which means a random subset of the training data with replacement. Therefore, each learner is not trained on the entire training data but on a subset of it.\n",
        "\n",
        "d) In boosting, each learner is trained on the entire training data set. However, the weights of the training data points are adjusted after each learner is trained to focus more on the misclassified points. So, while each learner sees the entire training data, the emphasis on different data points changes with each iteration."
      ],
      "metadata": {
        "id": "YZ0k141Q1OY4"
      }
    },
    {
      "cell_type": "markdown",
      "source": [
        "# Question 5\n",
        "\n",
        "In this question, consider a KNN classifier with the $L_2$ distance metric. Assume that the classes are completely binary. Answer the following questions based on the dataset shown below.\n",
        "\n",
        "a) What is the error rate of this classifier for a specific $ K $ value? How much is this error rate?\n",
        "\n",
        "b) Why can using very large or very small $ K $ values on this dataset be erroneous?\n",
        "\n",
        "c) Suppose we use the leave-one-out cross-validation method. What is the error rate for this value of $ K $?\n",
        "\n",
        "d) Show the decision boundary of this 1NN classifier for this dataset in the image."
      ],
      "metadata": {
        "id": "foCDBLZs1T4l"
      }
    },
    {
      "cell_type": "markdown",
      "source": [
        "## Answer\n"
      ],
      "metadata": {
        "id": "7BVaFMLY3lVI"
      }
    },
    {
      "cell_type": "markdown",
      "source": [
        "### Part (a)\n",
        "\n",
        "\n",
        "Considering the point itself it's own nearest neighbour, based on TA's explanations, the least error is 0 and it happens in k=1, 2 and 4 as in k=1 the point will always be classified as it's label and for k=2 and 4 there is equal votes and we consider the the ecludian distance and weight based on the order we observe neighbours which we see the points label first.\n",
        "\n",
        "I used a python script for this matter as below in which I plot the points and calculate based on value of k."
      ],
      "metadata": {
        "id": "PK5wNrE03nnx"
      }
    },
    {
      "cell_type": "code",
      "source": [
        "import numpy as np\n",
        "import matplotlib.pyplot as plt\n",
        "from collections import Counter\n",
        "\n",
        "\n",
        "def euclidean_distance(point1, point2):\n",
        "    return np.sqrt(np.sum((point1 - point2) ** 2))\n",
        "\n",
        "def predict_label(point, points, labels, k):\n",
        "    distances = []\n",
        "    for i in range(len(points)):\n",
        "        distance = euclidean_distance(point, points[i])\n",
        "        distances.append((distance, labels[i]))\n",
        "\n",
        "    distances.sort(key=lambda x: x[0])\n",
        "    k_nearest_labels = [label for _, label in distances[:k]]\n",
        "    # print(k_nearest_labels, k, point)\n",
        "\n",
        "    most_common = Counter(k_nearest_labels).most_common(1)\n",
        "    return most_common[0][0]\n",
        "\n",
        "def knn_errors(points, labels, k_values):\n",
        "    errors = {}\n",
        "\n",
        "    numeric_labels = np.array([1 if label == '+' else 0 for label in labels])\n",
        "\n",
        "    for k in k_values:\n",
        "        predictions = []\n",
        "        for i in range(len(points)):\n",
        "            predicted_label = predict_label(points[i], points, numeric_labels, k)\n",
        "            predictions.append(predicted_label)\n",
        "\n",
        "        errors[k] = np.mean(np.array(predictions) != numeric_labels)\n",
        "\n",
        "    return errors\n",
        "\n",
        "def plot_data(points, labels):\n",
        "    plt.figure(figsize=(8, 6))\n",
        "    for point, label in zip(points, labels):\n",
        "        if label == '+':\n",
        "            plt.scatter(point[0], point[1], c='blue', marker='+')\n",
        "        else:\n",
        "            plt.scatter(point[0], point[1], c='red', marker='_')\n",
        "\n",
        "    plt.xlabel(\"X1\")\n",
        "    plt.ylabel(\"X2\")\n",
        "    plt.grid(False)\n",
        "    plt.show()\n",
        "\n",
        "# Data\n",
        "points = np.array([\n",
        "    [1, 5], [2, 6], [2, 7], [3, 7], [3, 8], [4, 8],\n",
        "    [5, 1], [5, 9], [6, 2], [7, 2], [7, 3], [8, 3], [8, 4], [9, 5]\n",
        "])\n",
        "labels = ['-', '-', '+', '-', '+', '-', '+', '-', '+', '-', '+', '-', '+', '+']\n",
        "k_values = [1, 2, 3, 4, 5, 6, 7, 8, 9]\n",
        "# k_values = [3]\n",
        "\n",
        "errors = knn_errors(points, labels, k_values)\n",
        "for err in errors:\n",
        "    print(\"K= \" + str(err) + \", error= \" + str(errors[err]))\n",
        "\n",
        "plot_data(points, labels)"
      ],
      "metadata": {
        "colab": {
          "base_uri": "https://localhost:8080/",
          "height": 695
        },
        "id": "Px3znYwCDDlV",
        "outputId": "c6c5e53b-0555-42c9-990a-cc12221c8f9c"
      },
      "execution_count": null,
      "outputs": [
        {
          "output_type": "stream",
          "name": "stdout",
          "text": [
            "K= 1, error= 0.0\n",
            "K= 2, error= 0.0\n",
            "K= 3, error= 0.42857142857142855\n",
            "K= 4, error= 0.0\n",
            "K= 5, error= 0.2857142857142857\n",
            "K= 6, error= 0.2857142857142857\n",
            "K= 7, error= 0.2857142857142857\n",
            "K= 8, error= 0.2857142857142857\n",
            "K= 9, error= 0.2857142857142857\n"
          ]
        },
        {
          "output_type": "display_data",
          "data": {
            "text/plain": [
              "<Figure size 800x600 with 1 Axes>"
            ],
            "image/png": "[encoded data removed]"
          },
          "metadata": {}
        }
      ]
    },
    {
      "cell_type": "markdown",
      "source": [
        "### Part (b)\n",
        "\n",
        "- **With \\( K = 1 \\):** The classifier will be highly sensitive to each point's label and each point's nearest neighbor for k = 2. In the dataset, points close to the boundary between classes ('+' and '-') can be easily misclassified if their immediate neighbor belongs to the opposite class. This sensitivity can lead to high error rates in regions where the classes are intermixed or close together.\n",
        "\n",
        "- **With Very Large \\( K \\):** The classifier will consider many neighbors, possibly including points from distant parts of the feature space. For example, using a large \\( K \\) will average over points from different clusters, leading to misclassification of points in minority clusters. In the image, '+' and '-' points are spread across different regions. A large \\( K \\) would cause the classifier to ignore these local regions, leading to a model that cannot accurately represent the true decision boundaries.\n",
        "\n",
        "Using very small K values can lead to high variance and sensitivity to noise, resulting in overfitting. Conversely, using very large K values can lead to high bias and underfitting, resulting in a model that fails to capture the data's structure. Both scenarios can significantly degrade the classifier's performance on this dataset. Therefore, choosing an appropriate K value is crucial to balancing bias and variance, ensuring good generalization performance."
      ],
      "metadata": {
        "id": "QE7Bmym6JhjK"
      }
    },
    {
      "cell_type": "markdown",
      "source": [
        "### Part (c)\n",
        "\n",
        "\n",
        "This is similar to part (a) just not considering the point itself as it's own nearest neighbour.\n",
        "\n",
        "We just use the code we used in part (a) just shift the neighbour finding process by one unit.\n",
        "\n",
        "The least error is 0.28 and it happens in k=5.\n"
      ],
      "metadata": {
        "id": "Qem2b14OLX4z"
      }
    },
    {
      "cell_type": "code",
      "source": [
        "import numpy as np\n",
        "import matplotlib.pyplot as plt\n",
        "from collections import Counter\n",
        "\n",
        "\n",
        "def euclidean_distance(point1, point2):\n",
        "    return np.sqrt(np.sum((point1 - point2) ** 2))\n",
        "\n",
        "def predict_label(point, points, labels, k):\n",
        "    distances = []\n",
        "    for i in range(len(points)):\n",
        "        distance = euclidean_distance(point, points[i])\n",
        "        distances.append((distance, labels[i]))\n",
        "\n",
        "    distances.sort(key=lambda x: x[0])\n",
        "    k_nearest_labels = [label for _, label in distances[1:k+1]]\n",
        "    # print(k_nearest_labels, k, point)\n",
        "\n",
        "    most_common = Counter(k_nearest_labels).most_common(1)\n",
        "    return most_common[0][0]\n",
        "\n",
        "def knn_errors(points, labels, k_values):\n",
        "    errors = {}\n",
        "\n",
        "    numeric_labels = np.array([1 if label == '+' else 0 for label in labels])\n",
        "\n",
        "    for k in k_values:\n",
        "        predictions = []\n",
        "        for i in range(len(points)):\n",
        "            predicted_label = predict_label(points[i], points, numeric_labels, k)\n",
        "            predictions.append(predicted_label)\n",
        "\n",
        "        errors[k] = np.mean(np.array(predictions) != numeric_labels)\n",
        "\n",
        "    return errors\n",
        "\n",
        "def plot_data(points, labels):\n",
        "    plt.figure(figsize=(8, 6))\n",
        "    for point, label in zip(points, labels):\n",
        "        if label == '+':\n",
        "            plt.scatter(point[0], point[1], c='blue', marker='+')\n",
        "        else:\n",
        "            plt.scatter(point[0], point[1], c='red', marker='_')\n",
        "\n",
        "    plt.xlabel(\"X1\")\n",
        "    plt.ylabel(\"X2\")\n",
        "    plt.grid(False)\n",
        "    plt.show()\n",
        "\n",
        "# Data\n",
        "points = np.array([\n",
        "    [1, 5], [2, 6], [2, 7], [3, 7], [3, 8], [4, 8],\n",
        "    [5, 1], [5, 9], [6, 2], [7, 2], [7, 3], [8, 3], [8, 4], [9, 5]\n",
        "])\n",
        "labels = ['-', '-', '+', '-', '+', '-', '+', '-', '+', '-', '+', '-', '+', '+']\n",
        "k_values = [1, 2, 3, 4, 5, 6, 7, 8, 9]\n",
        "# k_values = [3]\n",
        "\n",
        "errors = knn_errors(points, labels, k_values)\n",
        "for err in errors:\n",
        "    print(\"K= \" + str(err) + \", error= \" + str(errors[err]))\n",
        "\n",
        "plot_data(points, labels)"
      ],
      "metadata": {
        "colab": {
          "base_uri": "https://localhost:8080/",
          "height": 695
        },
        "outputId": "a6fbbaaf-36d9-4b1d-9ade-35359c60507f",
        "id": "JR6BGcQ7LX41"
      },
      "execution_count": null,
      "outputs": [
        {
          "output_type": "stream",
          "name": "stdout",
          "text": [
            "K= 1, error= 0.7142857142857143\n",
            "K= 2, error= 0.7142857142857143\n",
            "K= 3, error= 0.42857142857142855\n",
            "K= 4, error= 0.7142857142857143\n",
            "K= 5, error= 0.2857142857142857\n",
            "K= 6, error= 0.2857142857142857\n",
            "K= 7, error= 0.2857142857142857\n",
            "K= 8, error= 0.7142857142857143\n",
            "K= 9, error= 1.0\n"
          ]
        },
        {
          "output_type": "display_data",
          "data": {
            "text/plain": [
              "<Figure size 800x600 with 1 Axes>"
            ],
            "image/png": "[encoded data removed]"
          },
          "metadata": {}
        }
      ]
    },
    {
      "cell_type": "markdown",
      "source": [
        "### Part (d)\n",
        "We do it in 2 ways.\n",
        "\n",
        "First we do it in the way we solved part (a) and consider each point as it's own nearest neighbour.\n",
        "\n",
        "It is as below:"
      ],
      "metadata": {
        "id": "BkGy1MD2ORJY"
      }
    },
    {
      "cell_type": "code",
      "source": [
        "import numpy as np\n",
        "import matplotlib.pyplot as plt\n",
        "from collections import Counter\n",
        "\n",
        "def euclidean_distance(point1, point2):\n",
        "    return np.sqrt(np.sum((point1 - point2) ** 2))\n",
        "\n",
        "def predict_label(point, points, labels, k):\n",
        "    distances = []\n",
        "    for i in range(len(points)):\n",
        "        distance = euclidean_distance(point, points[i])\n",
        "        distances.append((distance, labels[i]))\n",
        "\n",
        "    distances.sort(key=lambda x: x[0])\n",
        "    k_nearest_labels = [label for _, label in distances[:k]]\n",
        "\n",
        "    most_common = Counter(k_nearest_labels).most_common(1)\n",
        "    return most_common[0][0]\n",
        "\n",
        "def knn_errors(points, labels, k_values):\n",
        "    errors = {}\n",
        "\n",
        "    numeric_labels = np.array([1 if label == '+' else 0 for label in labels])\n",
        "\n",
        "    for k in k_values:\n",
        "        predictions = []\n",
        "        for i in range(len(points)):\n",
        "            predicted_label = predict_label(points[i], points, numeric_labels, k)\n",
        "            predictions.append(predicted_label)\n",
        "\n",
        "        errors[k] = np.mean(np.array(predictions) != numeric_labels)\n",
        "\n",
        "    return errors\n",
        "\n",
        "def plot_data_and_boundaries(points, labels, k_values):\n",
        "    x_min, x_max = points[:, 0].min() - 1, points[:, 0].max() + 1\n",
        "    y_min, y_max = points[:, 1].min() - 1, points[:, 1].max() + 1\n",
        "    xx, yy = np.meshgrid(np.linspace(x_min, x_max, 100), np.linspace(y_min, y_max, 100))\n",
        "\n",
        "    fig, axes = plt.subplots(1, len(k_values), figsize=(15, 5))\n",
        "    if len(k_values) == 1:\n",
        "        axes = [axes]\n",
        "\n",
        "    numeric_labels = np.array([1 if label == '+' else 0 for label in labels])\n",
        "\n",
        "    for ax, k in zip(axes, k_values):\n",
        "        Z = np.array([predict_label(np.array([x, y]), points, numeric_labels, k) for x, y in zip(xx.ravel(), yy.ravel())])\n",
        "        Z = Z.reshape(xx.shape)\n",
        "\n",
        "        ax.contourf(xx, yy, Z, alpha=0.3, cmap='coolwarm')\n",
        "\n",
        "        for point, label in zip(points, labels):\n",
        "            if label == '+':\n",
        "                ax.scatter(point[0], point[1], c='blue', marker='+')\n",
        "            else:\n",
        "                ax.scatter(point[0], point[1], c='red', marker='_')\n",
        "\n",
        "        ax.set_title(f'k = {k}')\n",
        "        ax.set_xlabel(\"X1\")\n",
        "        ax.set_ylabel(\"X2\")\n",
        "        ax.grid(True)\n",
        "\n",
        "    plt.tight_layout()\n",
        "    plt.show()\n",
        "\n",
        "points = np.array([\n",
        "    [1, 5], [2, 6], [2, 7], [3, 7], [3, 8], [4, 8],\n",
        "    [5, 1], [5, 9], [6, 2], [7, 2], [7, 3], [8, 3], [8, 4], [9, 5]\n",
        "])\n",
        "labels = ['-', '-', '+', '-', '+', '-', '+', '-', '+', '-', '+', '-', '+', '+']\n",
        "k_values = [1]\n",
        "\n",
        "errors = knn_errors(points, labels, k_values)\n",
        "print(\"Error:\", errors)\n",
        "\n",
        "plot_data_and_boundaries(points, labels, k_values)"
      ],
      "metadata": {
        "colab": {
          "base_uri": "https://localhost:8080/",
          "height": 274
        },
        "id": "KBw_2d_NL8gB",
        "outputId": "c76718eb-267c-4f0b-dd1b-3d74bf2728a9"
      },
      "execution_count": null,
      "outputs": [
        {
          "output_type": "stream",
          "name": "stdout",
          "text": [
            "Errors for different k values: {1: 0.0}\n"
          ]
        },
        {
          "output_type": "display_data",
          "data": {
            "text/plain": [
              "<Figure size 1500x500 with 1 Axes>"
            ],
            "image/png": "[encoded data removed]"
          },
          "metadata": {}
        }
      ]
    },
    {
      "cell_type": "markdown",
      "source": [
        "Now we do it in the way we solved part (c) and leaving each point out of it's own nearest neighbours.\n",
        "\n",
        "It is as below:"
      ],
      "metadata": {
        "id": "L1lYuVIkPF-r"
      }
    },
    {
      "cell_type": "code",
      "source": [
        "import numpy as np\n",
        "import matplotlib.pyplot as plt\n",
        "from collections import Counter\n",
        "\n",
        "def euclidean_distance(point1, point2):\n",
        "    return np.sqrt(np.sum((point1 - point2) ** 2))\n",
        "\n",
        "def predict_label(point, points, labels, k):\n",
        "    distances = []\n",
        "    for i in range(len(points)):\n",
        "        distance = euclidean_distance(point, points[i])\n",
        "        distances.append((distance, labels[i]))\n",
        "\n",
        "    distances.sort(key=lambda x: x[0])\n",
        "    k_nearest_labels = [label for _, label in distances[1:k+1]]\n",
        "\n",
        "    most_common = Counter(k_nearest_labels).most_common(1)\n",
        "    return most_common[0][0]\n",
        "\n",
        "def knn_errors(points, labels, k_values):\n",
        "    errors = {}\n",
        "\n",
        "    numeric_labels = np.array([1 if label == '+' else 0 for label in labels])\n",
        "\n",
        "    for k in k_values:\n",
        "        predictions = []\n",
        "        for i in range(len(points)):\n",
        "            predicted_label = predict_label(points[i], points, numeric_labels, k)\n",
        "            predictions.append(predicted_label)\n",
        "\n",
        "        errors[k] = np.mean(np.array(predictions) != numeric_labels)\n",
        "\n",
        "    return errors\n",
        "\n",
        "def plot_data_and_boundaries(points, labels, k_values):\n",
        "    x_min, x_max = points[:, 0].min() - 1, points[:, 0].max() + 1\n",
        "    y_min, y_max = points[:, 1].min() - 1, points[:, 1].max() + 1\n",
        "    xx, yy = np.meshgrid(np.linspace(x_min, x_max, 100), np.linspace(y_min, y_max, 100))\n",
        "\n",
        "    fig, axes = plt.subplots(1, len(k_values), figsize=(15, 5))\n",
        "    if len(k_values) == 1:\n",
        "        axes = [axes]\n",
        "\n",
        "    numeric_labels = np.array([1 if label == '+' else 0 for label in labels])\n",
        "\n",
        "    for ax, k in zip(axes, k_values):\n",
        "        Z = np.array([predict_label(np.array([x, y]), points, numeric_labels, k) for x, y in zip(xx.ravel(), yy.ravel())])\n",
        "        Z = Z.reshape(xx.shape)\n",
        "\n",
        "        ax.contourf(xx, yy, Z, alpha=0.3, cmap='coolwarm')\n",
        "\n",
        "        for point, label in zip(points, labels):\n",
        "            if label == '+':\n",
        "                ax.scatter(point[0], point[1], c='blue', marker='+')\n",
        "            else:\n",
        "                ax.scatter(point[0], point[1], c='red', marker='_')\n",
        "\n",
        "        ax.set_title(f'k = {k}')\n",
        "        ax.set_xlabel(\"X1\")\n",
        "        ax.set_ylabel(\"X2\")\n",
        "        ax.grid(True)\n",
        "\n",
        "    plt.tight_layout()\n",
        "    plt.show()\n",
        "\n",
        "points = np.array([\n",
        "    [1, 5], [2, 6], [2, 7], [3, 7], [3, 8], [4, 8],\n",
        "    [5, 1], [5, 9], [6, 2], [7, 2], [7, 3], [8, 3], [8, 4], [9, 5]\n",
        "])\n",
        "labels = ['-', '-', '+', '-', '+', '-', '+', '-', '+', '-', '+', '-', '+', '+']\n",
        "k_values = [1]\n",
        "\n",
        "errors = knn_errors(points, labels, k_values)\n",
        "print(\"Error:\", errors)\n",
        "\n",
        "plot_data_and_boundaries(points, labels, k_values)"
      ],
      "metadata": {
        "colab": {
          "base_uri": "https://localhost:8080/",
          "height": 274
        },
        "id": "iVnZi-bANYcu",
        "outputId": "fc5e6db9-c663-4c43-cddf-5c50a59e0fd5"
      },
      "execution_count": null,
      "outputs": [
        {
          "output_type": "stream",
          "name": "stdout",
          "text": [
            "Error: {1: 0.7142857142857143}\n"
          ]
        },
        {
          "output_type": "display_data",
          "data": {
            "text/plain": [
              "<Figure size 1500x500 with 1 Axes>"
            ],
            "image/png": "[encoded data removed]"
          },
          "metadata": {}
        }
      ]
    },
    {
      "cell_type": "markdown",
      "source": [
        "# Question 6\n",
        "\n",
        "Suppose $ T $ is a set of $ n $ training data with features $ A_1, \\ldots, A_a $ and $ k $ classes $ c_1 $ to $ c_k $. Consider a particular feature $ A $. Assume the set $ T $ is split according to this feature and a fully disjoint and complete partitioning is done on $ T $. This partitioning is as $ \\{ T_i^A | i \\in \\{ 1, \\ldots, m_A \\} \\} $ where $m_A$ is number of different values for feature $A$. Also, assume that the distribution of classes $ T $ is uniform and independent of the feature $ A $. Calculate the following terms in terms of the parameter $ k $ (number of classes) and interpret your answers:\n",
        "\n",
        "$$\n",
        "H(T), H(T|A), IG(T,A)\n",
        "$$\n"
      ],
      "metadata": {
        "id": "DMg594UKPhxU"
      }
    },
    {
      "cell_type": "markdown",
      "source": [
        "## Answer\n",
        "\n",
        "### $ H(T) $\n",
        "\n",
        "The entropy $ H(T) $ represents the uncertainty in the classification of the training data set $ T $. Since the distribution of classes in $ T $ is uniform, each class $ c_i $ (for $ i \\in \\{1, \\ldots, k\\} $) has an equal probability of occurring.\n",
        "\n",
        "If the classes are uniformly distributed, the probability of each class $ c_i $ is:\n",
        "$$ P(c_i) = \\frac{1}{k} $$\n",
        "\n",
        "The entropy $ H(T) $ is calculated using the formula for entropy:\n",
        "$$ H(T) = - \\sum_{i=1}^{k} P(c_i) \\log_2 P(c_i) $$\n",
        "\n",
        "Substituting $ P(c_i) = \\frac{1}{k} $:\n",
        "$$ H(T) = - \\sum_{i=1}^{k} \\frac{1}{k} \\log_2 \\frac{1}{k} $$\n",
        "$$ = - \\sum_{i=1}^{k} \\frac{1}{k} (-\\log_2 k) $$\n",
        "$$ = \\log_2 k \\sum_{i=1}^{k} \\frac{1}{k} $$\n",
        "$$ = \\log_2 k \\cdot 1 $$\n",
        "$$ = \\log_2 k $$\n",
        "\n",
        "So, the entropy $ H(T) $ is:\n",
        "$$ H(T) = \\log_2 k $$\n",
        "\n",
        "### $ H(T|A) $\n",
        "\n",
        "The conditional entropy $ H(T|A) $ measures the average uncertainty remaining about the class labels after knowing the value of the feature $ A $. Given that the set $ T $ is partitioned into subsets $ \\{ T_i^A \\mid i \\in \\{ 1, \\ldots, m_A \\} \\} $ based on the values of the feature $ A $, and assuming that the distribution of classes in $ T $ is uniform and independent of the feature $ A $:\n",
        "\n",
        "Since the class distribution is uniform and independent of $ A $, the conditional entropy $ H(T|A) $ is the same as the entropy $ H(T) $ because knowing the feature $ A $ does not reduce any uncertainty about the classes. Therefore:\n",
        " $$ H(T|A) = H(T) = \\log_2 k $$\n",
        "\n",
        "### $ IG(T, A) $\n",
        "\n",
        "The information gain $ IG(T, A) $ measures the reduction in entropy of $ T $ due to the knowledge of the feature $ A $. It is calculated as the difference between the entropy of $ T $ and the conditional entropy of $ T $ given $ A $:\n",
        "$$ IG(T, A) = H(T) - H(T|A) $$\n",
        "\n",
        "Substituting the values we calculated:\n",
        "$$ IG(T, A) = \\log_2 k - \\log_2 k $$\n",
        "$$ = 0 $$"
      ],
      "metadata": {
        "id": "E5kxmraKQ3hb"
      }
    },
    {
      "cell_type": "markdown",
      "source": [
        "### Interpretation of my answers\n",
        "\n",
        "1. **Entropy $H(T)$:** The entropy $H(T) = \\log_2 k$ indicates the amount of uncertainty or randomness in the class distribution of the training set $T$. With $k$ classes uniformly distributed, the entropy represents the maximum uncertainty.\n",
        "\n",
        "2. **Conditional Entropy $H(T|A)$:** The conditional entropy $H(T|A) = \\log_2 k$ shows that knowing the feature $A$ does not reduce the uncertainty about the classes. This is because the classes are uniformly distributed and independent of the feature $A$.\n",
        "\n",
        "3. **Information Gain $IG(T, A)$:** The information gain $IG(T, A) = 0$ means that the feature $A$ does not provide any useful information for predicting the class labels. This is expected since the class distribution is independent of the feature $A$, implying that $A$ does not help in reducing the uncertainty about the class labels.\n",
        "\n",
        "In summary, when the class distribution is uniform and independent of the feature, the feature does not contribute to reducing the uncertainty in class prediction, resulting in zero information gain."
      ],
      "metadata": {
        "id": "j5-AndxISrk6"
      }
    }
  ]
}