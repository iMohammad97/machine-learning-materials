{
  "nbformat": 4,
  "nbformat_minor": 0,
  "metadata": {
    "colab": {
      "provenance": [],
      "gpuType": "T4"
    },
    "kernelspec": {
      "name": "python3",
      "display_name": "Python 3"
    },
    "language_info": {
      "name": "python"
    },
    "accelerator": "GPU"
  },
  "cells": [
    {
      "cell_type": "markdown",
      "source": [
        "# Bank Marketing Classification\n",
        "\n",
        "In this part of the assignment we want to do a classification task using PyTorch on bank marketing dataset."
      ],
      "metadata": {
        "id": "MT-ucU8DVPt8"
      }
    },
    {
      "cell_type": "markdown",
      "source": [
        "#Import Library"
      ],
      "metadata": {
        "id": "rZlNNmgqYkV4"
      }
    },
    {
      "cell_type": "code",
      "source": [
        "import torch\n",
        "import torch.nn as nn\n",
        "import torch.optim as optim\n",
        "import pandas as pd\n",
        "import tqdm\n",
        "import numpy as np\n",
        "import matplotlib.pyplot as plt\n",
        "from sklearn.model_selection import train_test_split\n",
        "from sklearn.preprocessing import StandardScaler, LabelEncoder\n",
        "from torch.utils.data import DataLoader, TensorDataset"
      ],
      "metadata": {
        "id": "NOh9eJ4pYnu2"
      },
      "execution_count": 51,
      "outputs": []
    },
    {
      "cell_type": "markdown",
      "source": [
        "#Load Dataset\n",
        "Here, you should download and load the dataset. After that, you should split train dataset to train and validation sets. Finally, define the dataloaders for `train`, `validation` and `test`"
      ],
      "metadata": {
        "id": "EJaMVgX1XcZm"
      }
    },
    {
      "cell_type": "code",
      "source": [
        "#TODO"
      ],
      "metadata": {
        "id": "9YSstSPUXwu2"
      },
      "execution_count": null,
      "outputs": []
    },
    {
      "cell_type": "markdown",
      "source": [
        "#Normalize data\n",
        "normalize numerical data."
      ],
      "metadata": {
        "id": "Keip2OUFX8qk"
      }
    },
    {
      "cell_type": "code",
      "source": [
        "# Normalize numerical data"
      ],
      "metadata": {
        "id": "e-Wk_AoiYfo4"
      },
      "execution_count": 62,
      "outputs": []
    },
    {
      "cell_type": "markdown",
      "source": [
        "# Create Data Loader\n",
        "create data loader for pytorch"
      ],
      "metadata": {
        "id": "8TnDg_OtYrWl"
      }
    },
    {
      "cell_type": "code",
      "source": [
        "#TODO"
      ],
      "metadata": {
        "id": "yIdgxZMUYqzE"
      },
      "execution_count": 63,
      "outputs": []
    },
    {
      "cell_type": "markdown",
      "source": [
        "#Model\n",
        "define your model in here"
      ],
      "metadata": {
        "id": "GBtQo2PBY9zS"
      }
    },
    {
      "cell_type": "code",
      "source": [
        "class BankMarketingNet(nn.Module):\n",
        "    def __init__(self):\n",
        "        pass\n",
        "\n",
        "    def forward(self, x):\n",
        "      pass"
      ],
      "metadata": {
        "id": "C5k1GGexZCGD"
      },
      "execution_count": 64,
      "outputs": []
    },
    {
      "cell_type": "markdown",
      "source": [
        "#Train your model\n",
        "Define `criterion` and `optimizer`.\n",
        "Train your model\n",
        "\n",
        "Tasks:\n",
        "- [ ] Things that are needed to be printed in each epoch:\n",
        "  - Number of epoch\n",
        "  - Train loss\n",
        "  - Validation loss\n",
        "- [ ] save train/validation loss (of each epoch) in an array for later usage"
      ],
      "metadata": {
        "id": "P_ef2VVkZHpj"
      }
    },
    {
      "cell_type": "code",
      "source": [
        "#TODO"
      ],
      "metadata": {
        "colab": {
          "base_uri": "https://localhost:8080/"
        },
        "id": "7BC2acuYZH0j",
        "outputId": "813dc792-19f9-47ea-f65d-ceb1553aef10"
      },
      "execution_count": 66,
      "outputs": [
        {
          "output_type": "stream",
          "name": "stderr",
          "text": [
            "Epoch 1/20: 100%|██████████| 1018/1018 [00:04<00:00, 237.81it/s, loss=0.0309]\n",
            "Loss: 2.526e-01: 100%|██████████| 142/142 [00:00<00:00, 511.29it/s]\n",
            "Epoch 2/20: 100%|██████████| 1018/1018 [00:04<00:00, 217.69it/s, loss=0.167]\n",
            "Loss: 2.482e-01: 100%|██████████| 142/142 [00:00<00:00, 431.67it/s]\n",
            "Epoch 3/20: 100%|██████████| 1018/1018 [00:04<00:00, 236.52it/s, loss=0.0646]\n",
            "Loss: 2.570e-01: 100%|██████████| 142/142 [00:00<00:00, 450.34it/s]\n",
            "Epoch 4/20: 100%|██████████| 1018/1018 [00:04<00:00, 239.60it/s, loss=0.185]\n",
            "Loss: 2.457e-01: 100%|██████████| 142/142 [00:00<00:00, 443.34it/s]\n",
            "Epoch 5/20: 100%|██████████| 1018/1018 [00:04<00:00, 227.71it/s, loss=0.066]\n",
            "Loss: 2.428e-01: 100%|██████████| 142/142 [00:00<00:00, 448.96it/s]\n",
            "Epoch 6/20: 100%|██████████| 1018/1018 [00:04<00:00, 229.96it/s, loss=0.613]\n",
            "Loss: 2.457e-01: 100%|██████████| 142/142 [00:00<00:00, 365.45it/s]\n",
            "Epoch 7/20: 100%|██████████| 1018/1018 [00:04<00:00, 247.10it/s, loss=0.0876]\n",
            "Loss: 2.429e-01: 100%|██████████| 142/142 [00:00<00:00, 414.81it/s]\n",
            "Epoch 8/20: 100%|██████████| 1018/1018 [00:04<00:00, 231.73it/s, loss=0.122]\n",
            "Loss: 2.438e-01: 100%|██████████| 142/142 [00:00<00:00, 508.89it/s]\n",
            "Epoch 9/20: 100%|██████████| 1018/1018 [00:04<00:00, 228.83it/s, loss=0.327]\n",
            "Loss: 2.431e-01: 100%|██████████| 142/142 [00:00<00:00, 410.97it/s]\n",
            "Epoch 10/20: 100%|██████████| 1018/1018 [00:04<00:00, 239.03it/s, loss=0.17]\n",
            "Loss: 2.468e-01: 100%|██████████| 142/142 [00:00<00:00, 497.04it/s]\n",
            "Epoch 11/20: 100%|██████████| 1018/1018 [00:04<00:00, 226.92it/s, loss=0.0595]\n",
            "Loss: 2.457e-01: 100%|██████████| 142/142 [00:00<00:00, 330.69it/s]\n",
            "Epoch 12/20: 100%|██████████| 1018/1018 [00:04<00:00, 218.25it/s, loss=0.3]\n",
            "Loss: 2.458e-01: 100%|██████████| 142/142 [00:00<00:00, 357.30it/s]\n",
            "Epoch 13/20: 100%|██████████| 1018/1018 [00:04<00:00, 236.83it/s, loss=0.2]\n",
            "Loss: 2.444e-01: 100%|██████████| 142/142 [00:00<00:00, 357.78it/s]\n",
            "Epoch 14/20: 100%|██████████| 1018/1018 [00:06<00:00, 161.51it/s, loss=0.0433]\n",
            "Loss: 2.485e-01: 100%|██████████| 142/142 [00:00<00:00, 402.86it/s]\n",
            "Epoch 15/20: 100%|██████████| 1018/1018 [00:04<00:00, 240.60it/s, loss=0.0702]\n",
            "Loss: 2.407e-01: 100%|██████████| 142/142 [00:00<00:00, 442.71it/s]\n",
            "Epoch 16/20: 100%|██████████| 1018/1018 [00:04<00:00, 227.28it/s, loss=0.483]\n",
            "Loss: 2.497e-01: 100%|██████████| 142/142 [00:00<00:00, 454.39it/s]\n",
            "Epoch 17/20: 100%|██████████| 1018/1018 [00:04<00:00, 208.64it/s, loss=0.129]\n",
            "Loss: 2.448e-01: 100%|██████████| 142/142 [00:00<00:00, 489.13it/s]\n",
            "Epoch 18/20: 100%|██████████| 1018/1018 [00:05<00:00, 201.60it/s, loss=0.539]\n",
            "Loss: 2.430e-01: 100%|██████████| 142/142 [00:00<00:00, 455.54it/s]\n",
            "Epoch 19/20: 100%|██████████| 1018/1018 [00:04<00:00, 235.13it/s, loss=0.127]\n",
            "Loss: 2.435e-01: 100%|██████████| 142/142 [00:00<00:00, 465.58it/s]\n",
            "Epoch 20/20: 100%|██████████| 1018/1018 [00:04<00:00, 225.37it/s, loss=0.313]\n",
            "Loss: 2.473e-01: 100%|██████████| 142/142 [00:00<00:00, 333.48it/s]\n"
          ]
        }
      ]
    },
    {
      "cell_type": "markdown",
      "source": [
        "### Visualize Loss plot\n",
        "\n",
        "Using the arrays that you have (from previous task in the above section), visualize Loss plot (train and validation together)"
      ],
      "metadata": {
        "id": "OIFKhbNweZzc"
      }
    },
    {
      "cell_type": "code",
      "source": [
        "#TODO"
      ],
      "metadata": {
        "colab": {
          "base_uri": "https://localhost:8080/",
          "height": 452
        },
        "id": "-uTbAB5YemMp",
        "outputId": "c788e62e-3784-4882-c780-4fd58135eba1"
      },
      "execution_count": 67,
      "outputs": [
        {
          "output_type": "display_data",
          "data": {
            "text/plain": [
              "<Figure size 640x480 with 1 Axes>"
            ],
            "image/png": "[encoded data removed]"
          },
          "metadata": {}
        }
      ]
    },
    {
      "cell_type": "markdown",
      "source": [
        "## Evaluation\n",
        "\n",
        "Test your trained model (using the Test Dataloader that you have)."
      ],
      "metadata": {
        "id": "MRo2s0wMakLe"
      }
    },
    {
      "cell_type": "code",
      "source": [
        "#TODO"
      ],
      "metadata": {
        "colab": {
          "base_uri": "https://localhost:8080/"
        },
        "id": "6TplSeYPakTT",
        "outputId": "fee4dbf4-6a55-423f-d051-262cbbac427b"
      },
      "execution_count": 68,
      "outputs": [
        {
          "output_type": "stream",
          "name": "stdout",
          "text": [
            "Accuracy: 89.11280412877856%\n"
          ]
        }
      ]
    }
  ]
}