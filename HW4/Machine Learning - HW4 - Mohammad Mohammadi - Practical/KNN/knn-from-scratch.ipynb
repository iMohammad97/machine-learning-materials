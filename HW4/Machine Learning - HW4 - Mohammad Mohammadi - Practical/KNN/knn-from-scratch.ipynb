{
  "cells": [
    {
      "cell_type": "markdown",
      "metadata": {
        "id": "UcDgneyIIQAZ"
      },
      "source": [
        "# Practicel ML - KNN"
      ]
    },
    {
      "cell_type": "markdown",
      "metadata": {
        "id": "4FnK7NIlIQAb"
      },
      "source": [
        "### Full Name : Mohammad Mohammadi\n",
        "### Student Number : 402208592"
      ]
    },
    {
      "cell_type": "markdown",
      "metadata": {
        "id": "kYuIIbYcIQAc"
      },
      "source": [
        "In this Notebook, we will implement KNN for the given dataset. This notebook has 3 phases, in the first phase we explore dataset, in the second phase we preprocess the dataset and in the last phase we implement KNN from scratch and also with sklearn and train it on the dataset."
      ]
    },
    {
      "cell_type": "code",
      "execution_count": 1,
      "metadata": {
        "id": "MfLXWn9DIQAc"
      },
      "outputs": [],
      "source": [
        "import numpy as np\n",
        "import pandas as pd\n",
        "import matplotlib.pyplot as plt\n",
        "import seaborn as sns\n",
        "from sklearn.model_selection import train_test_split\n",
        "from sklearn.preprocessing import LabelEncoder"
      ]
    },
    {
      "cell_type": "markdown",
      "metadata": {
        "id": "QtiultsIIQAd"
      },
      "source": [
        "Inspect the first rows of the dataframe"
      ]
    },
    {
      "cell_type": "code",
      "execution_count": 2,
      "metadata": {
        "colab": {
          "base_uri": "https://localhost:8080/"
        },
        "id": "qNrAWvGIIQAe",
        "outputId": "e3a3a8c5-bb70-4887-a1d9-fc96be226484"
      },
      "outputs": [
        {
          "output_type": "stream",
          "name": "stdout",
          "text": [
            "   Age Attrition BusinessTravel  DailyRate              Department  \\\n",
            "0   29        No  Travel_Rarely        592  Research & Development   \n",
            "1   36        No  Travel_Rarely        884                   Sales   \n",
            "2   34        No  Travel_Rarely       1326                   Sales   \n",
            "3   27        No  Travel_Rarely        954                   Sales   \n",
            "4   32        No  Travel_Rarely        929                   Sales   \n",
            "\n",
            "   DistanceFromHome  Education EducationField  EmployeeCount  EmployeeNumber  \\\n",
            "0                 7          3  Life Sciences              1            1883   \n",
            "1                 1          4  Life Sciences              1            1585   \n",
            "2                 3          3          Other              1            1478   \n",
            "3                 9          3      Marketing              1            1965   \n",
            "4                10          3      Marketing              1             722   \n",
            "\n",
            "   ...  RelationshipSatisfaction StandardHours  StockOptionLevel  \\\n",
            "0  ...                         2            80                 0   \n",
            "1  ...                         1            80                 0   \n",
            "2  ...                         4            80                 0   \n",
            "3  ...                         1            80                 0   \n",
            "4  ...                         4            80                 0   \n",
            "\n",
            "   TotalWorkingYears  TrainingTimesLastYear WorkLifeBalance  YearsAtCompany  \\\n",
            "0                 11                      2               3               3   \n",
            "1                 15                      5               3               1   \n",
            "2                 15                      2               3              13   \n",
            "3                  7                      5               3               7   \n",
            "4                 10                      2               2              10   \n",
            "\n",
            "  YearsInCurrentRole  YearsSinceLastPromotion  YearsWithCurrManager  \n",
            "0                  2                        1                     2  \n",
            "1                  0                        0                     0  \n",
            "2                  9                        3                    12  \n",
            "3                  7                        0                     7  \n",
            "4                  7                        0                     8  \n",
            "\n",
            "[5 rows x 35 columns]\n"
          ]
        }
      ],
      "source": [
        "df = pd.read_csv('train.csv')\n",
        "print(df.head())"
      ]
    },
    {
      "cell_type": "markdown",
      "metadata": {
        "id": "68d3MZ5nIQAe"
      },
      "source": [
        "Calculate the number of samples"
      ]
    },
    {
      "cell_type": "code",
      "execution_count": 3,
      "metadata": {
        "colab": {
          "base_uri": "https://localhost:8080/"
        },
        "id": "gZ-8FEnMIQAe",
        "outputId": "615560d0-0621-44b9-b3e9-7fa9562a5cdc"
      },
      "outputs": [
        {
          "output_type": "stream",
          "name": "stdout",
          "text": [
            "The number of samples in the dataset: 1102\n"
          ]
        }
      ],
      "source": [
        "num_samples = df.shape[0]\n",
        "print(f'The number of samples in the dataset: {num_samples}')"
      ]
    },
    {
      "cell_type": "markdown",
      "metadata": {
        "id": "pdJXGayPIQAf"
      },
      "source": [
        "Measure the number of unique values for each column. Note that Attrition is the target column."
      ]
    },
    {
      "cell_type": "code",
      "execution_count": 4,
      "metadata": {
        "colab": {
          "base_uri": "https://localhost:8080/"
        },
        "id": "YGg4wkcvIQAf",
        "outputId": "1496ba48-463c-470a-dbb0-ec04392a3ddd"
      },
      "outputs": [
        {
          "output_type": "stream",
          "name": "stdout",
          "text": [
            "Age                           43\n",
            "Attrition                      2\n",
            "BusinessTravel                 3\n",
            "DailyRate                    736\n",
            "Department                     3\n",
            "DistanceFromHome              29\n",
            "Education                      5\n",
            "EducationField                 6\n",
            "EmployeeCount                  1\n",
            "EmployeeNumber              1102\n",
            "EnvironmentSatisfaction        4\n",
            "Gender                         2\n",
            "HourlyRate                    71\n",
            "JobInvolvement                 4\n",
            "JobLevel                       5\n",
            "JobRole                        9\n",
            "JobSatisfaction                4\n",
            "MaritalStatus                  3\n",
            "MonthlyIncome               1027\n",
            "MonthlyRate                 1082\n",
            "NumCompaniesWorked            10\n",
            "Over18                         1\n",
            "OverTime                       2\n",
            "PercentSalaryHike             15\n",
            "PerformanceRating              2\n",
            "RelationshipSatisfaction       4\n",
            "StandardHours                  1\n",
            "StockOptionLevel               4\n",
            "TotalWorkingYears             40\n",
            "TrainingTimesLastYear          7\n",
            "WorkLifeBalance                4\n",
            "YearsAtCompany                34\n",
            "YearsInCurrentRole            19\n",
            "YearsSinceLastPromotion       16\n",
            "YearsWithCurrManager          17\n",
            "dtype: int64\n"
          ]
        }
      ],
      "source": [
        "unique_values = df.nunique()\n",
        "print(unique_values)"
      ]
    },
    {
      "cell_type": "markdown",
      "metadata": {
        "id": "FTF_MGzIIQAf"
      },
      "source": [
        "Check if there is a column with less than two unique values. If such a columns exists, remove it!"
      ]
    },
    {
      "cell_type": "code",
      "execution_count": 5,
      "metadata": {
        "colab": {
          "base_uri": "https://localhost:8080/"
        },
        "id": "RG8sgl07IQAg",
        "outputId": "c0f38cde-d4d5-4d33-e98e-9f07f53d2c2d"
      },
      "outputs": [
        {
          "output_type": "stream",
          "name": "stdout",
          "text": [
            "Removed columns: Index(['EmployeeCount', 'Over18', 'StandardHours'], dtype='object')\n"
          ]
        }
      ],
      "source": [
        "columns_to_remove = unique_values[unique_values < 2].index\n",
        "df = df.drop(columns=columns_to_remove)\n",
        "\n",
        "print(f'Removed columns: {columns_to_remove}')"
      ]
    },
    {
      "cell_type": "markdown",
      "metadata": {
        "id": "DcKYdwucIQAg"
      },
      "source": [
        "Plot Mean BusinessTravel against Age. Note: Since the BusinessTravel column is categorical, you should first consider another column corresponding to each unique value BusinessTravel takes. For instance, you may assume that if someone does not travel, the value of the column for this person is 0."
      ]
    },
    {
      "cell_type": "code",
      "execution_count": 8,
      "metadata": {
        "colab": {
          "base_uri": "https://localhost:8080/"
        },
        "id": "_csArwglIQAg",
        "outputId": "80b48c65-b517-41ca-9069-8459cdc0e374"
      },
      "outputs": [
        {
          "output_type": "stream",
          "name": "stdout",
          "text": [
            "   Age Attrition BusinessTravel  DailyRate              Department  \\\n",
            "0   29        No  Travel_Rarely        592  Research & Development   \n",
            "1   36        No  Travel_Rarely        884                   Sales   \n",
            "2   34        No  Travel_Rarely       1326                   Sales   \n",
            "3   27        No  Travel_Rarely        954                   Sales   \n",
            "4   32        No  Travel_Rarely        929                   Sales   \n",
            "\n",
            "   DistanceFromHome  Education EducationField  EmployeeNumber  \\\n",
            "0                 7          3  Life Sciences            1883   \n",
            "1                 1          4  Life Sciences            1585   \n",
            "2                 3          3          Other            1478   \n",
            "3                 9          3      Marketing            1965   \n",
            "4                10          3      Marketing             722   \n",
            "\n",
            "   EnvironmentSatisfaction  ... TrainingTimesLastYear  WorkLifeBalance  \\\n",
            "0                        4  ...                     2                3   \n",
            "1                        2  ...                     5                3   \n",
            "2                        4  ...                     2                3   \n",
            "3                        4  ...                     5                3   \n",
            "4                        4  ...                     2                2   \n",
            "\n",
            "   YearsAtCompany  YearsInCurrentRole YearsSinceLastPromotion  \\\n",
            "0               3                   2                       1   \n",
            "1               1                   0                       0   \n",
            "2              13                   9                       3   \n",
            "3               7                   7                       0   \n",
            "4              10                   7                       0   \n",
            "\n",
            "   YearsWithCurrManager BusinessTravel_Mapped  BusinessTravel_Non-Travel  \\\n",
            "0                     2                     1                      False   \n",
            "1                     0                     1                      False   \n",
            "2                    12                     1                      False   \n",
            "3                     7                     1                      False   \n",
            "4                     8                     1                      False   \n",
            "\n",
            "   BusinessTravel_Travel_Frequently  BusinessTravel_Travel_Rarely  \n",
            "0                             False                          True  \n",
            "1                             False                          True  \n",
            "2                             False                          True  \n",
            "3                             False                          True  \n",
            "4                             False                          True  \n",
            "\n",
            "[5 rows x 36 columns]\n"
          ]
        }
      ],
      "source": [
        "business_travel_dummies = pd.get_dummies(df['BusinessTravel'], prefix='BusinessTravel')\n",
        "df = pd.concat([df, business_travel_dummies], axis=1)\n",
        "\n",
        "print(df.head())"
      ]
    },
    {
      "cell_type": "code",
      "execution_count": 9,
      "metadata": {
        "colab": {
          "base_uri": "https://localhost:8080/"
        },
        "id": "ofD0KzLoIQAh",
        "outputId": "96bf0706-2e0b-4c65-ffbc-a7e9c5109bea"
      },
      "outputs": [
        {
          "output_type": "stream",
          "name": "stdout",
          "text": [
            "  BusinessTravel  BusinessTravel_Mapped\n",
            "0  Travel_Rarely                      1\n",
            "1  Travel_Rarely                      1\n",
            "2  Travel_Rarely                      1\n",
            "3  Travel_Rarely                      1\n",
            "4  Travel_Rarely                      1\n"
          ]
        }
      ],
      "source": [
        "business_travel_map = {\n",
        "    'Non-Travel': 0,\n",
        "    'Travel_Rarely': 1,\n",
        "    'Travel_Frequently': 2\n",
        "}\n",
        "df['BusinessTravel_Mapped'] = df['BusinessTravel'].map(business_travel_map)\n",
        "\n",
        "print(df[['BusinessTravel', 'BusinessTravel_Mapped']].head())"
      ]
    },
    {
      "cell_type": "code",
      "execution_count": 10,
      "metadata": {
        "colab": {
          "base_uri": "https://localhost:8080/",
          "height": 564
        },
        "id": "BjLRsKesIQAh",
        "outputId": "7ba9089b-0fa9-4655-d31f-272a432ed40e"
      },
      "outputs": [
        {
          "output_type": "display_data",
          "data": {
            "text/plain": [
              "<Figure size 1000x600 with 1 Axes>"
            ],
            "image/png": "[encoded data removed]"
          },
          "metadata": {}
        }
      ],
      "source": [
        "mean_age_by_travel = df.groupby('BusinessTravel')['Age'].mean().reset_index()\n",
        "\n",
        "plt.figure(figsize=(10, 6))\n",
        "sns.barplot(x='BusinessTravel', y='Age', data=mean_age_by_travel)\n",
        "plt.title('Mean Age by Business Travel')\n",
        "plt.xlabel('Business Travel')\n",
        "plt.ylabel('Mean Age')\n",
        "plt.show()"
      ]
    },
    {
      "cell_type": "markdown",
      "metadata": {
        "id": "qfSsh7mvIQAh"
      },
      "source": [
        "Check if there seems to be a meaningful relationship between people's age and the years they have worked with their current manager. Your result should be a plot."
      ]
    },
    {
      "cell_type": "code",
      "execution_count": 11,
      "metadata": {
        "colab": {
          "base_uri": "https://localhost:8080/",
          "height": 581
        },
        "id": "EvHkYfyxIQAi",
        "outputId": "22bc09ab-e79e-41ec-fb41-f4295531ad85"
      },
      "outputs": [
        {
          "output_type": "display_data",
          "data": {
            "text/plain": [
              "<Figure size 1000x600 with 1 Axes>"
            ],
            "image/png": "[encoded data removed]"
          },
          "metadata": {}
        },
        {
          "output_type": "stream",
          "name": "stdout",
          "text": [
            "Correlation between Age and Years with Current Manager: 0.20\n"
          ]
        }
      ],
      "source": [
        "plt.figure(figsize=(10, 6))\n",
        "sns.scatterplot(x='Age', y='YearsWithCurrManager', data=df)\n",
        "plt.title('Relationship between Age and Years with Current Manager')\n",
        "plt.xlabel('Age')\n",
        "plt.ylabel('Years with Current Manager')\n",
        "plt.show()\n",
        "\n",
        "# Calculate and display the correlation\n",
        "correlation = df['Age'].corr(df['YearsWithCurrManager'])\n",
        "print(f'Correlation between Age and Years with Current Manager: {correlation:.2f}')"
      ]
    },
    {
      "cell_type": "markdown",
      "metadata": {
        "id": "fysOhAdCIQAi"
      },
      "source": [
        "Plot the average MonthlyIncome against the YearsAtCompany."
      ]
    },
    {
      "cell_type": "code",
      "execution_count": 13,
      "metadata": {
        "colab": {
          "base_uri": "https://localhost:8080/",
          "height": 564
        },
        "id": "AgNplw8wIQAi",
        "outputId": "46531bcd-a43f-4fe0-a7a3-b7012457dc27"
      },
      "outputs": [
        {
          "output_type": "display_data",
          "data": {
            "text/plain": [
              "<Figure size 1000x600 with 1 Axes>"
            ],
            "image/png": "[encoded data removed]"
          },
          "metadata": {}
        }
      ],
      "source": [
        "average_income_by_years = df.groupby('YearsAtCompany')['MonthlyIncome'].mean().reset_index()\n",
        "\n",
        "plt.figure(figsize=(10, 6))\n",
        "sns.lineplot(x='YearsAtCompany', y='MonthlyIncome', data=average_income_by_years, marker='o')\n",
        "plt.title('Average Monthly Income by Years at Company')\n",
        "plt.xlabel('Years at Company')\n",
        "plt.ylabel('Average Monthly Income')\n",
        "plt.show()"
      ]
    },
    {
      "cell_type": "markdown",
      "metadata": {
        "id": "r8dGmGuMIQAi"
      },
      "source": [
        "## Preprocessing"
      ]
    },
    {
      "cell_type": "markdown",
      "metadata": {
        "id": "w3h2WiylIQAj"
      },
      "source": [
        "Label encode all categorical columns and split the data into train and test parts. The training part will further splitted into train and validation parts."
      ]
    },
    {
      "cell_type": "code",
      "execution_count": 14,
      "metadata": {
        "colab": {
          "base_uri": "https://localhost:8080/"
        },
        "id": "YEppv4E1IQAj",
        "outputId": "7ec94b6e-b093-4452-a6fb-d0c980762c92"
      },
      "outputs": [
        {
          "output_type": "stream",
          "name": "stdout",
          "text": [
            "   Age  Attrition  BusinessTravel  DailyRate  Department  DistanceFromHome  \\\n",
            "0   29          0               2        592           1                 7   \n",
            "1   36          0               2        884           2                 1   \n",
            "2   34          0               2       1326           2                 3   \n",
            "3   27          0               2        954           2                 9   \n",
            "4   32          0               2        929           2                10   \n",
            "\n",
            "   Education  EducationField  EmployeeNumber  EnvironmentSatisfaction  ...  \\\n",
            "0          3               1            1883                        4  ...   \n",
            "1          4               1            1585                        2  ...   \n",
            "2          3               4            1478                        4  ...   \n",
            "3          3               2            1965                        4  ...   \n",
            "4          3               2             722                        4  ...   \n",
            "\n",
            "   TrainingTimesLastYear  WorkLifeBalance  YearsAtCompany  YearsInCurrentRole  \\\n",
            "0                      2                3               3                   2   \n",
            "1                      5                3               1                   0   \n",
            "2                      2                3              13                   9   \n",
            "3                      5                3               7                   7   \n",
            "4                      2                2              10                   7   \n",
            "\n",
            "   YearsSinceLastPromotion  YearsWithCurrManager  BusinessTravel_Mapped  \\\n",
            "0                        1                     2                      1   \n",
            "1                        0                     0                      1   \n",
            "2                        3                    12                      1   \n",
            "3                        0                     7                      1   \n",
            "4                        0                     8                      1   \n",
            "\n",
            "   BusinessTravel_Non-Travel  BusinessTravel_Travel_Frequently  \\\n",
            "0                      False                             False   \n",
            "1                      False                             False   \n",
            "2                      False                             False   \n",
            "3                      False                             False   \n",
            "4                      False                             False   \n",
            "\n",
            "   BusinessTravel_Travel_Rarely  \n",
            "0                          True  \n",
            "1                          True  \n",
            "2                          True  \n",
            "3                          True  \n",
            "4                          True  \n",
            "\n",
            "[5 rows x 36 columns]\n"
          ]
        }
      ],
      "source": [
        "# Label encode\n",
        "categorical_columns = df.select_dtypes(include=['object']).columns\n",
        "le = LabelEncoder()\n",
        "for column in categorical_columns:\n",
        "    df[column] = le.fit_transform(df[column])\n",
        "\n",
        "print(df.head())"
      ]
    },
    {
      "cell_type": "code",
      "execution_count": 17,
      "metadata": {
        "id": "eKOvjnF7IQAk"
      },
      "outputs": [],
      "source": [
        "# split into train and validation\n",
        "target = 'Attrition'\n",
        "\n",
        "X = df.drop(columns=[target])\n",
        "y = df[target]\n",
        "\n",
        "X_train, X_test, y_train, y_test = train_test_split(X, y, test_size=0.2, random_state=42)\n",
        "\n",
        "X_train, X_val, y_train, y_val = train_test_split(X_train, y_train, test_size=0.25, random_state=42)"
      ]
    },
    {
      "cell_type": "code",
      "execution_count": 18,
      "metadata": {
        "colab": {
          "base_uri": "https://localhost:8080/"
        },
        "id": "Atp6pvMuIQAk",
        "outputId": "d950609f-b48b-4e61-86d8-da230eacd575"
      },
      "outputs": [
        {
          "output_type": "stream",
          "name": "stdout",
          "text": [
            "Length of training set: 660\n",
            "Length of validation set: 221\n",
            "Length of test set: 221\n"
          ]
        }
      ],
      "source": [
        "# lens of train and validation datasets\n",
        "print(f'Length of training set: {len(X_train)}')\n",
        "print(f'Length of validation set: {len(X_val)}')\n",
        "print(f'Length of test set: {len(X_test)}')"
      ]
    },
    {
      "cell_type": "markdown",
      "metadata": {
        "id": "8FkIUwEVIQAk"
      },
      "source": [
        "Split the test and validation dataframe into feature and label part, Attrition columns is the target columns and rest of the columns should be treated as features. (Note that win_or_defeat column is the target column)"
      ]
    },
    {
      "cell_type": "code",
      "execution_count": 19,
      "metadata": {
        "colab": {
          "base_uri": "https://localhost:8080/"
        },
        "id": "5tvLc3rlIQAk",
        "outputId": "3c1efd7f-257b-4a2c-da0d-04df2cd392ef"
      },
      "outputs": [
        {
          "output_type": "stream",
          "name": "stdout",
          "text": [
            "Train features shape: (660, 35)\n",
            "Train labels shape: (660,)\n",
            "Validation features shape: (221, 35)\n",
            "Validation labels shape: (221,)\n",
            "Test features shape: (221, 35)\n",
            "Test labels shape: (221,)\n"
          ]
        }
      ],
      "source": [
        "# training data\n",
        "X_train_features = X_train.copy()\n",
        "y_train_labels = y_train.copy()\n",
        "\n",
        "# Validation data\n",
        "X_val_features = X_val.copy()\n",
        "y_val_labels = y_val.copy()\n",
        "\n",
        "# Test data\n",
        "X_test_features = X_test.copy()\n",
        "y_test_labels = y_test.copy()\n",
        "\n",
        "print(\"Train features shape:\", X_train_features.shape)\n",
        "print(\"Train labels shape:\", y_train_labels.shape)\n",
        "print(\"Validation features shape:\", X_val_features.shape)\n",
        "print(\"Validation labels shape:\", y_val_labels.shape)\n",
        "print(\"Test features shape:\", X_test_features.shape)\n",
        "print(\"Test labels shape:\", y_test_labels.shape)"
      ]
    },
    {
      "cell_type": "markdown",
      "metadata": {
        "id": "yVGJV_XFIQAk"
      },
      "source": [
        "\n",
        "# Model Implementation From Scratch\n",
        "  "
      ]
    },
    {
      "cell_type": "markdown",
      "metadata": {
        "id": "D3kUbTVuIQAk"
      },
      "source": [
        "\n",
        "\n",
        "## How the algorithm works\n",
        "\n",
        "**We calculate the euclidean distance between a new sample and all points**\n",
        "\n",
        "**We determine the label of the sample based on the majority vote**\n",
        "\n",
        "## Key Points:\n",
        "\n",
        "### Euclidean Distance\n",
        "**Euclidean distance is defined as the distance between two points**\n",
        "\n",
        "**Where it's represented by this equation :\n",
        "$$\\sqrt{\\sum\\limits_{i = 0}^{m-1} (x - y)^2}$$**\n"
      ]
    },
    {
      "cell_type": "code",
      "execution_count": 20,
      "metadata": {
        "id": "6cQfHQstIQAl"
      },
      "outputs": [],
      "source": [
        "import numpy as np\n",
        "from collections import Counter\n",
        "\n",
        "class KNN:\n",
        "    def __init__(self, k=3):\n",
        "        \"\"\"\n",
        "        Initialize the KNN classifier.\n",
        "\n",
        "        Parameters:\n",
        "        - k (int): Number of neighbors to consider.\n",
        "        \"\"\"\n",
        "        self.k = k\n",
        "\n",
        "    def fit(self, X_train, y_train):\n",
        "        \"\"\"\n",
        "        Fit the KNN classifier to the training data.\n",
        "\n",
        "        Parameters:\n",
        "        - X_train (DataFrame): Training feature vectors.\n",
        "        - y_train (Series): Training labels.\n",
        "        \"\"\"\n",
        "        self.X_train = X_train.to_numpy()\n",
        "        self.y_train = y_train.to_numpy()\n",
        "\n",
        "    def euclidean_distance(self, x1, x2):\n",
        "        \"\"\"\n",
        "        Calculate the distance between two data points.\n",
        "\n",
        "        Parameters:\n",
        "        - x1 (numpy array): First data point.\n",
        "        - x2 (numpy array): Second data point.\n",
        "\n",
        "        Returns:\n",
        "        - float: Distance between x1 and x2.\n",
        "        \"\"\"\n",
        "        return np.sqrt(np.sum((x1 - x2) ** 2))\n",
        "\n",
        "    def predict(self, X_test):\n",
        "        \"\"\"\n",
        "        Predict labels for test data.\n",
        "\n",
        "        Parameters:\n",
        "        - X_test (DataFrame): Test feature vectors.\n",
        "\n",
        "        Returns:\n",
        "        - numpy array: Predicted labels.\n",
        "        \"\"\"\n",
        "        X_test = X_test.to_numpy()\n",
        "        y_pred = [self._predict(x) for x in X_test]\n",
        "        return np.array(y_pred)\n",
        "\n",
        "    def _predict(self, x):\n",
        "        \"\"\"\n",
        "        Predict label for a single data point.\n",
        "\n",
        "        Parameters:\n",
        "        - x (numpy array): Test data point.\n",
        "\n",
        "        Returns:\n",
        "        - int: Predicted label.\n",
        "        \"\"\"\n",
        "        distances = [self.euclidean_distance(x, x_train) for x_train in self.X_train]\n",
        "        k_indices = np.argsort(distances)[:self.k]\n",
        "        k_nearest_labels = [self.y_train[i] for i in k_indices]\n",
        "        most_common = Counter(k_nearest_labels).most_common(1)\n",
        "        return most_common[0][0]\n",
        "\n"
      ]
    },
    {
      "cell_type": "markdown",
      "metadata": {
        "id": "MWWTj211IQAl"
      },
      "source": [
        "\n",
        "# Evaluation\n",
        "  "
      ]
    },
    {
      "cell_type": "markdown",
      "metadata": {
        "id": "3JN2ABekIQAl"
      },
      "source": [
        "Define the model and train it."
      ]
    },
    {
      "cell_type": "code",
      "execution_count": 24,
      "metadata": {
        "id": "XKoiITUEIQAl"
      },
      "outputs": [],
      "source": [
        "knn = KNN(k=3)\n",
        "knn.fit(X_train_features, y_train_labels)"
      ]
    },
    {
      "cell_type": "markdown",
      "metadata": {
        "id": "6HlnE1JRIQAl"
      },
      "source": [
        "Predict the y_train and y_test values."
      ]
    },
    {
      "cell_type": "code",
      "execution_count": 25,
      "metadata": {
        "execution": {
          "iopub.execute_input": "2024-05-03T18:25:54.258208Z",
          "iopub.status.busy": "2024-05-03T18:25:54.257748Z",
          "iopub.status.idle": "2024-05-03T18:26:07.523176Z",
          "shell.execute_reply": "2024-05-03T18:26:07.522071Z",
          "shell.execute_reply.started": "2024-05-03T18:25:54.258172Z"
        },
        "colab": {
          "base_uri": "https://localhost:8080/"
        },
        "id": "D8PnjZc0IQAl",
        "outputId": "78b5936c-f95a-4956-dbbf-d84e9060577b"
      },
      "outputs": [
        {
          "output_type": "stream",
          "name": "stdout",
          "text": [
            "Train Accuracy: 0.8727272727272727\n",
            "Test Accuracy: 0.755656108597285\n",
            "Validation Accuracy: 0.755656108597285\n"
          ]
        }
      ],
      "source": [
        "y_train_pred = knn.predict(X_train_features)\n",
        "y_test_pred = knn.predict(X_test_features)\n",
        "y_val_pred = knn.predict(X_val_features)\n",
        "\n",
        "train_accuracy = np.sum(y_train_pred == y_train_labels.to_numpy()) / len(y_train_labels)\n",
        "test_accuracy = np.sum(y_test_pred == y_test_labels.to_numpy()) / len(y_test_labels)\n",
        "val_accuracy = np.sum(y_val_pred == y_val_labels.to_numpy()) / len(y_val_labels)\n",
        "\n",
        "print(f'Train Accuracy: {train_accuracy}')\n",
        "print(f'Test Accuracy: {test_accuracy}')\n",
        "print(f'Validation Accuracy: {test_accuracy}')"
      ]
    },
    {
      "cell_type": "markdown",
      "metadata": {
        "id": "rrTi0QsiIQAm"
      },
      "source": [
        "# Sklearn Implementation\n",
        "  "
      ]
    },
    {
      "cell_type": "markdown",
      "metadata": {
        "id": "nwyIMOqAIQAm"
      },
      "source": [
        "Define the sklearn knn model and fit to the training data"
      ]
    },
    {
      "cell_type": "code",
      "execution_count": 28,
      "metadata": {
        "colab": {
          "base_uri": "https://localhost:8080/",
          "height": 74
        },
        "id": "Ed8sqeq0IQAn",
        "outputId": "47fb2c47-60fb-4205-cce5-15d5ca8c2741"
      },
      "outputs": [
        {
          "output_type": "execute_result",
          "data": {
            "text/plain": [
              "KNeighborsClassifier(n_neighbors=3)"
            ],
            "text/html": [
              "<style>#sk-container-id-1 {color: black;background-color: white;}#sk-container-id-1 pre{padding: 0;}#sk-container-id-1 div.sk-toggleable {background-color: white;}#sk-container-id-1 label.sk-toggleable__label {cursor: pointer;display: block;width: 100%;margin-bottom: 0;padding: 0.3em;box-sizing: border-box;text-align: center;}#sk-container-id-1 label.sk-toggleable__label-arrow:before {content: \"▸\";float: left;margin-right: 0.25em;color: #696969;}#sk-container-id-1 label.sk-toggleable__label-arrow:hover:before {color: black;}#sk-container-id-1 div.sk-estimator:hover label.sk-toggleable__label-arrow:before {color: black;}#sk-container-id-1 div.sk-toggleable__content {max-height: 0;max-width: 0;overflow: hidden;text-align: left;background-color: #f0f8ff;}#sk-container-id-1 div.sk-toggleable__content pre {margin: 0.2em;color: black;border-radius: 0.25em;background-color: #f0f8ff;}#sk-container-id-1 input.sk-toggleable__control:checked~div.sk-toggleable__content {max-height: 200px;max-width: 100%;overflow: auto;}#sk-container-id-1 input.sk-toggleable__control:checked~label.sk-toggleable__label-arrow:before {content: \"▾\";}#sk-container-id-1 div.sk-estimator input.sk-toggleable__control:checked~label.sk-toggleable__label {background-color: #d4ebff;}#sk-container-id-1 div.sk-label input.sk-toggleable__control:checked~label.sk-toggleable__label {background-color: #d4ebff;}#sk-container-id-1 input.sk-hidden--visually {border: 0;clip: rect(1px 1px 1px 1px);clip: rect(1px, 1px, 1px, 1px);height: 1px;margin: -1px;overflow: hidden;padding: 0;position: absolute;width: 1px;}#sk-container-id-1 div.sk-estimator {font-family: monospace;background-color: #f0f8ff;border: 1px dotted black;border-radius: 0.25em;box-sizing: border-box;margin-bottom: 0.5em;}#sk-container-id-1 div.sk-estimator:hover {background-color: #d4ebff;}#sk-container-id-1 div.sk-parallel-item::after {content: \"\";width: 100%;border-bottom: 1px solid gray;flex-grow: 1;}#sk-container-id-1 div.sk-label:hover label.sk-toggleable__label {background-color: #d4ebff;}#sk-container-id-1 div.sk-serial::before {content: \"\";position: absolute;border-left: 1px solid gray;box-sizing: border-box;top: 0;bottom: 0;left: 50%;z-index: 0;}#sk-container-id-1 div.sk-serial {display: flex;flex-direction: column;align-items: center;background-color: white;padding-right: 0.2em;padding-left: 0.2em;position: relative;}#sk-container-id-1 div.sk-item {position: relative;z-index: 1;}#sk-container-id-1 div.sk-parallel {display: flex;align-items: stretch;justify-content: center;background-color: white;position: relative;}#sk-container-id-1 div.sk-item::before, #sk-container-id-1 div.sk-parallel-item::before {content: \"\";position: absolute;border-left: 1px solid gray;box-sizing: border-box;top: 0;bottom: 0;left: 50%;z-index: -1;}#sk-container-id-1 div.sk-parallel-item {display: flex;flex-direction: column;z-index: 1;position: relative;background-color: white;}#sk-container-id-1 div.sk-parallel-item:first-child::after {align-self: flex-end;width: 50%;}#sk-container-id-1 div.sk-parallel-item:last-child::after {align-self: flex-start;width: 50%;}#sk-container-id-1 div.sk-parallel-item:only-child::after {width: 0;}#sk-container-id-1 div.sk-dashed-wrapped {border: 1px dashed gray;margin: 0 0.4em 0.5em 0.4em;box-sizing: border-box;padding-bottom: 0.4em;background-color: white;}#sk-container-id-1 div.sk-label label {font-family: monospace;font-weight: bold;display: inline-block;line-height: 1.2em;}#sk-container-id-1 div.sk-label-container {text-align: center;}#sk-container-id-1 div.sk-container {/* jupyter's `normalize.less` sets `[hidden] { display: none; }` but bootstrap.min.css set `[hidden] { display: none !important; }` so we also need the `!important` here to be able to override the default hidden behavior on the sphinx rendered scikit-learn.org. See: https://github.com/scikit-learn/scikit-learn/issues/21755 */display: inline-block !important;position: relative;}#sk-container-id-1 div.sk-text-repr-fallback {display: none;}</style><div id=\"sk-container-id-1\" class=\"sk-top-container\"><div class=\"sk-text-repr-fallback\"><pre>KNeighborsClassifier(n_neighbors=3)</pre><b>In a Jupyter environment, please rerun this cell to show the HTML representation or trust the notebook. <br />On GitHub, the HTML representation is unable to render, please try loading this page with nbviewer.org.</b></div><div class=\"sk-container\" hidden><div class=\"sk-item\"><div class=\"sk-estimator sk-toggleable\"><input class=\"sk-toggleable__control sk-hidden--visually\" id=\"sk-estimator-id-1\" type=\"checkbox\" checked><label for=\"sk-estimator-id-1\" class=\"sk-toggleable__label sk-toggleable__label-arrow\">KNeighborsClassifier</label><div class=\"sk-toggleable__content\"><pre>KNeighborsClassifier(n_neighbors=3)</pre></div></div></div></div></div>"
            ]
          },
          "metadata": {},
          "execution_count": 28
        }
      ],
      "source": [
        "from sklearn.neighbors import KNeighborsClassifier\n",
        "\n",
        "knn_sklearn = KNeighborsClassifier(n_neighbors=3)\n",
        "knn_sklearn.fit(X_train_features, y_train_labels)"
      ]
    },
    {
      "cell_type": "markdown",
      "metadata": {
        "id": "QIy9u3hVIQAn"
      },
      "source": [
        "Now predict the defined model on test data and return the accuracy"
      ]
    },
    {
      "cell_type": "code",
      "source": [
        "from sklearn.metrics import accuracy_score\n",
        "y_test_pred_sklearn = knn_sklearn.predict(X_test_features)\n",
        "test_accuracy_sklearn = accuracy_score(y_test_labels, y_test_pred_sklearn)\n",
        "\n",
        "print(f'Accuracy: {test_accuracy_sklearn}')"
      ],
      "metadata": {
        "colab": {
          "base_uri": "https://localhost:8080/"
        },
        "id": "mvQBFU8wW5bB",
        "outputId": "14dfec9a-9e5e-46b6-944f-4835978f3a58"
      },
      "execution_count": 31,
      "outputs": [
        {
          "output_type": "stream",
          "name": "stdout",
          "text": [
            "Accuracy: 0.755656108597285\n"
          ]
        }
      ]
    },
    {
      "cell_type": "markdown",
      "metadata": {
        "id": "RDhglbzqIQAn"
      },
      "source": [
        "# Thank You\n",
        "\n",
        "\n",
        "**Thank you for taking your time going through this notebook**\n",
        "\n",
        "**If you have any feedback please let me know**"
      ]
    }
  ],
  "metadata": {
    "kaggle": {
      "accelerator": "none",
      "dataSources": [
        {
          "datasetId": 4932532,
          "sourceId": 8302851,
          "sourceType": "datasetVersion"
        }
      ],
      "dockerImageVersionId": 30260,
      "isGpuEnabled": false,
      "isInternetEnabled": true,
      "language": "python",
      "sourceType": "notebook"
    },
    "kernelspec": {
      "display_name": "Python 3 (ipykernel)",
      "language": "python",
      "name": "python3"
    },
    "language_info": {
      "codemirror_mode": {
        "name": "ipython",
        "version": 3
      },
      "file_extension": ".py",
      "mimetype": "text/x-python",
      "name": "python",
      "nbconvert_exporter": "python",
      "pygments_lexer": "ipython3",
      "version": "3.11.0"
    },
    "colab": {
      "provenance": []
    }
  },
  "nbformat": 4,
  "nbformat_minor": 0
}