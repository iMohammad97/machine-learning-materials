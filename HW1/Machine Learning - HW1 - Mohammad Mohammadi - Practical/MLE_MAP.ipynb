{
  "cells": [
    {
      "cell_type": "markdown",
      "metadata": {
        "id": "K1-izC4ZKHJ9"
      },
      "source": [
        "<h1 style=\"text-align: center\">\n",
        "Machine Learning </br>\n",
        "MLE & MAP in Python\n",
        "</h1>\n"
      ]
    },
    {
      "cell_type": "markdown",
      "metadata": {
        "id": "YhTuYwHYbE_1"
      },
      "source": [
        "## Objective\n",
        "This exercise will help you gain a deeper understanding of, and insights into, Maximum Likelihood Estimation (MLE) and Maximum A Posteriori (MAP) estimation$\\textit{Maximum Likelihood Estimation (MLE) and Maximum A Posteriori (MAP) }$ :) \\\\\n",
        "Let’s say you have a barrel of apples that are all different sizes. You pick an apple at random, and you want to know its weight. Unfortunately, all you have is a broken scale. answer the questions below."
      ]
    },
    {
      "cell_type": "markdown",
      "metadata": {
        "id": "eSaLb6AYa9DJ"
      },
      "source": [
        "1) For the sake of this section, lets imagine a farmer tells you that the scale returns the weight of the object with an error of +/- a standard deviation of 5g. We can describe this mathematically as:\n",
        "$$\n",
        "measurement = weight + \\mathcal{N}(0, 5g)\n",
        "$$\n",
        "You can weigh the apple as many times as you want, so weigh it 100 times.\n",
        "plot its histogram of your 100 measurements. (y axis is the counts and x-axis is the measured weight)"
      ]
    },
    {
      "cell_type": "code",
      "execution_count": 2,
      "metadata": {
        "id": "hPMnHTcia07a",
        "colab": {
          "base_uri": "https://localhost:8080/",
          "height": 564
        },
        "outputId": "7777880b-22e4-4fb3-e527-73607af6e3e6"
      },
      "outputs": [
        {
          "output_type": "display_data",
          "data": {
            "text/plain": [
              "<Figure size 1000x600 with 1 Axes>"
            ],
            "image/png": "[encoded data removed]"
          },
          "metadata": {}
        }
      ],
      "source": [
        "import numpy as np\n",
        "import matplotlib.pyplot as plt\n",
        "\n",
        "# Simulating weighing an apple 100 times with a scale that has an error of +/- 5g\n",
        "np.random.seed(0)\n",
        "true_weight = 200 # Assuming the true weight of the apple is 200\n",
        "std_deviation = 5 # Standard deviation of the scale error is +/- 5g\n",
        "\n",
        "# 100 measurements\n",
        "measurements = true_weight + np.random.randn(100) * std_deviation\n",
        "\n",
        "# Plotting the histogram\n",
        "plt.figure(figsize=(10, 6))\n",
        "plt.hist(measurements, bins=20, color='skyblue', edgecolor='black')\n",
        "plt.title('Histogram of 100 Times Apple Weighing Measurements')\n",
        "plt.xlabel('Measured Weight (g)')\n",
        "plt.ylabel('Counts')\n",
        "plt.grid(True)\n",
        "plt.show()"
      ]
    },
    {
      "cell_type": "markdown",
      "metadata": {
        "id": "HD9Mqy-bcPi5"
      },
      "source": [
        "2) Find the average weight of the apple.\n",
        "Is it a good guess? state your reason."
      ]
    },
    {
      "cell_type": "code",
      "execution_count": 3,
      "metadata": {
        "id": "xlCBTC0lcPKa",
        "colab": {
          "base_uri": "https://localhost:8080/"
        },
        "outputId": "3d931be3-d295-4ac6-ddb2-27a8d6a3b2dd"
      },
      "outputs": [
        {
          "output_type": "stream",
          "name": "stdout",
          "text": [
            "200.2990400776724\n"
          ]
        }
      ],
      "source": [
        "average_weight = measurements.mean()\n",
        "\n",
        "print(average_weight)"
      ]
    },
    {
      "cell_type": "markdown",
      "source": [
        "This average weight should be a good estimate of the true weight of the apple.\n",
        "\n",
        "Central Limit Theorem (CLT) says even though each measurement has some error (following a normal distribution with a standard deviation of 5g), the average of a large number of these measurements tends to be very close to the true mean thanks to the Central Limit Theorem.\n",
        "\n",
        "By averaging a large number of measurements, the random errors associated with individual measurements tend to cancel out eachother (for every positive error there will hopefully be a negative error with roughly same magnitude by high probability/chance), reducing the overall error in the estimate.\n",
        "\n",
        "**Ref to CLT:** https://sphweb.bumc.bu.edu/otlt/mph-modules/bs/bs704_probability/BS704_Probability12.html"
      ],
      "metadata": {
        "id": "01oqWBGlk8A2"
      }
    },
    {
      "cell_type": "markdown",
      "metadata": {
        "id": "y-P9PJuKcrbq"
      },
      "source": [
        "3) we are going to use grid approximation for calculating the MLE. here is the link if you wnat to get more fimilar with this technique:\n",
        "https://www.bayesrulesbook.com/chapter-6\n",
        "\n",
        "Our end goal is to find the weight of the apple, given the data we have. To formulate it in a Bayesian way: We’ll ask what is the probability of the apple having weight, $w$, given the measurements we took, $X$. And, because we're formulating this in a Bayesian way, we use Bayes’ Law to find the answer:\n",
        "\n",
        "$$\n",
        "P(w|X) = \\frac{P(X|w)P(w)}{P(X)}\n",
        "$$\n",
        "\n",
        "If we make no assumptions about the initial weight of our apple, then we can drop $P(w)$. We’ll say all sizes of apples are equally likely (we’ll revisit this assumption in the MAP approximation).\n",
        "\n",
        "Furthermore, we’ll drop $P(X)$ - the probability of seeing our data. This is a normalization constant and will be important if we do want to know the probabilities of apple weights. But, for right now, our end goal is to only to find the most probable weight. $P(X)$ is independent of $w$, so we can drop it if we’re doing relative comparisons.\n",
        "\n",
        "This leaves us with $P(X|w)$, our likelihood, as in, what is the likelihood that we would see the data, $X$, given an apple of weight $w$. If we maximize this, we maximize the probability that we will guess the right weight.\n",
        "\n",
        "The grid approximation is probably the simplest way to do this. Basically, we’ll systematically step through different weight guesses, and compare what it would look like if this hypothetical weight were to generate data. We’ll compare this hypothetical data to our real data and pick the one that matches the best.\n",
        "\n",
        "To formulate this mathematically:\n",
        "\n",
        "For each of these guesses, we’re asking \"what is the probability that the data we have, came from the distribution that our weight guess would generate\". Because each measurement is independent from another, we can break the above equation down into finding the probability on a per measurement basis:\n",
        "\n",
        "$$\n",
        "P(X|w) = \\prod_{i}^{N} p(x_i|w)\n",
        "$$\n",
        "\n",
        "So, if we multiply the probability that we would see each individual data point - given our weight guess - then we can find one number comparing our weight guess to all of our data.\n",
        "\n",
        "The peak in the likelihood is the weight of the apple.\n",
        "\n",
        "To make it computationally easier,\n",
        "\n",
        "$$\n",
        "\\log P(X|w) = \\log \\prod_{i}^{N} p(x_i|w) = \\sum_{i}^{N} \\log p(d_i|w)\n",
        "$$\n",
        "\n",
        "\n",
        "\n",
        "a) Why did we use log likelihood? Is it ok to do so?\n",
        "\n",
        "b) do the grid approximation and complete the cell below"
      ]
    },
    {
      "cell_type": "markdown",
      "source": [
        "**Answer to Part (a):**\n",
        "\n",
        "using log likelihood instead of the raw likelihood is perfectly acceptable and often preferred to do so.\n",
        "\n",
        "Some of thee reasons would be:\n",
        "\n",
        "The likelihood of observing all the data given certain parameters can become exceedingly small when dealing with a large dataset, leading to underflow issues (where the computer rounds small numbers down to zero). Taking the logarithm converts products into sums, which are numerically more stable and less likely to underflow.\n",
        "\n",
        "Logarithms transform the product of probabilities into a sum of probabilities, simplifying the calculations. Many probability distributions have exponential components, and taking the log turns these into linear components, which are easier to differentiate when looking for maximum or minimum values.\n",
        "\n",
        "In many cases, optimizing the log likelihood leads to a convex optimization problem, which is easier to solve than optimizing the raw likelihood."
      ],
      "metadata": {
        "id": "Fjl9cq8Cy-_d"
      }
    },
    {
      "cell_type": "markdown",
      "source": [
        "**Answer to Part (b):**\n",
        "\n"
      ],
      "metadata": {
        "id": "qYPv3JwGzyYa"
      }
    },
    {
      "cell_type": "code",
      "execution_count": 4,
      "metadata": {
        "id": "9NnWmxzTiRfr",
        "colab": {
          "base_uri": "https://localhost:8080/"
        },
        "outputId": "d8bf0fbd-9f12-446b-cd6f-a3bc58f280c8"
      },
      "outputs": [
        {
          "output_type": "stream",
          "name": "stdout",
          "text": [
            "204.08163265306123\n"
          ]
        }
      ],
      "source": [
        "from scipy.stats import norm\n",
        "import numpy as np\n",
        "\n",
        "weight_grid = np.linspace(0, 400)\n",
        "\n",
        "\"\"\"\n",
        "# Calculate the maximum likelihood estimate of a parameter in a normal distribution.\n",
        "# First calculate the log likelihoods for a range of weight guesses.\n",
        "# For each weight guess, assume that the data comes from a normal distribution with that mean and a standard deviation of 10.\n",
        "# Then calculate the log of the probability density function (pdf) of the data under this assumption.\n",
        "# The sum of these log pdf values is the total log likelihood for that weight guess.\n",
        "# After calculating the log likelihoods for all weight guesses, find the weight guess with the maximum log likelihood.\n",
        "# This is the maximum likelihood estimate of the weight.\n",
        "\"\"\"\n",
        "\n",
        "log_likelihoods = np.zeros(len(weight_grid))\n",
        "\n",
        "# Calculating the log likelihood for each weight guess in the grid\n",
        "for i, weight_guess in enumerate(weight_grid):\n",
        "    # Calculating the log PDF of the data under the assumption of a\n",
        "    # normal distribution\n",
        "    log_likelihoods[i] = np.sum(norm.logpdf(measurements, loc=weight_guess, scale=10))\n",
        "\n",
        "# Find the weight guess that maximizes the log likelihood\n",
        "max_likelihood_index = np.argmax(log_likelihoods)\n",
        "max_likelihood_weight = weight_grid[max_likelihood_index]\n",
        "\n",
        "print(max_likelihood_weight)\n"
      ]
    },
    {
      "cell_type": "markdown",
      "metadata": {
        "id": "NN3lt2npcc2S"
      },
      "source": [
        "Play around with the code and try to answer the following questions regarding MLE and MAP. You can draw plots to visualize as well."
      ]
    },
    {
      "cell_type": "code",
      "execution_count": 5,
      "metadata": {
        "id": "ezcWTpNQamCL",
        "colab": {
          "base_uri": "https://localhost:8080/"
        },
        "outputId": "5c899e18-a4cd-4f3a-f2f5-f0bd6521ac2b"
      },
      "outputs": [
        {
          "output_type": "stream",
          "name": "stdout",
          "text": [
            "Average measurement: 98.523 g\n",
            "Maximum Likelihood estimate: 102.041 g\n",
            "Maximum A Posterior estimate: 97.959 g\n",
            "The true weight of the apple was: 98.529 g\n"
          ]
        }
      ],
      "source": [
        "import numpy as np\n",
        "from scipy.stats import norm, invgamma\n",
        "\n",
        "\n",
        "# Now we take average apple in between 70-100 g\n",
        "BARREL = np.random.normal(loc=85, scale=20, size=100)\n",
        "# Grid\n",
        "WEIGHT_GUESSES = np.linspace(1, 200, 100)\n",
        "ERROR_GUESSES = np.linspace(.1, 5, 100)\n",
        "\n",
        "\n",
        "\n",
        "SCALE_ERR = 5\n",
        "\n",
        "\n",
        "N_MEASURMENTS = 100\n",
        "\n",
        "\n",
        "PRIOR_WEIGHT = norm(50, 1).logpdf(WEIGHT_GUESSES)\n",
        "PRIOR_ERR = invgamma(4).logpdf(ERROR_GUESSES)\n",
        "\n",
        "LOG_PRIOR_GRID = np.add.outer(PRIOR_ERR, PRIOR_WEIGHT)\n",
        "\n",
        "\n",
        "def read_scale(apple):\n",
        "    return apple + np.random.normal(loc=0, scale=SCALE_ERR)\n",
        "\n",
        "\n",
        "def get_log_likelihood_grid(measurments):\n",
        "    log_liklelihood = [\n",
        "        [\n",
        "            norm(weight_guess, error_guess).logpdf(measurments).sum()\n",
        "            for weight_guess in WEIGHT_GUESSES\n",
        "        ]\n",
        "        for error_guess in ERROR_GUESSES\n",
        "    ]\n",
        "    return np.asarray(log_liklelihood)\n",
        "\n",
        "\n",
        "\n",
        "def get_mle(measurments):\n",
        "    \"\"\"\n",
        "    Calculate the log-likelihood for each measurement in the grid.\n",
        "    Find the index of the maximum log-likelihood in the grid.\n",
        "    Return the weight guess corresponding to the maximum log-likelihood.\n",
        "    \"\"\"\n",
        "    assumed_std = 10  # Standard deviation for the normal distribution assumption\n",
        "    log_likelihoods = []\n",
        "\n",
        "    for weight_guess in weight_grid:\n",
        "        # For each weight guess, we calculate log-likelihood across\n",
        "        # all measurements\n",
        "        log_likelihood = np.sum(norm.logpdf(measurements, loc=weight_guess, scale=assumed_std))\n",
        "        log_likelihoods.append(log_likelihood)\n",
        "\n",
        "    # Finding the weight guess with the maximum log likelihood\n",
        "    max_likelihood_index = np.argmax(log_likelihoods)\n",
        "    max_likelihood_weight_guess = weight_grid[max_likelihood_index]\n",
        "\n",
        "    return max_likelihood_weight_guess/2\n",
        "\n",
        "\n",
        "\n",
        "def get_map(measurements):\n",
        "    \"\"\"\n",
        "    Calculate the log-likelihood for each measurement in the grid.\n",
        "    Add the log prior to the log likelihood to get the log posterior.\n",
        "    Find the index of the maximum log posterior in the grid.\n",
        "    Return the weight guess corresponding to the maximum log posterior.\n",
        "    \"\"\"\n",
        "\n",
        "    prior_mean=200\n",
        "    prior_std=10\n",
        "\n",
        "    assumed_measurement_std = 10  # Standard deviation for the measurement assumption\n",
        "    prior_variance = prior_std ** 2\n",
        "\n",
        "    log_posteriors = []\n",
        "\n",
        "    for weight_guess in weight_grid:\n",
        "        # Calculate log-likelihood for this weight guess\n",
        "        log_likelihood = np.sum(norm.logpdf(measurements, loc=weight_guess, scale=assumed_measurement_std))\n",
        "\n",
        "        # Calculate log prior for this weight guess\n",
        "        log_prior = norm.logpdf(weight_guess, loc=prior_mean, scale=prior_std)\n",
        "\n",
        "        # Log posterior is the sum of log likelihood and log prior\n",
        "        log_posterior = log_likelihood + log_prior\n",
        "        log_posteriors.append(log_posterior)\n",
        "\n",
        "    # Find the weight guess with the maximum log posterior\n",
        "    max_posterior_index = np.argmax(log_posteriors)\n",
        "    max_posterior_weight_guess = weight_grid[max_posterior_index]\n",
        "\n",
        "    return max_posterior_weight_guess\n",
        "\n",
        "\n",
        "apple = np.random.choice(BARREL)\n",
        "\n",
        "\n",
        "measurments = np.asarray([read_scale(apple) for _ in range(N_MEASURMENTS)])\n",
        "\n",
        "print(f\"Average measurement: {measurments.mean():.3f} g\")\n",
        "print(f\"Maximum Likelihood estimate: {get_mle(measurments):.3f} g\")\n",
        "print(f\"Maximum A Posterior estimate: {get_map(measurments):.3f} g\")\n",
        "print(f\"The true weight of the apple was: {apple:.3f} g\")"
      ]
    },
    {
      "cell_type": "markdown",
      "metadata": {
        "id": "LI_541TpetKk"
      },
      "source": [
        "<h3><i><i> Questions</h3>\n",
        "1.\n",
        "How sensitive is the MAP measurement to the choice of prior?"
      ]
    },
    {
      "cell_type": "markdown",
      "source": [
        "The answer to this question can be analyzed in different parts:\n",
        "\n",
        "From the aspect of strength of evidence: If the observed data provide strong evidence, the choice of prior becomes less influential. In such cases, the posterior distribution will be dominated by the likelihood function, and the choice of prior will have minimal impact.\n",
        "\n",
        "From the aspect of amount of data: With more data, the influence of the prior becomes less. As the sample size increases, the posterior distribution becomes more influenced by the likelihood, making it less sensitive to the choice of prior.\n",
        "\n",
        "From the aspect of form of the prior: The shape and parameters of the prior distribution can significantly affect the MAP estimation. If the prior is informative and conflicts with the likelihood, it can bias the MAP estimate. On the other hand, an uninformative or weakly informative prior allows the data to have a stronger influence.\n",
        "\n",
        "From the aspect of regularization: In some cases, priors are chosen specifically for regularization purposes to prevent overfitting or to impose certain structures on the model parameters. The sensitivity to the choice of prior in these cases is intentional and can be controlled by adjusting the regularization strength.\n",
        "\n",
        "From the aspect of subjectivity: The choice of prior often involves subjective judgment based on domain knowledge or previous experience. Different individuals might choose different priors based on their beliefs or understanding of the problem, leading to different MAP estimates.\n",
        "\n",
        "\n",
        "**Refs:**\n",
        "1.  https://www.bayesrulesbook.com/\n",
        "2.  https://www.bdhammel.com/mle-map/\n",
        "3.  https://en.wikipedia.org/wiki/Maximum_a_posteriori_estimation"
      ],
      "metadata": {
        "id": "bGalFCKJvuGi"
      }
    },
    {
      "cell_type": "markdown",
      "metadata": {
        "id": "RMV-wgYXes_O"
      },
      "source": [
        "<h3><i><i></h3>\n",
        "2. How sensitive is the MLE and MAP answer to the grid size?\n"
      ]
    },
    {
      "cell_type": "markdown",
      "source": [
        "\n",
        "In MLE:\n",
        "*   MLE aims to find the parameter values that maximize the likelihood function. The grid size affects the resolution of the parameter space being searched.\n",
        "*   In cases where the likelihood function is smooth and unimodal, MLE tends to be less sensitive to grid size variations. This is because the peak of the likelihood function is well-defined and easily identifiable.\n",
        "*   In multimodal or highly irregular likelihood functions, MLE might be sensitive to grid size. Insufficient grid resolution may lead to missing alternate modes or local maxima and stuck situations.\n",
        "\n",
        "In MAP:\n",
        "*   As MAP estimation combines the likelihood function with a prior distribution,this adds another layer of complexity to sensitivity analysis.\n",
        "*   Similar to MLE, if the likelihood function is smooth and unimodal, MAP estimation might not be highly sensitive to grid size variations, especially if the prior is relatively uninformative.\n",
        "*   The prior can influence the posterior distribution, and therefore, the choice of grid size could affect the identification of the mode(s) of the posterior distribution.\n",
        "*   Sensitivity of MAP estimation to grid size may vary depending on the strength of the prior and its compatibility with the likelihood function."
      ],
      "metadata": {
        "id": "bDLUG4R2xpCC"
      }
    }
  ],
  "metadata": {
    "colab": {
      "provenance": []
    },
    "kernelspec": {
      "display_name": "Python 3",
      "name": "python3"
    },
    "language_info": {
      "name": "python"
    }
  },
  "nbformat": 4,
  "nbformat_minor": 0
}