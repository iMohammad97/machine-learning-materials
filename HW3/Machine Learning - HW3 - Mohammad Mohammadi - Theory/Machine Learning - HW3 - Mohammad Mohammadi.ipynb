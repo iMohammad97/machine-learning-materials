{
  "nbformat": 4,
  "nbformat_minor": 0,
  "metadata": {
    "colab": {
      "provenance": []
    },
    "kernelspec": {
      "name": "python3",
      "display_name": "Python 3"
    },
    "language_info": {
      "name": "python"
    }
  },
  "cells": [
    {
      "cell_type": "markdown",
      "source": [
        "**Course:** Machine Learning by Dr. Seyyed Salehi\n",
        "\n",
        "**Homework:** HW3\n",
        "\n",
        "**Name:** Mohammad Mohammadi\n",
        "\n",
        "**Student ID:** 402208592"
      ],
      "metadata": {
        "id": "9JbKLJNkfqlH"
      }
    },
    {
      "cell_type": "markdown",
      "source": [
        "# Question 1\n",
        "We discussed the use of SVM in the class for classification. Now, I intend to extend this concept to regression. For this purpose, I proceed step by step as follows. Suppose your data consists of $(x^{(1)}, y^{(1)})...(x^{(n)}, y^{(n)})$ where $x^{(i)}∈R^d$ and $𝑦^{(𝑖)}∈𝑅$. A typical loss function for this purpose is defined as\n",
        "\n",
        "$$L_\\epsilon(x, y, f) = |y - f(x)|_\\epsilon = \\max \\{0, |y - f(x)| - \\epsilon \\}$$\n",
        "\n",
        "Using this, the cost function is as follows:\n",
        "\n",
        "$$\\frac{1}{2} \\| w \\|^2 + C \\sum_{i=1}^n L_\\epsilon(x^{(i)}, y^{(i)}, f)$$\n",
        "\n",
        "\n",
        "(a) By defining the slack variable $(ξ_i^∗ ,ξ_i)$ and applying suitable conditions on them, show the primal form of this problem (which is a quadratic problem) as follows:\n",
        "\n",
        "$$\\min_{w \\in \\mathbb{R}^m, \\xi_i \\in \\mathbb{R}^n, \\xi^* \\in \\mathbb{R}^n} \\frac{1}{2} \\| w \\|^2 + C \\sum_{i=1}^n (\\xi_i^* + \\xi_i)$$\n",
        "\n",
        "Hint: As you know, in soft margin SVM, the variable $ξ_i$ indicates the amount of margin violation. In this problem, $ξ_i$ is related to the amount of being larger than $y_i$ and $ξ_i^*$ is related to the amount of being smaller from $y_i$.\n",
        "\n",
        "(b) First, write the Lagrangian results for the primal form, then by substituting min and max and using the K.K.T conditions, reach the dual form as follows:\n",
        "\n",
        "$$\\max_{\\alpha \\in \\mathbb{R}^n, \\alpha^* \\in \\mathbb{R}^n} -\\frac{1}{2} \\sum_{i,j=1}^n (\\alpha_i - \\alpha_i^*) (\\alpha_j - \\alpha_j^*) (x_i, x_j) - \\epsilon \\sum_{i=1}^n (\\alpha_i + \\alpha_i^*) + \\sum_{i=1}^n y_i (\\alpha_i - \\alpha_i^*)$$\n",
        "\n",
        "With the condition:\n",
        "\n",
        "$$\\alpha_i, \\alpha_i^* \\in [0, C]$$\n",
        "\n",
        "(c) Explain if the problem is solvable in dual form with a quadratic optimization solver?\n",
        "\n",
        "(d) How are the support vectors determined in this problem?\n",
        "\n",
        "(e) Write a new relationship for prediction and explain if kernel techniques can be used?\n",
        "\n",
        "(f) How does changing $ϵ$ cause a change? How about changing $C$?"
      ],
      "metadata": {
        "id": "eIfdgZzdwdti"
      }
    },
    {
      "cell_type": "markdown",
      "source": [
        "## Answer 1\n",
        "\n"
      ],
      "metadata": {
        "id": "X5TyPFgPMa4a"
      }
    },
    {
      "cell_type": "markdown",
      "source": [
        "### Part (a)\n",
        "\n",
        "Since $f(x)=w⋅x+b$, we substitute this into the loss function:\n",
        "\n",
        "$$L_\\epsilon(x^{(i)}, y^{(i)}, f) = \\max \\{0, |y^{(i)} - (w \\cdot x^{(i)} + b)| - \\epsilon \\}$$\n",
        "\n",
        "We define slack variables $(ξ_i^∗ ,ξ_i)$ to handle the ε-insensitive margin as below:\n",
        "*   $ξ_i$ measures the amount by which $y^{(i)}$ exceeds $w⋅x^{(i)}+b+ϵ$\n",
        "*   $ξ_i^*$ measures the amount by which $w⋅x^{(i)}+b+ϵ$ exceeds $y^{(i)}$\n",
        "\n",
        "Hence, the constraints become:\n",
        "\n",
        "$$\\begin{cases}\n",
        "y^{(i)} - (w \\cdot x^{(i)} + b) \\leq \\epsilon + \\xi_i \\\\\n",
        "(w \\cdot x^{(i)} + b) - y^{(i)} \\leq \\epsilon + \\xi_i^* \\\\\n",
        "\\xi_i, \\xi_i^* \\geq 0\n",
        "\\end{cases}$$\n",
        "\n",
        "Incorporating the slack variables, the primal problem becomes:\n",
        "\n",
        "$$\\min_{w, b, \\xi, \\xi^*} \\frac{1}{2} \\| w \\|^2 + C \\sum_{i=1}^n (\\xi_i + \\xi_i^*)$$\n",
        "With subject to the condtitions below:\n",
        "\n",
        "$$\\begin{cases}\n",
        "y^{(i)} - w \\cdot x^{(i)} - b \\leq \\epsilon + \\xi_i \\\\\n",
        "w \\cdot x^{(i)} + b - y^{(i)} \\leq \\epsilon + \\xi_i^* \\\\\n",
        "\\xi_i, \\xi_i^* \\geq 0\n",
        "\\end{cases}$$"
      ],
      "metadata": {
        "id": "zA2FSOcJBpnh"
      }
    },
    {
      "cell_type": "markdown",
      "source": [
        "### Part (b)\n",
        "\n",
        "The Lagrangian L for the primal problem would be as:\n",
        "\n",
        "$$\\begin{align*}\n",
        "{L}(w, b, \\xi, \\xi^*, \\alpha, \\alpha^*, \\eta, \\eta^*) = & \\frac{1}{2} \\| w \\|^2 + C \\sum_{i=1}^n (\\xi_i + \\xi_i^*) \\\\\n",
        "& - \\sum_{i=1}^n \\alpha_i (\\epsilon + \\xi_i - y^{(i)} + w \\cdot x^{(i)} + b) \\\\\n",
        "& - \\sum_{i=1}^n \\alpha_i^* (\\epsilon + \\xi_i^* - w \\cdot x^{(i)} - b + y^{(i)}) \\\\\n",
        "& - \\sum_{i=1}^n \\eta_i \\xi_i - \\sum_{i=1}^n \\eta_i^* \\xi_i^*\n",
        "\\end{align*}$$\n",
        "Where, $\n",
        "𝛼_𝑖, 𝛼_𝑖^∗, 𝜂_i,𝜂_i^*$ are Lagrange multipliers.\n",
        "\n",
        "We derive the conditions for optimality by setting the partial derivatives of L with respect to $w, b, ξ, ξ^*$ to zero:\n",
        "\n",
        "Derivative w.r.t w:\n",
        "\n",
        "$$\\frac{\\partial L}{\\partial w} = w - \\sum_{i=1}^n \\alpha_i x^{(i)} + \\sum_{i=1}^n \\alpha_i^* x^{(i)} = 0 \\implies w = \\sum_{i=1}^n (\\alpha_i - \\alpha_i^*) x^{(i)}$$\n",
        "\n",
        "Derivative w.r.t b:\n",
        "\n",
        "$$\\frac{\\partial L}{\\partial b} = \\sum_{i=1}^n (\\alpha_i - \\alpha_i^*) = 0$$\n",
        "\n",
        "Derivative w.r.t $ξ_i$:\n",
        "\n",
        "$$\\frac{\\partial L}{\\partial \\xi_i} = C - \\alpha_i - \\eta_i = 0 \\implies \\alpha_i \\leq C$$\n",
        "\n",
        "Derivative w.r.t $ξ_i^*$:\n",
        "\n",
        "$$\\frac{\\partial L}{\\partial \\xi_i^*} = C - \\alpha_i^* - \\eta_i^* = 0 \\implies \\alpha_i^* \\leq C$$\n",
        "\n",
        "If we substitute the values back into the Lagrangian we will have the Lagrangian L above.\n",
        "\n",
        "By simplifying and applying the KKT conditions, we can obtain the dual problem as below:\n",
        "\n",
        "$$\\max_{\\alpha, \\alpha^*} -\\frac{1}{2} \\sum_{i,j=1}^n (\\alpha_i - \\alpha_i^*) (\\alpha_j - \\alpha_j^*) (x_i, x_j) - \\epsilon \\sum_{i=1}^n (\\alpha_i + \\alpha_i^*) + \\sum_{i=1}^n y_i (\\alpha_i - \\alpha_i^*)$$\n",
        "\n",
        "with subject to:\n",
        "\n",
        "$$\\alpha_i, \\alpha_i^* \\in [0, C]$$"
      ],
      "metadata": {
        "id": "yKWsSwGHDb6Q"
      }
    },
    {
      "cell_type": "markdown",
      "source": [
        "### Part (c)\n",
        "\n",
        "Yes, the problem can be solved in the dual form using a quadratic optimization solver since it is a quadratic programming problem with linear constraints."
      ],
      "metadata": {
        "id": "LpDhffMcK2Nm"
      }
    },
    {
      "cell_type": "markdown",
      "source": [
        "### Part (d)\n",
        "\n",
        "Support vectors are the data points for which $𝛼_i$ or $𝛼_i^*$ are non-zero. These are the points lying on or outside the ε-insensitive tube."
      ],
      "metadata": {
        "id": "U1APyuUnK8vS"
      }
    },
    {
      "cell_type": "markdown",
      "source": [
        "### Part (e)\n",
        "\n",
        "\n",
        "The prediction function is:\n",
        "\n",
        "$$f(x) = w \\cdot x + b = \\sum_{i=1}^n (\\alpha_i - \\alpha_i^*) (x^{(i)} \\cdot x) + b$$\n",
        "\n",
        "Kkernel techniques can be used by replacing the dot product $x^{(i)}.x$ with a kernel function $K(x^{(i)}, x)$. The prediction function becomes:\n",
        "\n",
        "$$f(x) = \\sum_{i=1}^n (\\alpha_i - \\alpha_i^*) K(x^{(i)}, x) + b$$"
      ],
      "metadata": {
        "id": "a0YB-uT4LMJM"
      }
    },
    {
      "cell_type": "markdown",
      "source": [
        "### Part (f)\n",
        "\n",
        "Changing ϵ:\n",
        "*   Increase of ϵ widens the ε-insensitive tube, reducing the number of support vectors and making the model less sensitive to small fluctuations (more robust to noise probably).\n",
        "*   Decrease of ϵ narrows the tube, increasing the number of support vectors and making the model more sensitive to small fluctuations.\n",
        "\n",
        "Changing C:\n",
        "*   Increase of C penalizes the slack variables more, leading to a smaller margin and potentially overfitting.\n",
        "*   Decrease of C reduces the penalty on slack variables, leading to a larger margin and potentially underfitting."
      ],
      "metadata": {
        "id": "lgehQ82hLu3b"
      }
    },
    {
      "cell_type": "markdown",
      "source": [
        "# Question 2\n",
        "Determine the minimum number of samples\n",
        "m required to ensure that the learned hypothesis h has an error rate of less than 5% in unseen data with at least 95% confidence, assuming a given hypothesis set H that completely describes the concept, (As an example, exists a hypothesis in hypothesis set H that describes the target concept fully).\n",
        "\n",
        "Given data:\n",
        "\n",
        "$$\n",
        "|H| = 1000\n",
        "$$\n",
        "$$\n",
        "\\epsilon = 0.05\n",
        "$$\n",
        "$$\n",
        "\\delta = 0.05\n",
        "$$"
      ],
      "metadata": {
        "id": "-YCaQVLaNB4J"
      }
    },
    {
      "cell_type": "markdown",
      "source": [
        "## Answer\n",
        "\n",
        "\n",
        "To determine the minimum number of samples \\( m \\) required to ensure that the learned hypothesis \\( h \\) has an error rate of less than \\( 5\\% \\) (i.e., \\( $\\epsilon$ = 0.05 \\)) in unseen data with at least \\( 95\\% \\) confidence (i.e., \\( 1 - $\\delta$ = 0.95 \\), so \\( $\\delta$ = 0.05 \\)), given a hypothesis set \\( H \\) of size \\( |H| = 1000 \\), we can use the concept of the **VC dimension** and bounds from statistical learning theory, specifically the **Hoeffding Inequality** and the **Union Bound**.\n",
        "\n",
        "\n",
        "\n",
        "1. **Hoeffding Inequality**:\n",
        "\n",
        "$$\n",
        "P(|\\text{err}(h) - \\hat{\\text{err}}(h)| > \\epsilon) \\leq 2 \\exp(-2\\epsilon^2 m)\n",
        "$$\n",
        "\n",
        "2. **Union Bound**:\n",
        "\n",
        "$$\n",
        "P(\\exists h \\in H : |\\text{err}(h) - \\hat{\\text{err}}(h)| > \\epsilon) \\leq |H| \\cdot P(|\\text{err}(h) - \\hat{\\text{err}}(h)| > \\epsilon)\n",
        "$$\n",
        "\n",
        "We want this to be less than \\( $\\delta$ = 0.05 \\):\n",
        "\n",
        "$$\n",
        "1000 \\cdot 2 \\exp(-2\\epsilon^2 m) \\leq 0.05\n",
        "$$\n",
        "\n",
        "3. **Finding \\( m \\)**:\n",
        "\n",
        "$$\n",
        "2000 \\exp(-2 \\epsilon^2 m) \\leq 0.05\n",
        "$$\n",
        "\n",
        "$$\n",
        "\\exp(-2 \\epsilon^2 m) \\leq \\frac{0.05}{2000}\n",
        "$$\n",
        "\n",
        "$$\n",
        "\\exp(-2 \\epsilon^2 m) \\leq 2.5 \\times 10^{-5}\n",
        "$$\n",
        "\n",
        "Applying Ln on both sides:\n",
        "\n",
        "$$\n",
        "-2 \\epsilon^2 m \\leq \\ln(2.5 \\times 10^{-5})\n",
        "$$\n",
        "\n",
        "$\\ln(2.5 \\times 10^{-5}) $:\n",
        "\n",
        "$$\n",
        "\\ln(2.5 \\times 10^{-5}) \\approx -10.5966\n",
        "$$\n",
        "\n",
        "Substituting Ln and $\\epsilon = 0.05$:\n",
        "\n",
        "$$\n",
        "-2 (0.05)^2 m \\leq -10.5966\n",
        "$$\n",
        "\n",
        "$$\n",
        "-2 \\times 0.0025 m \\leq -10.5966\n",
        "$$\n",
        "\n",
        "$$\n",
        "-0.005 m \\leq -10.5966\n",
        "$$\n",
        "\n",
        "$$\n",
        "m \\geq \\frac{10.5966}{0.005}\n",
        "$$\n",
        "\n",
        "$$\n",
        "m \\geq 2119.32\n",
        "$$\n",
        "\n",
        "Since \\( m \\) must be an integer, we round up to the nearest whole number:\n",
        "\n",
        "$$\n",
        "m \\geq 2120\n",
        "$$\n",
        "\n",
        "\n",
        "The minimum number of samples \\( m \\) required is 2120.\n",
        "\n"
      ],
      "metadata": {
        "id": "3_BUWX3OOCPo"
      }
    },
    {
      "cell_type": "markdown",
      "source": [
        "# Quesion 3\n",
        "(a) Consider a neural network with input x. Perform the following computations for the output layer based on x.\n",
        "\n",
        "$$z = wx + b$$\n",
        "$$y = \\sigma(z)$$\n",
        "$$L = \\frac{1}{2}(y - t)^2$$\n",
        "$$R = \\frac{1}{2}w^2$$\n",
        "$$L_{\\text{reg}} = L + \\lambda R$$\n",
        "\n",
        "Plot the computational graph of this problem and update the derivatives of $L_{\\text{reg}}$.\n",
        "\n",
        "(b) Parameters of a neural network are initially assignedd with small and random values. Explain what issues might arise if these two conditions are not complied.\n",
        "\n",
        "(c) Assign random desired values to the the weights of the neural network obtained from the first part. And considering the derivatives obtained in the first part, for a desired input x, update the weights of the network using gradient descent with a learning rate of 0.1 and 1 epoch."
      ],
      "metadata": {
        "id": "YLggLMVaTpk1"
      }
    },
    {
      "cell_type": "markdown",
      "source": [
        "## Answer"
      ],
      "metadata": {
        "id": "q3s-CNOsXPBR"
      }
    },
    {
      "cell_type": "markdown",
      "source": [
        "### Part (a)\n",
        "\n",
        "Derivatives:\n",
        "\n",
        "Derivative of L w.r.t y:\n",
        "\n",
        "$$\\frac{\\partial L}{\\partial y} = y - t$$\n",
        "\n",
        "Derivative of y w.r.t z:\n",
        "\n",
        "$$\\frac{\\partial y}{\\partial z} = y(1 - y)$$\n",
        "\n",
        "Derivative of z w.r.t w adn b:\n",
        "\n",
        "$$\\frac{\\partial z}{\\partial w} = x, \\quad \\frac{\\partial z}{\\partial b} = 1$$\n",
        "\n",
        "Derivative of R w.r.t w:\n",
        "\n",
        "$$\\frac{\\partial R}{\\partial w} = w$$\n",
        "\n",
        "Derivative of $L_{reg}$ w.r.t w:\n",
        "\n",
        "$$\\frac{\\partial L_{\\text{reg}}}{\\partial w} = \\frac{\\partial L}{\\partial y} \\cdot \\frac{\\partial y}{\\partial z} \\cdot \\frac{\\partial z}{\\partial w} + \\lambda \\frac{\\partial R}{\\partial w}$$\n",
        "\n",
        "$$\\frac{\\partial L_{\\text{reg}}}{\\partial w} = (y - t) \\cdot y(1 - y) \\cdot x + \\lambda w$$\n",
        "\n",
        "Derivative of $L_{reg}$ w.r.t b:\n",
        "\n",
        "$$\\frac{\\partial L_{\\text{reg}}}{\\partial b} = \\frac{\\partial L}{\\partial y} \\cdot \\frac{\\partial y}{\\partial z} \\cdot \\frac{\\partial z}{\\partial b}$$\n",
        "\n",
        "$$\\frac{\\partial L_{\\text{reg}}}{\\partial b} = (y - t) \\cdot y(1 - y)$$\n",
        "\n"
      ],
      "metadata": {
        "id": "SB4MdTEFXQcV"
      }
    },
    {
      "cell_type": "code",
      "source": [
        "import matplotlib.pyplot as plt\n",
        "import networkx as nx\n",
        "import matplotlib as mpl\n",
        "mpl.rcParams.update(mpl.rcParamsDefault)\n",
        "\n",
        "G = nx.DiGraph()\n",
        "\n",
        "nodes = {\n",
        "    'x': (0, 2),\n",
        "    'w': (2, 3),\n",
        "    'b': (2, 1),\n",
        "    'z': (4, 2),\n",
        "    'σ(z)': (6, 2),\n",
        "    'y': (8, 2),\n",
        "    't': (6, 0),\n",
        "    'L': (8, 0),\n",
        "    'λ': (4, 0),\n",
        "    'R': (4, -1),\n",
        "    'L_reg': (8, -1)\n",
        "}\n",
        "G.add_nodes_from(nodes)\n",
        "\n",
        "edges = [\n",
        "    ('x', 'z', 'x'),\n",
        "    ('w', 'z', 'w'),\n",
        "    ('b', 'z', 'b'),\n",
        "    ('z', 'σ(z)', 'z'),\n",
        "    ('σ(z)', 'y', 'y = σ(z)'),\n",
        "    ('y', 'L', 'y'),\n",
        "    ('t', 'L', 't'),\n",
        "    ('λ', 'R', 'λ'),\n",
        "    ('w', 'R', 'w'),\n",
        "    ('R', 'L_reg', 'R'),\n",
        "    ('L', 'L_reg', 'L')\n",
        "]\n",
        "G.add_weighted_edges_from([(u, v, 0) for u, v, _ in edges])\n",
        "\n",
        "pos = nodes\n",
        "\n",
        "plt.figure(figsize=(10, 6))\n",
        "nx.draw(G, pos, with_labels=True, node_size=3000, node_color='skyblue', font_size=10, font_weight='bold', arrowsize=20)\n",
        "\n",
        "edge_labels = {(u, v): label for u, v, label in edges}\n",
        "nx.draw_networkx_edge_labels(G, pos, edge_labels=edge_labels, font_size=10)\n",
        "\n",
        "plt.title(\"Computational Graph for $L_{reg}$\")\n",
        "plt.show()\n"
      ],
      "metadata": {
        "colab": {
          "base_uri": "https://localhost:8080/",
          "height": 661
        },
        "id": "a3mS-LX9pFAA",
        "outputId": "3c8800b5-a57a-444d-a919-6274d96dad5c"
      },
      "execution_count": 7,
      "outputs": [
        {
          "output_type": "display_data",
          "data": {
            "text/plain": [
              "<Figure size 1000x600 with 1 Axes>"
            ],
            "image/png": "[encoded data removed]"
          },
          "metadata": {}
        }
      ]
    },
    {
      "cell_type": "markdown",
      "source": [
        "Input Nodes:\n",
        "\n",
        "*   x: Input feature.\n",
        "*   w: Weight.\n",
        "*   b: Bias.\n",
        "*   t: Target value.\n",
        "*   λ: Regularization parameter.\n",
        "\n",
        "Intermediate Nodes:\n",
        "*   z: Result of the linear transformation $z=wx+b$.\n",
        "*   $σ(z)$: Sigmoid activation function applied to z.\n",
        "*   y: Output of the activation function.\n",
        "*   L: Loss function $L= \\frac{1}{2} (y-t)^2$.\n",
        "*   R: Regularization term $R= \\frac{1}{2} (w)^2$.\n",
        "*   $L_{reg}$: Regularized loss $L_{reg}=L+λR$.\n",
        "\n",
        "Edges:\n",
        "*   Each edge is labeled with the computation or the flow of data.\n",
        "*   The flow starts from the inputs x, w, b and passes through transformations and calculations to produce the final regularized loss $L_{reg}$."
      ],
      "metadata": {
        "id": "wmF6YEW0p6Sf"
      }
    },
    {
      "cell_type": "markdown",
      "source": [
        "### Part (b)\n",
        "\n",
        "1.  Non-random Initialization:\n",
        "    *   If weights are initialized to zeros or some constant value, all neurons might update in the same way during training, leading to symmetry and poor learning.\n",
        "    *   Non-random initialization can prevent the network from learning effectively as it reduces the diversity of the weights, leading to similar gradients and no variation in learning.\n",
        "2.  Large Initial Weights:\n",
        "    *   Large weights can cause the outputs of neurons to be pushed into the saturated regions of the activation functions (e.g., sigmoid), leading to vanishing gradients and slow learning.\n",
        "    *   Large weights might also lead to numerical instability during backpropagation, especially in deeper networks."
      ],
      "metadata": {
        "id": "bnY8xA4-rHRA"
      }
    },
    {
      "cell_type": "markdown",
      "source": [
        "### Part (c)\n",
        "\n",
        "Assume we have:\n",
        "\n",
        "*   Initial random weights $w_0$\n",
        "\n",
        "*   Initial random bias $b_0$\n",
        "\n",
        "*   Learning rate $η=0.1$\n",
        "\n",
        "*   Input x\n",
        "\n",
        "*   Target t\n",
        "\n",
        "\n",
        "FOr the inference we have:\n",
        "*   $ z = w_0 x + b_0 $\n",
        "*   $y = \\sigma(z) = \\frac{1}{1 + e^{-z}}$\n",
        "\n",
        "For loss and regularized loss we have:\n",
        "*   $L = \\frac{1}{2}(y - t)^2$\n",
        "*   $R = \\frac{1}{2}w_0^2$\n",
        "*   $_{\\text{reg}} = L + \\lambda R$\n",
        "\n",
        "Gradient w.r.t w:\n",
        "$$\\frac{\\partial L_{\\text{reg}}}{\\partial w} = (y - t) \\cdot y(1 - y) \\cdot x + \\lambda w_0$$\n",
        "\n",
        "Gradient w.r.t b:\n",
        "$$\\frac{\\partial L_{\\text{reg}}}{\\partial b} = (y - t) \\cdot y(1 - y)$$\n",
        "\n",
        "Weight update:\n",
        "$$w_1 = w_0 - \\eta \\frac{\\partial L_{\\text{reg}}}{\\partial w}$$\n",
        "\n",
        "Bias update:\n",
        "$$b_1 = b_0 - \\eta \\frac{\\partial L_{\\text{reg}}}{\\partial b}$$\n",
        "\n",
        "\n"
      ],
      "metadata": {
        "id": "y19zivsKtGh2"
      }
    },
    {
      "cell_type": "markdown",
      "source": [
        "#### Numerical example\n",
        "\n",
        "Value assignment:\n",
        "*   $x = 0.5$\n",
        "*   $t = 0.8$\n",
        "*   $\\lambda = 0.01$\n",
        "*   $w_0 = 0.1$\n",
        "*   $b_0 = 0.1$\n",
        "\n",
        "Inference forward pass functions:\n",
        "*   $z = 0.1 \\cdot 0.5 + 0.1 = 0.15$\n",
        "*   $y = \\sigma(0.15) \\approx 0.5374$\n",
        "\n",
        "Loss and regularized loss functions:\n",
        "*   $L = \\frac{1}{2}(0.5374 - 0.8)^2 \\approx 0.0345$\n",
        "*   $R = \\frac{1}{2}(0.1)^2 = 0.005$\n",
        "*   $L_{\\text{reg}} = 0.0345 + 0.01 \\cdot 0.005 = 0.03455$\n",
        "\n",
        "Gradient:\n",
        "*   $\\frac{\\partial L_{\\text{reg}}}{\\partial w} = (0.5374 - 0.8) \\cdot 0.5374 \\cdot (1 - 0.5374) \\cdot 0.5 + 0.01 \\cdot 0.1$\n",
        "*   $\\frac{\\partial L_{\\text{reg}}}{\\partial w} \\approx -0.0654$\n",
        "*   $\\frac{\\partial L_{\\text{reg}}}{\\partial b} = (0.5374 - 0.8) \\cdot 0.5374 \\cdot (1 - 0.5374)$\n",
        "*   $\\frac{\\partial L_{\\text{reg}}}{\\partial b} \\approx -0.1309$\n",
        "\n",
        "Weigth and bias update:\n",
        "*   $w_1 = 0.1 - 0.1 \\cdot (-0.0654) = 0.10654$\n",
        "*   $b_1 = 0.1 - 0.1 \\cdot (-0.1309) = 0.11309$"
      ],
      "metadata": {
        "id": "3SJoejkJvQSC"
      }
    }
  ]
}