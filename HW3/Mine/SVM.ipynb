{
 "cells": [
  {
   "cell_type": "markdown",
   "metadata": {},
   "source": [
    "<img src=\"./sharif.png\" alt=\"SUT logo\" width=300 height=300 align=left class=\"saturate\">\n",
    "\n",
    "<br>\n",
    "<font>\n",
    "<div dir=ltr align=center>\n",
    "<font color=0F5298 size=7>\n",
    "    Machine Learning <br>\n",
    "<font color=2565AE size=5>\n",
    "    Computer Engineering Department <br>\n",
    "    Spring 2024<br>\n",
    "<font color=3C99D size=5>\n",
    "    Practical Assignment 3<br>\n",
    "<font color=696880 size=4>\n",
    "    Ashkan Majidi - Shayan Salehi - Amirhossein Alamdar\n",
    "\n",
    "____"
   ]
  },
  {
   "cell_type": "markdown",
   "metadata": {},
   "source": [
    "# Personal Data"
   ]
  },
  {
   "cell_type": "code",
   "execution_count": 2,
   "metadata": {},
   "outputs": [],
   "source": [
    "student_number = 'Your Student Number'\n",
    "first_name = 'Your First Name'\n",
    "last_name = 'Your Last Name'"
   ]
  },
  {
   "cell_type": "markdown",
   "metadata": {},
   "source": [
    "# Introduction\n",
    "\n",
    "In this assignment, you will implement SVM (Support Vector Machines) for classification.\n"
   ]
  },
  {
   "cell_type": "markdown",
   "metadata": {},
   "source": [
    "# Data Prepfocessing"
   ]
  },
  {
   "cell_type": "markdown",
   "metadata": {},
   "source": [
    "Import your needed libraries in following cell."
   ]
  },
  {
   "cell_type": "code",
   "execution_count": 3,
   "metadata": {},
   "outputs": [],
   "source": [
    "# TODO: Write your code here"
   ]
  },
  {
   "cell_type": "markdown",
   "metadata": {},
   "source": [
    "Load data from ```satimage``` dataset and split data to features and labels. The ```label``` column is our target variable. "
   ]
  },
  {
   "cell_type": "code",
   "execution_count": 3,
   "metadata": {},
   "outputs": [],
   "source": [
    "# TODO: Write your code here"
   ]
  },
  {
   "cell_type": "markdown",
   "metadata": {},
   "source": [
    "Now split data to train, validation and test parts. 60% of data should be used for train, 15% for validation and 25% for test. After that scale the data to Standard Normal Distribution using ```StandardScaler``` class from ```scikit-learn``` library."
   ]
  },
  {
   "cell_type": "code",
   "execution_count": 4,
   "metadata": {},
   "outputs": [],
   "source": [
    "# TODO: Write your code here"
   ]
  },
  {
   "cell_type": "markdown",
   "metadata": {},
   "source": [
    "We want to train Binary SVM model for classification between labels 4 and 6. Choose corresponding datas and convert their lables to 1 and -1 respectively for 4 and 6."
   ]
  },
  {
   "cell_type": "code",
   "execution_count": 5,
   "metadata": {},
   "outputs": [],
   "source": [
    "# TODO: Write your code here"
   ]
  },
  {
   "cell_type": "markdown",
   "metadata": {},
   "source": [
    "# Model (50 points)"
   ]
  },
  {
   "cell_type": "markdown",
   "metadata": {},
   "source": [
    "Here is soft margin svm convex optimization formulation. \n",
    "$$\n",
    "\\begin{aligned}\n",
    "\\text { Minimize } & \\frac{1}{2}\\|\\mathbf{w}\\|^2+C \\sum_{i=1}^N \\xi_i \\\\\n",
    "\\text { Subject to } & y_i\\left(\\mathbf{w}^T \\mathbf{x}_i+b\\right) \\geq 1-\\xi_i, \\quad i=1,2, \\ldots, N \\\\\n",
    "& \\xi_i \\geq 0, \\quad i=1,2, \\ldots, N\n",
    "\\end{aligned}\n",
    "$$\n",
    "write dual of the soft margin svm optimization problem below:"
   ]
  },
  {
   "cell_type": "markdown",
   "metadata": {},
   "source": [
    "`TODO: Write Here`"
   ]
  },
  {
   "cell_type": "markdown",
   "metadata": {},
   "source": [
    "Now you should write this optimization problem in standard Quadratic Program (QP) form and use a QP solver to find optimal answer. Here is General form of a QP:\n",
    "$$\n",
    "\\begin{aligned}\n",
    "\\text { Minimize } & \\frac{1}{2} x^TPx + q^Tx + r \\\\\n",
    "\\text { Subject to } & Gx \\leq h \\\\\n",
    "& Ax = b\n",
    "\\end{aligned}\n",
    "$$\n",
    "\n",
    "Complete functions below and use ```cvxopt``` library which is a common library for solving QPs. Note that you can't use ```scikit-learn``` library.\n"
   ]
  },
  {
   "cell_type": "code",
   "execution_count": 6,
   "metadata": {},
   "outputs": [],
   "source": [
    "def soft_margin_svm(X, y, C):\n",
    "    \"\"\"\n",
    "    input:\n",
    "        X: training data\n",
    "        y: training labels\n",
    "        C: errors weight\n",
    "    output:\n",
    "        support_vectros: data points which are SVs of our model.\n",
    "        support_vector_labels: labels of SVs\n",
    "        support_vector_alphas: alpha coefficient of corresponding SVs \n",
    "    \"\"\"\n",
    "\n",
    "    # TODO: Write your code here\n",
    "    \n",
    "    support_vectors = None\n",
    "    support_vector_labels = None\n",
    "    support_vector_alphas = None\n",
    "\n",
    "    return support_vectors, support_vector_labels, support_vector_alphas"
   ]
  },
  {
   "cell_type": "code",
   "execution_count": 7,
   "metadata": {},
   "outputs": [
    {
     "name": "stdout",
     "output_type": "stream",
     "text": [
      "     pcost       dcost       gap    pres   dres\n",
      " 0: -6.1265e+02 -3.3971e+03  2e+04  3e+00  2e-13\n",
      " 1: -4.1824e+02 -2.2816e+03  3e+03  3e-01  1e-13\n",
      " 2: -3.9732e+02 -7.6474e+02  4e+02  3e-02  8e-14\n",
      " 3: -4.4111e+02 -5.8227e+02  2e+02  9e-03  7e-14\n",
      " 4: -4.6125e+02 -5.3708e+02  8e+01  4e-03  7e-14\n",
      " 5: -4.7293e+02 -5.1305e+02  4e+01  2e-03  7e-14\n",
      " 6: -4.7763e+02 -5.0407e+02  3e+01  1e-03  6e-14\n",
      " 7: -4.8272e+02 -4.9477e+02  1e+01  4e-04  7e-14\n",
      " 8: -4.8534e+02 -4.9054e+02  5e+00  2e-04  7e-14\n",
      " 9: -4.8671e+02 -4.8840e+02  2e+00  4e-05  7e-14\n",
      "10: -4.8718e+02 -4.8773e+02  6e-01  7e-06  8e-14\n",
      "11: -4.8738e+02 -4.8747e+02  9e-02  4e-07  8e-14\n",
      "12: -4.8742e+02 -4.8743e+02  7e-03  3e-08  8e-14\n",
      "13: -4.8742e+02 -4.8742e+02  2e-04  6e-10  8e-14\n",
      "Optimal solution found.\n"
     ]
    }
   ],
   "source": [
    "C = 1.0\n",
    "support_vectors, support_vector_labels, support_vector_alphas = soft_margin_svm(x_train, y_train, C)"
   ]
  },
  {
   "cell_type": "code",
   "execution_count": 8,
   "metadata": {},
   "outputs": [],
   "source": [
    "def predict_labels(x_test, support_vectors, support_vector_labels, support_vector_alphas):\n",
    "    \"\"\"\n",
    "    input:\n",
    "        x_test: test data\n",
    "        support_vectros: data points which are SVs of our model.\n",
    "        support_vector_labels: labels of SVs\n",
    "        support_vector_alphas: alpha coefficient of corresponding SVs \n",
    "    output:\n",
    "        y_pred: predictoin labels\n",
    "    \"\"\"\n",
    "    \n",
    "    # TODO: Write your code here\n",
    "\n",
    "    y_pred = None\n",
    "    return y_pred"
   ]
  },
  {
   "cell_type": "code",
   "execution_count": 9,
   "metadata": {},
   "outputs": [],
   "source": [
    "y_pred = predict_labels(np.array(x_test), support_vectors, support_vector_labels, support_vector_alphas)"
   ]
  },
  {
   "cell_type": "markdown",
   "metadata": {},
   "source": [
    "# Evaluation (20 points)"
   ]
  },
  {
   "cell_type": "markdown",
   "metadata": {},
   "source": [
    "Compute accuracy, balanced accuracy and plot confusion matrix of your trained model using ```Seaborn.heatmap()``` function. Use case of balanced accuracy is when dealing with imbalanced data, i.e. when one of the target classes appears a lot more than the other and it is defined by average of recall of classes. Confusion matrix is a $k\\times k$ (k is number of classes) matrix which cell ij is showing that number of data points labeld i which predicted j. For more detail of evaluation metrics you can see [here](https://neptune.ai/blog/balanced-accuracy).\n",
    "\n",
    "You may use ```scikit-learn``` library to compute these metrics."
   ]
  },
  {
   "cell_type": "code",
   "execution_count": 10,
   "metadata": {},
   "outputs": [
    {
     "name": "stdout",
     "output_type": "stream",
     "text": [
      "Accuracy:  0.8024357239512855\n",
      "Balanced Accuracy:  0.7372659691629956\n",
      "Confusion Matrix:\n",
      " [[129  98]\n",
      " [ 48 464]]\n"
     ]
    }
   ],
   "source": [
    "def evaluate(y_test, y_pred):\n",
    "    \"\"\"\n",
    "    input:\n",
    "        y_test: true labels\n",
    "        y_pred: predicted labels\n",
    "    output:\n",
    "        accuracy: accuracy of the model\n",
    "        balanced_accuracy: balanced accuracy of the model\n",
    "        confusion_matrix: confusion matrix of the model\n",
    "    \"\"\"\n",
    "    # TODO: Write your code here\n",
    "\n",
    "    accuracy = None\n",
    "    balanced_accuracy = None\n",
    "    confusion_mat = None\n",
    "\n",
    "    print(\"Accuracy: \", accuracy)\n",
    "    print(\"Balanced Accuracy: \", balanced_accuracy)\n",
    "    print(\"Confusion Matrix:\\n\", confusion_mat)\n",
    "    return accuracy, balanced_accuracy, confusion_mat\n",
    "\n",
    "\n",
    "_, _, confusion_mat = evaluate(y_test, y_pred)"
   ]
  },
  {
   "cell_type": "code",
   "execution_count": 11,
   "metadata": {},
   "outputs": [
    {
     "data": {
      "text/plain": [
       "<Axes: >"
      ]
     },
     "execution_count": 11,
     "metadata": {},
     "output_type": "execute_result"
    },
    {
     "data": {
      "image/png": "[encoded data removed]",
      "text/plain": [
       "<Figure size 640x480 with 2 Axes>"
      ]
     },
     "metadata": {},
     "output_type": "display_data"
    }
   ],
   "source": [
    "cm_matrix = pd.DataFrame(data=confusion_mat, columns=['Predict Negative:-1', 'Predict Positive:1'],\n",
    "                                 index=['Actual Negative:-1', 'Actual Positive:1'])\n",
    "\n",
    "sns.heatmap(cm_matrix, annot=True, fmt='d', cmap='mako')"
   ]
  },
  {
   "cell_type": "markdown",
   "metadata": {},
   "source": [
    "# Fine-tunning (40 points)"
   ]
  },
  {
   "cell_type": "markdown",
   "metadata": {},
   "source": [
    "like what you did before, implement Soft Margin SVM but now use rbf kernel. To determine rbf $\\gamma$ parameter use validation datas and find best(best by balanced accuracy) $\\gamma$ between 0.001 , 0.01, 1, 10, 100. Not that you can't use ```scikit-learn``` library here."
   ]
  },
  {
   "cell_type": "code",
   "execution_count": 7,
   "metadata": {},
   "outputs": [],
   "source": [
    "def rbf(x1, x2, gamma=1):\n",
    "    \"\"\"\n",
    "    input:\n",
    "        x1: first vector\n",
    "        x2: second vector\n",
    "        gamma: rbf kernel parameter with defalt value 1.\n",
    "    output:\n",
    "        ouput: computed rbf of two input vectors\n",
    "    \"\"\"\n",
    "    # TODO: Write your code here\n",
    "    output = None\n",
    "    return output\n",
    "\n",
    "def soft_margin_svm(X, y, C, gamma=1):\n",
    "    \"\"\"\n",
    "    input:\n",
    "        X: training data\n",
    "        y: training labels\n",
    "        C: errors weight\n",
    "        gamma: rbf kernel parameter with defalt value 1.\n",
    "    output:\n",
    "        support_vectros: data points which are SVs of our model.\n",
    "        support_vector_labels: labels of SVs\n",
    "        support_vector_alphas: alpha coefficient of corresponding SVs \n",
    "    \"\"\"\n",
    "\n",
    "    # TODO: Write your code here\n",
    "\n",
    "    support_vectors = None\n",
    "    support_vector_labels = None\n",
    "    support_vector_alphas = None\n",
    "\n",
    "    return support_vectors, support_vector_labels, support_vector_alphas"
   ]
  },
  {
   "cell_type": "code",
   "execution_count": 13,
   "metadata": {},
   "outputs": [
    {
     "name": "stdout",
     "output_type": "stream",
     "text": [
      "gamma =  0.1\n"
     ]
    },
    {
     "name": "stdout",
     "output_type": "stream",
     "text": [
      "     pcost       dcost       gap    pres   dres\n",
      " 0: -4.6331e+02 -2.1253e+03  2e+03  2e-12  6e-16\n",
      " 1: -4.6978e+02 -5.0577e+02  4e+01  6e-14  1e-16\n",
      " 2: -4.7552e+02 -4.7591e+02  4e-01  8e-15  8e-17\n",
      " 3: -4.7559e+02 -4.7559e+02  4e-03  5e-14  8e-17\n",
      " 4: -4.7559e+02 -4.7559e+02  4e-05  6e-14  1e-16\n",
      "Optimal solution found.\n",
      "gamma =  0.1\n",
      "     pcost       dcost       gap    pres   dres\n",
      " 0: -4.6331e+02 -2.1253e+03  2e+03  2e-12  6e-16\n",
      " 1: -4.6978e+02 -5.0577e+02  4e+01  6e-14  1e-16\n",
      " 2: -4.7552e+02 -4.7591e+02  4e-01  8e-15  8e-17\n",
      " 3: -4.7559e+02 -4.7559e+02  4e-03  5e-14  8e-17\n",
      " 4: -4.7559e+02 -4.7559e+02  4e-05  6e-14  1e-16\n",
      "Optimal solution found.\n",
      "gamma =  1\n",
      "     pcost       dcost       gap    pres   dres\n",
      " 0: -2.2807e+02 -2.3860e+03  1e+04  2e+00  1e-15\n",
      " 1: -1.9511e+02 -1.3394e+03  1e+03  1e-01  6e-16\n",
      " 2: -2.1236e+02 -4.1488e+02  2e+02  2e-02  8e-16\n",
      " 3: -2.3269e+02 -2.8889e+02  6e+01  3e-03  6e-16\n",
      " 4: -2.4128e+02 -2.5379e+02  1e+01  2e-04  5e-16\n",
      " 5: -2.4336e+02 -2.4664e+02  3e+00  2e-05  5e-16\n",
      " 6: -2.4396e+02 -2.4482e+02  9e-01  2e-06  5e-16\n",
      " 7: -2.4412e+02 -2.4439e+02  3e-01  7e-15  5e-16\n",
      " 8: -2.4419e+02 -2.4423e+02  4e-02  4e-15  5e-16\n",
      " 9: -2.4420e+02 -2.4420e+02  9e-04  7e-16  5e-16\n",
      "10: -2.4420e+02 -2.4420e+02  1e-05  8e-15  5e-16\n",
      "Optimal solution found.\n",
      "gamma =  10\n",
      "     pcost       dcost       gap    pres   dres\n",
      " 0: -6.2048e+02 -3.2025e+03  2e+04  3e+00  2e-14\n",
      " 1: -4.3213e+02 -2.0926e+03  2e+03  2e-01  9e-15\n",
      " 2: -4.5019e+02 -7.0525e+02  3e+02  2e-02  6e-15\n",
      " 3: -5.0506e+02 -6.0737e+02  1e+02  6e-03  7e-15\n",
      " 4: -5.2409e+02 -5.7948e+02  6e+01  3e-03  7e-15\n",
      " 5: -5.3432e+02 -5.6427e+02  3e+01  1e-03  7e-15\n",
      " 6: -5.3954e+02 -5.5681e+02  2e+01  7e-04  7e-15\n",
      " 7: -5.4297e+02 -5.5209e+02  9e+00  3e-04  7e-15\n",
      " 8: -5.4610e+02 -5.4792e+02  2e+00  4e-05  8e-15\n",
      " 9: -5.4679e+02 -5.4705e+02  3e-01  4e-06  8e-15\n",
      "10: -5.4690e+02 -5.4692e+02  1e-02  2e-07  8e-15\n",
      "11: -5.4691e+02 -5.4691e+02  3e-04  3e-09  8e-15\n",
      "Optimal solution found.\n",
      "gamma =  100\n",
      "     pcost       dcost       gap    pres   dres\n",
      " 0: -8.4606e+02 -3.0015e+03  1e+04  2e+00  2e-14\n",
      " 1: -6.2477e+02 -1.9350e+03  1e+03  1e-14  1e-14\n",
      " 2: -6.6964e+02 -8.4354e+02  2e+02  2e-14  9e-15\n",
      " 3: -7.0632e+02 -7.3538e+02  3e+01  8e-15  1e-14\n",
      " 4: -7.1791e+02 -7.2310e+02  5e+00  9e-15  1e-14\n",
      " 5: -7.2038e+02 -7.2131e+02  9e-01  4e-15  1e-14\n",
      " 6: -7.2075e+02 -7.2100e+02  2e-01  1e-14  1e-14\n",
      " 7: -7.2087e+02 -7.2090e+02  2e-02  2e-14  1e-14\n",
      " 8: -7.2089e+02 -7.2089e+02  5e-04  2e-14  1e-14\n",
      "Optimal solution found.\n"
     ]
    }
   ],
   "source": [
    "gammas = [00.1, 0.1, 1, 10, 100]\n",
    "best_gamma = None\n",
    "best_support_vectors = None\n",
    "best_support_vector_labels = None\n",
    "best_support_vector_alphas = None\n",
    "\n",
    "# TODO: Write your code here\n",
    "\n",
    "print(best_gamma)"
   ]
  },
  {
   "cell_type": "code",
   "execution_count": 14,
   "metadata": {},
   "outputs": [
    {
     "name": "stdout",
     "output_type": "stream",
     "text": [
      "     pcost       dcost       gap    pres   dres\n",
      " 0: -2.2807e+02 -2.3860e+03  1e+04  2e+00  1e-15\n",
      " 1: -1.9511e+02 -1.3394e+03  1e+03  1e-01  6e-16\n",
      " 2: -2.1236e+02 -4.1488e+02  2e+02  2e-02  8e-16\n",
      " 3: -2.3269e+02 -2.8889e+02  6e+01  3e-03  6e-16\n",
      " 4: -2.4128e+02 -2.5379e+02  1e+01  2e-04  5e-16\n",
      " 5: -2.4336e+02 -2.4664e+02  3e+00  2e-05  5e-16\n",
      " 6: -2.4396e+02 -2.4482e+02  9e-01  2e-06  5e-16\n",
      " 7: -2.4412e+02 -2.4439e+02  3e-01  7e-15  5e-16\n",
      " 8: -2.4419e+02 -2.4423e+02  4e-02  4e-15  5e-16\n",
      " 9: -2.4420e+02 -2.4420e+02  9e-04  7e-16  5e-16\n",
      "10: -2.4420e+02 -2.4420e+02  1e-05  8e-15  5e-16\n",
      "Optimal solution found.\n",
      "Accuracy:  0.7753721244925575\n",
      "Balanced Accuracy:  0.677274056993392\n",
      "Confusion Matrix:\n",
      " [[ 96 131]\n",
      " [ 35 477]]\n"
     ]
    }
   ],
   "source": [
    "y_pred = predict_labels(np.array(x_test), best_support_vectors, best_support_vector_labels, best_support_vector_alphas)\n",
    "_, _, confusion_mat = evaluate(y_test, y_pred)"
   ]
  },
  {
   "cell_type": "markdown",
   "metadata": {},
   "source": [
    "# Multiclass SVM (30 points + 50 points optional)"
   ]
  },
  {
   "cell_type": "markdown",
   "metadata": {},
   "source": [
    "Now we want implement Multiclass SVM. Use ```SVC``` function with rbf kernel from ```scikit-learn``` package on all train datas (all six classes) and choose best hyperparameters for $C$ and $\\gamma$ between 0.01, 0.1, 1, 10, 100. After that evaluate it with your function.\n",
    "\n",
    "Note that in this example we had enough data to split them in train and validation but in case that we don't have enough data, ```scikit-learn``` has a built-in fast library named ```GridSearchCV()``` which can help us in hyperparameter tunning with cross validation."
   ]
  },
  {
   "cell_type": "code",
   "execution_count": 15,
   "metadata": {},
   "outputs": [],
   "source": [
    "Cs = [0.01, 0.1, 1, 10, 100]\n",
    "gammas = [0.01, 0.1, 1, 10, 100]\n",
    "# TODO: Write your code here"
   ]
  },
  {
   "cell_type": "markdown",
   "metadata": {},
   "source": [
    "Implement Multiclass SVM from scratch without using ready functions (optional)."
   ]
  },
  {
   "cell_type": "code",
   "execution_count": null,
   "metadata": {},
   "outputs": [],
   "source": [
    "# TODO: Write your code here"
   ]
  },
  {
   "cell_type": "markdown",
   "metadata": {},
   "source": [
    "# Different SVM Kernels (40 points)"
   ]
  },
  {
   "cell_type": "markdown",
   "metadata": {},
   "source": [
    "A kernel in SVM is like a tool that helps solve tricky problems. It lets us work in a space with many dimensions, making complex calculations easier. With kernels, we can deal with lots of dimensions, even an endless amount. Kernels are crucial for sorting data into groups and help spot patterns in the data we're looking at. They're especially good at tackling twisty problems with a straightforward approach.\n",
    "\n",
    "Sometimes, finding a straight line or flat surface to divide data isn't possible, especially as we explore more dimensions. That's where different types of SVM kernels come in handy. They transform twisty, complicated data into a simpler form that's easier to separate. In this explanation, we talk about 4 popular types of these kernels. Also in following cells you can use any package.\n",
    "\n",
    "<img src=\"./kernel.jpg\" alt=\"Types of Kernel Functions\"  align=center class=\"saturate\">"
   ]
  },
  {
   "cell_type": "markdown",
   "metadata": {},
   "source": [
    "### Linear Kernel"
   ]
  },
  {
   "cell_type": "markdown",
   "metadata": {},
   "source": [
    "This is the simplest kind of kernel, typically working in one dimension. It works best when dealing with a lot of features. Linear kernels are quicker than other types.\n",
    "\n",
    "**Formula:**\n",
    "\n",
    "$$F(x, x_j) = sum(x, x_j)$$\n",
    "\n",
    "Now Implement svc classifier using a linear kernel. Get the prediction and evaluate it by function which you implemented before. Also plot confusion matrix by `Seaborn`."
   ]
  },
  {
   "cell_type": "code",
   "execution_count": 18,
   "metadata": {},
   "outputs": [
    {
     "name": "stdout",
     "output_type": "stream",
     "text": [
      "Accuracy:  0.8673982624599909\n",
      "Balanced Accuracy:  0.8296118784587972\n",
      "Confusion Matrix:\n",
      " [[498   0   3   0   3   0]\n",
      " [  0 228   1   0  17   0]\n",
      " [  7   0 435  17   0   1]\n",
      " [  3   1  52 102   5  64]\n",
      " [  9   9   0   2 191  27]\n",
      " [  0   0  10  45  14 443]]\n"
     ]
    }
   ],
   "source": [
    "# TODO: Write your code here"
   ]
  },
  {
   "cell_type": "markdown",
   "metadata": {},
   "source": [
    "### Gaussian RBF kernel"
   ]
  },
  {
   "cell_type": "markdown",
   "metadata": {},
   "source": [
    "This kernel is a favorite choice in SVM, especially for data that doesn't line up straight. It's great for sorting data when you don't know much about it beforehand.\n",
    "\n",
    "**Formula:**\n",
    "\n",
    "$$F(x, x_j) = \\exp{(-\\gamma ||x - xj||^2)}$$\n",
    "\n",
    "Now, configure the SVC classifier with a sigmoid kernel. Get the prediction and evaluate it by function which you implemented before. Also plot confusion matrix as previous part. "
   ]
  },
  {
   "cell_type": "code",
   "execution_count": 20,
   "metadata": {},
   "outputs": [
    {
     "name": "stdout",
     "output_type": "stream",
     "text": [
      "Accuracy:  0.8920896204846822\n",
      "Balanced Accuracy:  0.8670985916367675\n",
      "Confusion Matrix:\n",
      " [[498   1   4   0   1   0]\n",
      " [  0 240   0   1   4   1]\n",
      " [  4   0 441   9   0   6]\n",
      " [  3   2  55 127   3  37]\n",
      " [  6   2   1   2 205  22]\n",
      " [  0   1  13  47  11 440]]\n"
     ]
    }
   ],
   "source": [
    "# TODO: Write your code here"
   ]
  },
  {
   "cell_type": "markdown",
   "metadata": {},
   "source": [
    "### Polynomial Kernel"
   ]
  },
  {
   "cell_type": "markdown",
   "metadata": {},
   "source": [
    "This is a broader version of the linear kernel. It's not as popular because it's not as quick or precise.\n",
    "\n",
    "**Formula:**\n",
    "\n",
    "$$F(x, x_j) = (x.x_j+1)^d$$\n",
    "\n",
    "Now, set up the SVC classifier using a *polynomial* kernel. Get the prediction and evaluate it by function which you implemented before. Also plot confusion matrix as previous parts."
   ]
  },
  {
   "cell_type": "code",
   "execution_count": 22,
   "metadata": {},
   "outputs": [
    {
     "name": "stdout",
     "output_type": "stream",
     "text": [
      "Accuracy:  0.8920896204846822\n",
      "Balanced Accuracy:  0.8670985916367675\n",
      "Confusion Matrix:\n",
      " [[498   1   4   0   1   0]\n",
      " [  0 240   0   1   4   1]\n",
      " [  4   0 441   9   0   6]\n",
      " [  3   2  55 127   3  37]\n",
      " [  6   2   1   2 205  22]\n",
      " [  0   1  13  47  11 440]]\n"
     ]
    }
   ],
   "source": [
    "# TODO: Write your code here"
   ]
  },
  {
   "cell_type": "markdown",
   "metadata": {},
   "source": [
    "### Sigmoid Kernel"
   ]
  },
  {
   "cell_type": "markdown",
   "metadata": {},
   "source": [
    "This is mainly chosen for use with neural networks. The kernel function acts like the activation function in a two-layer perceptron neural network model, helping to activate the neurons.\n",
    "\n",
    "**Formula:**\n",
    "\n",
    "$$F(x, x_j) = \\tanh(α x a y + c)$$\n",
    "\n",
    "Now, configure the SVC classifier with a sigmoid kernel. Get the prediction and evaluate it by function which you implemented before. Also plot confusion matrix as previous parts. "
   ]
  },
  {
   "cell_type": "code",
   "execution_count": 24,
   "metadata": {},
   "outputs": [
    {
     "name": "stdout",
     "output_type": "stream",
     "text": [
      "Accuracy:  0.7192501143118427\n",
      "Balanced Accuracy:  0.6737052742237154\n",
      "Confusion Matrix:\n",
      " [[418   7  26   0  53   0]\n",
      " [ 30 210   0   1   5   0]\n",
      " [  4   0 416  38   1   1]\n",
      " [  4   2  61  61  19  80]\n",
      " [ 26  42   6  35 121   8]\n",
      " [  0   1  12  82  70 347]]\n"
     ]
    }
   ],
   "source": [
    "# TODO: Write your code here"
   ]
  },
  {
   "cell_type": "markdown",
   "metadata": {},
   "source": [
    "Compare these four kernel functions with each other. What are the main advantages and disadvantages of each one? "
   ]
  },
  {
   "cell_type": "markdown",
   "metadata": {},
   "source": [
    "`TODO: Write Here`"
   ]
  }
 ],
 "metadata": {
  "kernelspec": {
   "display_name": "Python 3",
   "language": "python",
   "name": "python3"
  },
  "language_info": {
   "codemirror_mode": {
    "name": "ipython",
    "version": 3
   },
   "file_extension": ".py",
   "mimetype": "text/x-python",
   "name": "python",
   "nbconvert_exporter": "python",
   "pygments_lexer": "ipython3",
   "version": "3.11.2"
  }
 },
 "nbformat": 4,
 "nbformat_minor": 2
}
