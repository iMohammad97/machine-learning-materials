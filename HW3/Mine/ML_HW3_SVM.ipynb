{
  "cells": [
    {
      "cell_type": "markdown",
      "metadata": {
        "id": "uk8sKdiM2Kck"
      },
      "source": [
        "<img src=\"./sharif.png\" alt=\"SUT logo\" width=300 height=300 align=left class=\"saturate\">\n",
        "\n",
        "<br>\n",
        "<font>\n",
        "<div dir=ltr align=center>\n",
        "<font color=0F5298 size=7>\n",
        "    Machine Learning <br>\n",
        "<font color=2565AE size=5>\n",
        "    Computer Engineering Department <br>\n",
        "    Spring 2024<br>\n",
        "<font color=3C99D size=5>\n",
        "    Practical Assignment 3<br>\n",
        "<font color=696880 size=4>\n",
        "    Ashkan Majidi - Shayan Salehi - Amirhossein Alamdar\n",
        "\n",
        "____"
      ]
    },
    {
      "cell_type": "markdown",
      "metadata": {
        "id": "Z5mNgXRi2Kcl"
      },
      "source": [
        "# Personal Data"
      ]
    },
    {
      "cell_type": "code",
      "execution_count": 1,
      "metadata": {
        "id": "s1zK6hq72Kcm"
      },
      "outputs": [],
      "source": [
        "student_number = '402208592'\n",
        "first_name = 'Mohammad'\n",
        "last_name = 'Mohammadi'"
      ]
    },
    {
      "cell_type": "markdown",
      "metadata": {
        "id": "IhQxXbft2Kcm"
      },
      "source": [
        "# Introduction\n",
        "\n",
        "In this assignment, you will implement SVM (Support Vector Machines) for classification.\n"
      ]
    },
    {
      "cell_type": "markdown",
      "metadata": {
        "id": "V8deV8wp2Kcm"
      },
      "source": [
        "# Data Prepfocessing"
      ]
    },
    {
      "cell_type": "markdown",
      "metadata": {
        "id": "plWpIM7F2Kcm"
      },
      "source": [
        "Import your needed libraries in following cell."
      ]
    },
    {
      "cell_type": "code",
      "execution_count": 28,
      "metadata": {
        "id": "1PaU_Thc2Kcn"
      },
      "outputs": [],
      "source": [
        "# TODO: Write your code here\n",
        "import numpy as np\n",
        "import pandas as pd\n",
        "from sklearn.model_selection import train_test_split, GridSearchCV\n",
        "from sklearn.preprocessing import StandardScaler\n",
        "from sklearn.metrics import accuracy_score, balanced_accuracy_score, confusion_matrix, make_scorer\n",
        "from sklearn.svm import SVC\n",
        "from cvxopt import matrix, solvers\n",
        "import seaborn as sns\n",
        "import matplotlib.pyplot as plt"
      ]
    },
    {
      "cell_type": "code",
      "source": [
        "!unzip /content/Data.zip"
      ],
      "metadata": {
        "colab": {
          "base_uri": "https://localhost:8080/"
        },
        "id": "mFkxNn6ZWQFI",
        "outputId": "2232de18-9815-4d5c-f1f9-9bd157aa6514"
      },
      "execution_count": 3,
      "outputs": [
        {
          "output_type": "stream",
          "name": "stdout",
          "text": [
            "Archive:  /content/Data.zip\n",
            "   creating: Data/\n",
            "  inflating: __MACOSX/._Data         \n",
            "  inflating: Data/satimage.csv       \n"
          ]
        }
      ]
    },
    {
      "cell_type": "markdown",
      "metadata": {
        "id": "uxM5R9br2Kcn"
      },
      "source": [
        "Load data from ```satimage``` dataset and split data to features and labels. The ```label``` column is our target variable."
      ]
    },
    {
      "cell_type": "code",
      "execution_count": 4,
      "metadata": {
        "id": "CDvgJuSS2Kcn",
        "colab": {
          "base_uri": "https://localhost:8080/"
        },
        "outputId": "525577cd-b55c-4dcd-cb99-6035bfa7b011"
      },
      "outputs": [
        {
          "output_type": "execute_result",
          "data": {
            "text/plain": [
              "(      0         1         2         3         4         5          6       7  \\\n",
              " 0   7.5  6.272730  4.047619  3.975208  3.032258  4.545455   8.421050  1.8125   \n",
              " 1   7.5  4.090909 -0.714290  1.776858  2.903226  3.090909   5.052630 -1.7500   \n",
              " 2  12.0  9.909090  8.333330  5.479339  3.354839  7.272730  10.526316  2.7500   \n",
              " 3   7.5  4.818182  1.190480  2.702482  2.774194  2.363640   5.894740 -0.2500   \n",
              " 4   7.5  4.818182  2.142860  2.702482  3.032258  3.090909   6.736840 -1.0000   \n",
              " \n",
              "         8         9  ...        26        27        28        29        30  \\\n",
              " 0 -2.2500  0.077672  ... -0.517241 -0.600000 -0.138462 -0.188119 -0.431579   \n",
              " 1 -2.2500  0.077672  ... -0.517241 -0.600000 -0.015385 -0.049505 -0.431579   \n",
              " 2  3.4375  6.368924  ...  0.103448 -0.233333  0.200000  0.207921 -0.010526   \n",
              " 3 -3.8750 -2.368924  ... -0.011494 -0.383333 -0.138462 -0.049505 -0.347368   \n",
              " 4 -0.6250 -1.320388  ...  0.287356 -0.183333  0.230769  0.267327 -0.031579   \n",
              " \n",
              "          31       32        33        34        35  \n",
              " 0 -0.546875 -0.15625 -0.126214 -0.431579 -0.484375  \n",
              " 1 -0.609375 -0.15625 -0.126214 -0.494737 -0.609375  \n",
              " 2 -0.312500 -0.15625  0.009709 -0.326316 -0.437500  \n",
              " 3 -0.484375  0.09375  0.087379 -0.031579 -0.218750  \n",
              " 4 -0.281250 -0.03125 -0.126214 -0.431579 -0.546875  \n",
              " \n",
              " [5 rows x 36 columns],\n",
              " 0    6.0\n",
              " 1    6.0\n",
              " 2    6.0\n",
              " 3    6.0\n",
              " 4    6.0\n",
              " Name: label, dtype: float64)"
            ]
          },
          "metadata": {},
          "execution_count": 4
        }
      ],
      "source": [
        "# TODO: Write your code here\n",
        "\n",
        "data_path = '/content/Data/satimage.csv'\n",
        "satimage_data = pd.read_csv(data_path)\n",
        "# print(satimage_data.head())\n",
        "\n",
        "# Split the data to features and labels\n",
        "X = satimage_data.drop(columns=['label'])\n",
        "y = satimage_data['label']\n",
        "\n",
        "X.head(), y.head()"
      ]
    },
    {
      "cell_type": "markdown",
      "metadata": {
        "id": "t6IRntls2Kcn"
      },
      "source": [
        "Now split data to train, validation and test parts. 60% of data should be used for train, 15% for validation and 25% for test. After that scale the data to Standard Normal Distribution using ```StandardScaler``` class from ```scikit-learn``` library."
      ]
    },
    {
      "cell_type": "code",
      "execution_count": 5,
      "metadata": {
        "id": "DmXppohw2Kcn",
        "colab": {
          "base_uri": "https://localhost:8080/"
        },
        "outputId": "f76186b8-c47e-4ab9-a607-e0f6570c0553"
      },
      "outputs": [
        {
          "output_type": "execute_result",
          "data": {
            "text/plain": [
              "(array([ 6.44107634e-17, -8.28138387e-17,  1.82650522e-16, -8.05134543e-18,\n",
              "        -6.51468864e-16,  7.91332236e-17,  2.81567051e-16,  1.61026909e-18,\n",
              "        -1.65627677e-17, -5.88898408e-17, -7.36123010e-18, -2.11635365e-17,\n",
              "         1.33422296e-17, -1.28821527e-17,  5.01483801e-17,  5.56693027e-17,\n",
              "         1.15019220e-17, -9.20153763e-18, -2.11635365e-17,  1.19619989e-17,\n",
              "        -5.06084570e-18,  9.01750688e-17,  6.80913785e-17,  5.29088414e-17,\n",
              "         2.30038441e-18, -9.20153763e-18, -3.12852279e-17, -1.84030753e-17,\n",
              "        -1.74829215e-17,  9.20153763e-18,  9.89165295e-18, -8.97149919e-18,\n",
              "         4.37073037e-17,  2.57643054e-17,  1.33422296e-17, -4.39373422e-17]),\n",
              " array([1., 1., 1., 1., 1., 1., 1., 1., 1., 1., 1., 1., 1., 1., 1., 1., 1.,\n",
              "        1., 1., 1., 1., 1., 1., 1., 1., 1., 1., 1., 1., 1., 1., 1., 1., 1.,\n",
              "        1., 1.]))"
            ]
          },
          "metadata": {},
          "execution_count": 5
        }
      ],
      "source": [
        "# TODO: Write your code here\n",
        "# Splitting the dataset into train, validation, and test sets\n",
        "X_train, X_temp, y_train, y_temp = train_test_split(X, y, test_size=0.40, random_state=42)  # 60% for training\n",
        "X_val, X_test, y_val, y_test = train_test_split(X_temp, y_temp, test_size=(25/40), random_state=42)  # 15% validation, 25% test\n",
        "\n",
        "scaler = StandardScaler()\n",
        "X_train_scaled = scaler.fit_transform(X_train)\n",
        "X_val_scaled = scaler.transform(X_val)\n",
        "X_test_scaled = scaler.transform(X_test)\n",
        "\n",
        "X_train_scaled.mean(axis=0), X_train_scaled.std(axis=0)"
      ]
    },
    {
      "cell_type": "markdown",
      "metadata": {
        "id": "PpG7BPQy2Kcn"
      },
      "source": [
        "We want to train Binary SVM model for classification between labels 4 and 6. Choose corresponding datas and convert their lables to 1 and -1 respectively for 4 and 6."
      ]
    },
    {
      "cell_type": "code",
      "execution_count": 6,
      "metadata": {
        "id": "1LpKKQXJ2Kcn",
        "colab": {
          "base_uri": "https://localhost:8080/"
        },
        "outputId": "4d018db5-c8ea-4528-9adf-81055ed3ba8a"
      },
      "outputs": [
        {
          "output_type": "execute_result",
          "data": {
            "text/plain": [
              "(5658    1\n",
              " 356    -1\n",
              " 3624   -1\n",
              " 2807    1\n",
              " 6343   -1\n",
              " Name: label, dtype: int64,\n",
              " 5620    1\n",
              " 3248   -1\n",
              " 5605    1\n",
              " 4272   -1\n",
              " 3893   -1\n",
              " Name: label, dtype: int64,\n",
              " 1052    1\n",
              " 6111   -1\n",
              " 1532    1\n",
              " 1661    1\n",
              " 181    -1\n",
              " Name: label, dtype: int64)"
            ]
          },
          "metadata": {},
          "execution_count": 6
        }
      ],
      "source": [
        "# TODO: Write your code here\n",
        "\n",
        "filtered_indices_train = (y_train == 4) | (y_train == 6)\n",
        "X_train_binary = X_train_scaled[filtered_indices_train]\n",
        "y_train_binary = y_train[filtered_indices_train].map({4: 1, 6: -1})\n",
        "\n",
        "filtered_indices_val = (y_val == 4) | (y_val == 6)\n",
        "X_val_binary = X_val_scaled[filtered_indices_val]\n",
        "y_val_binary = y_val[filtered_indices_val].map({4: 1, 6: -1})\n",
        "\n",
        "filtered_indices_test = (y_test == 4) | (y_test == 6)\n",
        "X_test_binary = X_test_scaled[filtered_indices_test]\n",
        "y_test_binary = y_test[filtered_indices_test].map({4: 1, 6: -1})\n",
        "\n",
        "y_train_binary.head(), y_val_binary.head(), y_test_binary.head()"
      ]
    },
    {
      "cell_type": "markdown",
      "metadata": {
        "id": "H3Gh3UOd2Kco"
      },
      "source": [
        "# Model (50 points)"
      ]
    },
    {
      "cell_type": "markdown",
      "metadata": {
        "id": "HzXsb7rH2Kco"
      },
      "source": [
        "Here is soft margin svm convex optimization formulation.\n",
        "$$\n",
        "\\begin{aligned}\n",
        "\\text { Minimize } & \\frac{1}{2}\\|\\mathbf{w}\\|^2+C \\sum_{i=1}^N \\xi_i \\\\\n",
        "\\text { Subject to } & y_i\\left(\\mathbf{w}^T \\mathbf{x}_i+b\\right) \\geq 1-\\xi_i, \\quad i=1,2, \\ldots, N \\\\\n",
        "& \\xi_i \\geq 0, \\quad i=1,2, \\ldots, N\n",
        "\\end{aligned}\n",
        "$$\n",
        "write dual of the soft margin svm optimization problem below:"
      ]
    },
    {
      "cell_type": "markdown",
      "metadata": {
        "id": "7872f3BW2Kco"
      },
      "source": [
        "In order to implement SVM, we need the dual objective function form which can be formulated as below:\n",
        "\n",
        "$$\\text{Maximize} \\quad W(\\alpha) = \\sum_{i=1}^N \\alpha_i - \\frac{1}{2} \\sum_{i=1}^N \\sum_{j=1}^N \\alpha_i \\alpha_j y_i y_j \\mathbf{x}_i^T \\mathbf{x}_j$$\n",
        "\n",
        "Subject to the constraints:\n",
        "\n",
        "$$0 \\leq \\alpha_i \\leq C, \\quad i=1,2,\\ldots,N$$\n",
        "\n",
        "$$\\sum_{i=1}^N \\alpha_i y_i = 0$$\n",
        "\n",
        "This form allows us to solve the SVM optimization problem."
      ]
    },
    {
      "cell_type": "markdown",
      "metadata": {
        "id": "EaTg1fby2Kco"
      },
      "source": [
        "Now you should write this optimization problem in standard Quadratic Program (QP) form and use a QP solver to find optimal answer. Here is General form of a QP:\n",
        "$$\n",
        "\\begin{aligned}\n",
        "\\text { Minimize } & \\frac{1}{2} x^TPx + q^Tx + r \\\\\n",
        "\\text { Subject to } & Gx \\leq h \\\\\n",
        "& Ax = b\n",
        "\\end{aligned}\n",
        "$$\n",
        "\n",
        "Complete functions below and use ```cvxopt``` library which is a common library for solving QPs. Note that you can't use ```scikit-learn``` library.\n"
      ]
    },
    {
      "cell_type": "markdown",
      "source": [
        "**To transform to Standard QP Form:**\n",
        "\n",
        "The QP objective is to minimize, so we multiply the SVM dual by −1 to convert it from a maximization to a minimization problem:\n",
        "\n",
        "$$\\text{Minimize} \\quad \\frac{1}{2} \\alpha^T P \\alpha - q^T \\alpha$$\n",
        "\n",
        "where $P_{ij} = y_iy_j X_i^T X_j$ and $q_i = -1$ for all i.\n",
        "\n",
        "The inequality constraints $Gx≤h$ correspond to:\n",
        "\n",
        "$$-\\alpha_i \\leq 0 \\quad \\text{and} \\quad \\alpha_i \\leq C$$\n",
        "\n",
        "We can represent these constraints in matrix form as:\n",
        "\n",
        "$$G = \\begin{bmatrix} -I \\\\ I \\end{bmatrix}, \\quad h = \\begin{bmatrix} 0 \\\\ C \\end{bmatrix}$$\n",
        "\n",
        "where $I$ is the $N×N$ identity matrix.\n",
        "\n",
        "The equality constraint $Ax=b$ captures:\n",
        "\n",
        "$$A = \\begin{bmatrix} y_1 & y_2 & \\dots & y_N \\end{bmatrix}, \\quad b = 0$$"
      ],
      "metadata": {
        "id": "omgaqibLRqRb"
      }
    },
    {
      "cell_type": "code",
      "source": [
        "def soft_margin_svm(X, y, C):\n",
        "    \"\"\"\n",
        "    input:\n",
        "        X: training data\n",
        "        y: training labels\n",
        "        C: errors weight\n",
        "    output:\n",
        "        support_vectros: data points which are SVs of our model.\n",
        "        support_vector_labels: labels of SVs\n",
        "        support_vector_alphas: alpha coefficient of corresponding SVs\n",
        "    \"\"\"\n",
        "\n",
        "    # TODO: Write your code here\n",
        "\n",
        "\n",
        "    n_samples, n_features = X.shape\n",
        "    y = np.array(y).reshape(-1, 1) * 1.0\n",
        "    P = matrix(np.dot(y * X, (y * X).T))\n",
        "    q = matrix(-np.ones((n_samples, 1)))\n",
        "    G = matrix(np.vstack((np.eye(n_samples) * -1, np.eye(n_samples))))\n",
        "    h = matrix(np.hstack((np.zeros(n_samples), np.ones(n_samples) * C)))\n",
        "    A = matrix(y.reshape(1, -1))\n",
        "    b = matrix(0.0)\n",
        "\n",
        "    solvers.options['show_progress'] = True\n",
        "    solution = solvers.qp(P, q, G, h, A, b)\n",
        "\n",
        "    alphas = np.array(solution['x']).flatten()\n",
        "\n",
        "    support_indices = (alphas > 1e-5)\n",
        "    support_vectors = X[support_indices]\n",
        "    support_vector_labels = y[support_indices]\n",
        "    support_vector_alphas = alphas[support_indices]\n",
        "\n",
        "    return support_vectors, support_vector_labels.flatten(), support_vector_alphas"
      ],
      "metadata": {
        "id": "-6Y_oXGIUWgY"
      },
      "execution_count": 7,
      "outputs": []
    },
    {
      "cell_type": "code",
      "source": [
        "C = 1.0\n",
        "support_vectors, support_vector_labels, support_vector_alphas = soft_margin_svm(X_train_binary, y_train_binary, C)"
      ],
      "metadata": {
        "colab": {
          "base_uri": "https://localhost:8080/"
        },
        "id": "qhCiA_HRU1YF",
        "outputId": "a94d1893-6b8d-429b-eacc-f9058617db0e"
      },
      "execution_count": 8,
      "outputs": [
        {
          "output_type": "stream",
          "name": "stdout",
          "text": [
            "     pcost       dcost       gap    pres   dres\n",
            " 0: -6.1265e+02 -3.3971e+03  2e+04  3e+00  2e-13\n",
            " 1: -4.1824e+02 -2.2816e+03  3e+03  3e-01  2e-13\n",
            " 2: -3.9732e+02 -7.6474e+02  4e+02  3e-02  1e-13\n",
            " 3: -4.4111e+02 -5.8227e+02  2e+02  9e-03  1e-13\n",
            " 4: -4.6125e+02 -5.3708e+02  8e+01  4e-03  1e-13\n",
            " 5: -4.7293e+02 -5.1305e+02  4e+01  2e-03  1e-13\n",
            " 6: -4.7763e+02 -5.0407e+02  3e+01  1e-03  1e-13\n",
            " 7: -4.8272e+02 -4.9477e+02  1e+01  4e-04  1e-13\n",
            " 8: -4.8534e+02 -4.9054e+02  5e+00  2e-04  1e-13\n",
            " 9: -4.8671e+02 -4.8840e+02  2e+00  4e-05  1e-13\n",
            "10: -4.8718e+02 -4.8773e+02  6e-01  7e-06  1e-13\n",
            "11: -4.8738e+02 -4.8747e+02  9e-02  4e-07  1e-13\n",
            "12: -4.8742e+02 -4.8743e+02  7e-03  3e-08  1e-13\n",
            "13: -4.8742e+02 -4.8742e+02  2e-04  6e-10  2e-13\n",
            "Optimal solution found.\n"
          ]
        }
      ]
    },
    {
      "cell_type": "code",
      "source": [
        "def predict_labels(x_test, support_vectors, support_vector_labels, support_vector_alphas):\n",
        "    \"\"\"\n",
        "    input:\n",
        "        x_test: test data\n",
        "        support_vectros: data points which are SVs of our model.\n",
        "        support_vector_labels: labels of SVs\n",
        "        support_vector_alphas: alpha coefficient of corresponding SVs\n",
        "    output:\n",
        "        y_pred: predictoin labels\n",
        "    \"\"\"\n",
        "\n",
        "    # TODO: Write your code here\n",
        "\n",
        "\n",
        "    kernel = np.dot(x_test, support_vectors.T)\n",
        "\n",
        "    decision = np.dot(kernel, support_vector_alphas * support_vector_labels)\n",
        "\n",
        "    support_kernel = np.dot(support_vectors, support_vectors.T)\n",
        "    weighted_sum = np.dot(support_vector_alphas * support_vector_labels, support_kernel)\n",
        "\n",
        "    biases = support_vector_labels.flatten() - weighted_sum\n",
        "    b = np.mean(biases)\n",
        "\n",
        "    decision += b\n",
        "\n",
        "    y_pred = np.sign(decision)\n",
        "\n",
        "    return y_pred\n"
      ],
      "metadata": {
        "id": "JE_dCOXwihh_"
      },
      "execution_count": 9,
      "outputs": []
    },
    {
      "cell_type": "code",
      "execution_count": 10,
      "metadata": {
        "id": "CsTFwcel2Kcp"
      },
      "outputs": [],
      "source": [
        "y_pred = predict_labels(np.array(X_test_binary), support_vectors, support_vector_labels, support_vector_alphas)"
      ]
    },
    {
      "cell_type": "markdown",
      "metadata": {
        "id": "TyxIKiwn2Kcp"
      },
      "source": [
        "# Evaluation (20 points)"
      ]
    },
    {
      "cell_type": "markdown",
      "metadata": {
        "id": "Pn_k250b2Kcp"
      },
      "source": [
        "Compute accuracy, balanced accuracy and plot confusion matrix of your trained model using ```Seaborn.heatmap()``` function. Use case of balanced accuracy is when dealing with imbalanced data, i.e. when one of the target classes appears a lot more than the other and it is defined by average of recall of classes. Confusion matrix is a $k\\times k$ (k is number of classes) matrix which cell ij is showing that number of data points labeld i which predicted j. For more detail of evaluation metrics you can see [here](https://neptune.ai/blog/balanced-accuracy).\n",
        "\n",
        "You may use ```scikit-learn``` library to compute these metrics."
      ]
    },
    {
      "cell_type": "code",
      "source": [
        "def evaluate(y_test, y_pred):\n",
        "    \"\"\"\n",
        "    input:\n",
        "        y_test: true labels\n",
        "        y_pred: predicted labels\n",
        "    output:\n",
        "        accuracy: accuracy of the model\n",
        "        balanced_accuracy: balanced accuracy of the model\n",
        "        confusion_matrix: confusion matrix of the model\n",
        "    \"\"\"\n",
        "    # TODO: Write your code here\n",
        "\n",
        "    accuracy = accuracy_score(y_test, y_pred)\n",
        "    balanced_accuracy = balanced_accuracy_score(y_test, y_pred)\n",
        "    confusion_mat = confusion_matrix(y_test, y_pred)\n",
        "\n",
        "    print(\"Accuracy: \", accuracy)\n",
        "    print(\"Balanced Accuracy: \", balanced_accuracy)\n",
        "    print(\"Confusion Matrix:\\n\", confusion_mat)\n",
        "    return accuracy, balanced_accuracy, confusion_mat\n",
        "\n",
        "_, _, confusion_mat = evaluate(y_test_binary, y_pred)\n"
      ],
      "metadata": {
        "colab": {
          "base_uri": "https://localhost:8080/"
        },
        "id": "7Qp6J8m2z3P3",
        "outputId": "31599242-63b7-46fe-b907-39a91be80931"
      },
      "execution_count": 11,
      "outputs": [
        {
          "output_type": "stream",
          "name": "stdout",
          "text": [
            "Accuracy:  0.845724907063197\n",
            "Balanced Accuracy:  0.822513265392066\n",
            "Confusion Matrix:\n",
            " [[336  47]\n",
            " [ 36 119]]\n"
          ]
        }
      ]
    },
    {
      "cell_type": "code",
      "source": [
        "cm_matrix = pd.DataFrame(data=confusion_mat, columns=['Predict Negative:-1', 'Predict Positive:1'],\n",
        "                                 index=['Actual Negative:-1', 'Actual Positive:1'])\n",
        "\n",
        "sns.heatmap(cm_matrix, annot=True, fmt='d', cmap='mako')"
      ],
      "metadata": {
        "colab": {
          "base_uri": "https://localhost:8080/",
          "height": 448
        },
        "id": "Re0qyi6q00l8",
        "outputId": "ab1fb3a8-be89-49b6-b411-dd3c597b9181"
      },
      "execution_count": 12,
      "outputs": [
        {
          "output_type": "execute_result",
          "data": {
            "text/plain": [
              "<Axes: >"
            ]
          },
          "metadata": {},
          "execution_count": 12
        },
        {
          "output_type": "display_data",
          "data": {
            "text/plain": [
              "<Figure size 640x480 with 2 Axes>"
            ],
            "image/png": "[encoded data removed]"
          },
          "metadata": {}
        }
      ]
    },
    {
      "cell_type": "markdown",
      "metadata": {
        "id": "dc2PWDLY2Kcq"
      },
      "source": [
        "# Fine-tunning (40 points)"
      ]
    },
    {
      "cell_type": "markdown",
      "metadata": {
        "id": "pkDfDuwe2Kcq"
      },
      "source": [
        "like what you did before, implement Soft Margin SVM but now use rbf kernel. To determine rbf $\\gamma$ parameter use validation datas and find best(best by balanced accuracy) $\\gamma$ between 0.001 , 0.01, 1, 10, 100. Not that you can't use ```scikit-learn``` library here."
      ]
    },
    {
      "cell_type": "code",
      "execution_count": 26,
      "metadata": {
        "id": "N7AJ58XY2Kcq"
      },
      "outputs": [],
      "source": [
        "def rbf(x1, x2, gamma=1):\n",
        "    \"\"\"\n",
        "    input:\n",
        "        x1: first vector\n",
        "        x2: second vector\n",
        "        gamma: rbf kernel parameter with defalt value 1.\n",
        "    output:\n",
        "        ouput: computed rbf of two input vectors\n",
        "    \"\"\"\n",
        "    # TODO: Write your code here\n",
        "\n",
        "    distance_squared = np.sum((x1 - x2)**2)\n",
        "    output = np.exp(-gamma * distance_squared)\n",
        "    return output\n",
        "\n",
        "def soft_margin_svm(X, y, C, gamma=1):\n",
        "    \"\"\"\n",
        "    input:\n",
        "        X: training data\n",
        "        y: training labels\n",
        "        C: errors weight\n",
        "        gamma: rbf kernel parameter with defalt value 1.\n",
        "    output:\n",
        "        support_vectros: data points which are SVs of our model.\n",
        "        support_vector_labels: labels of SVs\n",
        "        support_vector_alphas: alpha coefficient of corresponding SVs\n",
        "    \"\"\"\n",
        "\n",
        "    # TODO: Write your code here\n",
        "\n",
        "    n_samples, n_features = X.shape\n",
        "    K = np.zeros((n_samples, n_samples))\n",
        "\n",
        "    # Filling the kernel matrix\n",
        "    for i in range(n_samples):\n",
        "        for j in range(n_samples):\n",
        "            K[i, j] = rbf(X[i], X[j], gamma)\n",
        "\n",
        "    P = matrix(np.outer(y, y) * K)\n",
        "    q = matrix(-np.ones(n_samples))\n",
        "    G = matrix(np.vstack((-np.eye(n_samples), np.eye(n_samples))))\n",
        "    h = matrix(np.hstack((np.zeros(n_samples), np.ones(n_samples) * C)))\n",
        "    A = matrix(y, (1, n_samples), 'd')\n",
        "    b = matrix(0.0)\n",
        "\n",
        "    # QP problem\n",
        "    print(\"Gamma: \", gamma)\n",
        "    solvers.options['show_progress'] = True\n",
        "    solution = solvers.qp(P, q, G, h, A, b)\n",
        "    alphas = np.array(solution['x']).flatten()\n",
        "\n",
        "    support_indices = (alphas > 1e-5)\n",
        "    support_vectors = X[support_indices]\n",
        "    support_vector_labels = y[support_indices]\n",
        "    support_vector_alphas = alphas[support_indices]\n",
        "\n",
        "    return support_vectors, support_vector_labels, support_vector_alphas"
      ]
    },
    {
      "cell_type": "code",
      "source": [
        "def predict_with_svm(X, support_vectors, support_vector_labels, support_vector_alphas, gamma):\n",
        "    \"\"\"\n",
        "    For making predictions using the trained SVM model with RBF kernel\n",
        "    \"\"\"\n",
        "    y_pred = np.zeros(len(X))\n",
        "    for i in range(len(X)):\n",
        "        sum_alpha_y_kernel = 0\n",
        "        for alpha, y, sv in zip(support_vector_alphas, support_vector_labels, support_vectors):\n",
        "            sum_alpha_y_kernel += alpha * y * rbf(X[i], sv, gamma)\n",
        "        y_pred[i] = np.sign(sum_alpha_y_kernel)\n",
        "    return y_pred"
      ],
      "metadata": {
        "id": "0GoUOqAZgfHn"
      },
      "execution_count": 18,
      "outputs": []
    },
    {
      "cell_type": "code",
      "source": [
        "gammas = [00.1, 0.1, 1, 10, 100]\n",
        "best_gamma = None\n",
        "best_support_vectors = None\n",
        "best_support_vector_labels = None\n",
        "best_support_vector_alphas = None\n",
        "\n",
        "# TODO: Write your code here\n",
        "\n",
        "best_balanced_accuracy = 0\n",
        "\n",
        "for gamma in gammas:\n",
        "    support_vectors, support_vector_labels, support_vector_alphas = soft_margin_svm(X_train_binary, y_train_binary, C=1, gamma=gamma)\n",
        "    # Predictions using the trained model (left as an exercise)\n",
        "    y_val_pred = predict_with_svm(X_val_binary, support_vectors, support_vector_labels, support_vector_alphas, gamma)\n",
        "    bal_acc = balanced_accuracy_score(y_val_binary, y_val_pred)\n",
        "    if bal_acc > best_balanced_accuracy:\n",
        "        best_balanced_accuracy = bal_acc\n",
        "        best_gamma = gamma\n",
        "        best_support_vectors = support_vectors\n",
        "        best_support_vector_labels = support_vector_labels\n",
        "        best_support_vector_alphas = support_vector_alphas\n",
        "\n",
        "\n",
        "print(\"Best Gamma:\", best_gamma)"
      ],
      "metadata": {
        "colab": {
          "base_uri": "https://localhost:8080/"
        },
        "id": "YLAR0RPrgnx7",
        "outputId": "c96ae927-4d99-41cd-b22c-2c896428b7d8"
      },
      "execution_count": 27,
      "outputs": [
        {
          "output_type": "stream",
          "name": "stdout",
          "text": [
            "Gamma:  0.1\n",
            "     pcost       dcost       gap    pres   dres\n",
            " 0: -3.5478e+02 -2.9645e+03  1e+04  3e+00  6e-15\n",
            " 1: -2.5774e+02 -1.8143e+03  2e+03  1e-01  5e-15\n",
            " 2: -2.7515e+02 -5.5668e+02  3e+02  2e-02  4e-15\n",
            " 3: -3.1035e+02 -4.0746e+02  1e+02  5e-03  5e-15\n",
            " 4: -3.2161e+02 -3.7676e+02  6e+01  2e-03  4e-15\n",
            " 5: -3.3186e+02 -3.4879e+02  2e+01  3e-04  5e-15\n",
            " 6: -3.3455e+02 -3.4305e+02  9e+00  1e-04  5e-15\n",
            " 7: -3.3586e+02 -3.4016e+02  4e+00  7e-15  6e-15\n",
            " 8: -3.3717e+02 -3.3810e+02  9e-01  1e-14  6e-15\n",
            " 9: -3.3735e+02 -3.3781e+02  5e-01  8e-16  6e-15\n",
            "10: -3.3755e+02 -3.3756e+02  2e-02  8e-15  6e-15\n",
            "11: -3.3755e+02 -3.3755e+02  5e-04  4e-16  6e-15\n",
            "12: -3.3755e+02 -3.3755e+02  8e-06  1e-14  6e-15\n",
            "Optimal solution found.\n",
            "Gamma:  0.1\n",
            "     pcost       dcost       gap    pres   dres\n",
            " 0: -3.5478e+02 -2.9645e+03  1e+04  3e+00  6e-15\n",
            " 1: -2.5774e+02 -1.8143e+03  2e+03  1e-01  5e-15\n",
            " 2: -2.7515e+02 -5.5668e+02  3e+02  2e-02  4e-15\n",
            " 3: -3.1035e+02 -4.0746e+02  1e+02  5e-03  5e-15\n",
            " 4: -3.2161e+02 -3.7676e+02  6e+01  2e-03  4e-15\n",
            " 5: -3.3186e+02 -3.4879e+02  2e+01  3e-04  5e-15\n",
            " 6: -3.3455e+02 -3.4305e+02  9e+00  1e-04  5e-15\n",
            " 7: -3.3586e+02 -3.4016e+02  4e+00  7e-15  6e-15\n",
            " 8: -3.3717e+02 -3.3810e+02  9e-01  1e-14  6e-15\n",
            " 9: -3.3735e+02 -3.3781e+02  5e-01  8e-16  6e-15\n",
            "10: -3.3755e+02 -3.3756e+02  2e-02  8e-15  6e-15\n",
            "11: -3.3755e+02 -3.3755e+02  5e-04  4e-16  6e-15\n",
            "12: -3.3755e+02 -3.3755e+02  8e-06  1e-14  6e-15\n",
            "Optimal solution found.\n",
            "Gamma:  1\n",
            "     pcost       dcost       gap    pres   dres\n",
            " 0: -2.4269e+02 -2.1635e+03  7e+03  2e+00  1e-15\n",
            " 1: -2.2042e+02 -1.1878e+03  1e+03  1e-01  6e-16\n",
            " 2: -2.4012e+02 -3.8481e+02  2e+02  1e-02  8e-16\n",
            " 3: -2.5620e+02 -2.8744e+02  3e+01  2e-03  5e-16\n",
            " 4: -2.6083e+02 -2.6656e+02  6e+00  2e-04  5e-16\n",
            " 5: -2.6182e+02 -2.6335e+02  2e+00  4e-05  4e-16\n",
            " 6: -2.6212e+02 -2.6241e+02  3e-01  4e-06  4e-16\n",
            " 7: -2.6218e+02 -2.6221e+02  3e-02  3e-07  4e-16\n",
            " 8: -2.6219e+02 -2.6219e+02  1e-03  9e-09  4e-16\n",
            " 9: -2.6219e+02 -2.6219e+02  3e-05  2e-10  4e-16\n",
            "Optimal solution found.\n",
            "Gamma:  10\n",
            "     pcost       dcost       gap    pres   dres\n",
            " 0: -4.6315e+02 -2.1251e+03  2e+03  1e-13  6e-16\n",
            " 1: -4.6963e+02 -5.0646e+02  4e+01  5e-14  4e-16\n",
            " 2: -4.7538e+02 -4.7581e+02  4e-01  1e-14  2e-16\n",
            " 3: -4.7545e+02 -4.7546e+02  4e-03  2e-15  1e-16\n",
            " 4: -4.7546e+02 -4.7546e+02  4e-05  2e-15  1e-16\n",
            "Optimal solution found.\n",
            "Gamma:  100\n",
            "     pcost       dcost       gap    pres   dres\n",
            " 0: -4.6331e+02 -2.1253e+03  2e+03  9e-13  3e-16\n",
            " 1: -4.6978e+02 -5.0577e+02  4e+01  6e-14  4e-16\n",
            " 2: -4.7552e+02 -4.7591e+02  4e-01  1e-14  8e-17\n",
            " 3: -4.7559e+02 -4.7559e+02  4e-03  7e-15  5e-17\n",
            " 4: -4.7559e+02 -4.7559e+02  4e-05  4e-14  2e-17\n",
            "Optimal solution found.\n",
            "Best Gamma: 0.1\n"
          ]
        },
        {
          "output_type": "stream",
          "name": "stderr",
          "text": [
            "/usr/local/lib/python3.10/dist-packages/sklearn/metrics/_classification.py:2184: UserWarning: y_pred contains classes not in y_true\n",
            "  warnings.warn(\"y_pred contains classes not in y_true\")\n"
          ]
        }
      ]
    },
    {
      "cell_type": "code",
      "source": [
        "y_pred = predict_with_svm(np.array(X_test_binary), best_support_vectors, best_support_vector_labels, best_support_vector_alphas, best_gamma)\n",
        "_, _, confusion_mat = evaluate(y_test_binary, y_pred)"
      ],
      "metadata": {
        "colab": {
          "base_uri": "https://localhost:8080/"
        },
        "id": "QhBWtp5NlFPm",
        "outputId": "29eb0dbc-b549-4326-f0f2-23ea5095797c"
      },
      "execution_count": 25,
      "outputs": [
        {
          "output_type": "stream",
          "name": "stdout",
          "text": [
            "Accuracy:  0.8736059479553904\n",
            "Balanced Accuracy:  0.8824223027036132\n",
            "Confusion Matrix:\n",
            " [[330  53]\n",
            " [ 15 140]]\n"
          ]
        }
      ]
    },
    {
      "cell_type": "markdown",
      "metadata": {
        "id": "J298JWkS2Kcq"
      },
      "source": [
        "# Multiclass SVM (30 points + 50 points optional)"
      ]
    },
    {
      "cell_type": "markdown",
      "metadata": {
        "id": "_vmF-vm62Kcq"
      },
      "source": [
        "Now we want implement Multiclass SVM. Use ```SVC``` function with rbf kernel from ```scikit-learn``` package on all train datas (all six classes) and choose best hyperparameters for $C$ and $\\gamma$ between 0.01, 0.1, 1, 10, 100. After that evaluate it with your function.\n",
        "\n",
        "Note that in this example we had enough data to split them in train and validation but in case that we don't have enough data, ```scikit-learn``` has a built-in fast library named ```GridSearchCV()``` which can help us in hyperparameter tunning with cross validation."
      ]
    },
    {
      "cell_type": "code",
      "execution_count": 48,
      "metadata": {
        "id": "Pwl4Upl_2Kcq",
        "colab": {
          "base_uri": "https://localhost:8080/",
          "height": 962
        },
        "outputId": "dc9c0d1d-847e-4947-f66d-1559caa3e8cf"
      },
      "outputs": [
        {
          "output_type": "stream",
          "name": "stdout",
          "text": [
            "Best parameters:  {'C': 10, 'gamma': 0.1}\n",
            "Accuracy:  0.9092604101926662\n",
            "Balanced Accuracy:  0.8880046622293033\n",
            "Confusion Matrix:\n",
            " [[352   0   1   0   2   0]\n",
            " [  0 183   1   0   3   2]\n",
            " [  3   0 322  12   0   5]\n",
            " [  3   4  31  94   3  20]\n",
            " [  1   1   1   1 173   8]\n",
            " [  0   0   8  31   5 339]]\n"
          ]
        },
        {
          "output_type": "display_data",
          "data": {
            "text/plain": [
              "<Figure size 1000x700 with 2 Axes>"
            ],
            "image/png": "[encoded data removed]"
          },
          "metadata": {}
        },
        {
          "output_type": "execute_result",
          "data": {
            "text/plain": [
              "(0.9092604101926662,\n",
              " 0.8880046622293033,\n",
              " array([[352,   0,   1,   0,   2,   0],\n",
              "        [  0, 183,   1,   0,   3,   2],\n",
              "        [  3,   0, 322,  12,   0,   5],\n",
              "        [  3,   4,  31,  94,   3,  20],\n",
              "        [  1,   1,   1,   1, 173,   8],\n",
              "        [  0,   0,   8,  31,   5, 339]]))"
            ]
          },
          "metadata": {},
          "execution_count": 48
        }
      ],
      "source": [
        "Cs = [0.01, 0.1, 1, 10, 100]\n",
        "gammas = [0.01, 0.1, 1, 10, 100]\n",
        "# TODO: Write your code here\n",
        "\n",
        "svc = SVC(kernel='rbf')\n",
        "\n",
        "# TO feed GridSearchCV w/ appropriate format of parameters\n",
        "param_grid = {\n",
        "    'C': [0.01, 0.1, 1, 10, 100],\n",
        "    'gamma': [0.01, 0.1, 1, 10, 100]\n",
        "}\n",
        "\n",
        "grid_search = GridSearchCV(svc, param_grid, scoring='balanced_accuracy', cv=5)\n",
        "grid_search.fit(X_train_scaled, y_train)\n",
        "best_svc = grid_search.best_estimator_\n",
        "\n",
        "print(\"Best parameters: \", grid_search.best_params_)\n",
        "\n",
        "y_pred = best_svc.predict(X_test_scaled)\n",
        "\n",
        "def evaluate(y_test, y_pred):\n",
        "    accuracy = accuracy_score(y_test, y_pred)\n",
        "    balanced_accuracy = balanced_accuracy_score(y_test, y_pred)\n",
        "    confusion_mat = confusion_matrix(y_test, y_pred)\n",
        "\n",
        "    print(\"Accuracy: \", accuracy)\n",
        "    print(\"Balanced Accuracy: \", balanced_accuracy)\n",
        "    print(\"Confusion Matrix:\\n\", confusion_mat)\n",
        "\n",
        "    import seaborn as sns\n",
        "    import matplotlib.pyplot as plt\n",
        "    plt.figure(figsize=(10, 7))\n",
        "    sns.heatmap(confusion_mat, annot=True, fmt=\"d\", cmap=\"Blues\",\n",
        "                xticklabels=np.unique(y_test), yticklabels=np.unique(y_test))\n",
        "    plt.ylabel('Actual')\n",
        "    plt.xlabel('Predicted')\n",
        "    plt.title('Confusion Matrix')\n",
        "    plt.show()\n",
        "\n",
        "    return accuracy, balanced_accuracy, confusion_mat\n",
        "\n",
        "evaluate(y_test, y_pred)"
      ]
    },
    {
      "cell_type": "markdown",
      "metadata": {
        "id": "jIQbljN22Kcq"
      },
      "source": [
        "Implement Multiclass SVM from scratch without using ready functions (optional)."
      ]
    },
    {
      "cell_type": "code",
      "execution_count": 50,
      "metadata": {
        "id": "a9bPMWGV2Kcq",
        "colab": {
          "base_uri": "https://localhost:8080/"
        },
        "outputId": "587ab1ff-6c21-46c7-b684-9408c4b01eb3"
      },
      "outputs": [
        {
          "output_type": "stream",
          "name": "stderr",
          "text": [
            "<ipython-input-50-c50b719e30e4>:12: DeprecationWarning: Conversion of an array with ndim > 0 to a scalar is deprecated, and will error in future. Ensure you extract a single element from your array before performing this operation. (Deprecated NumPy 1.25.)\n",
            "  K[i, j] = rbf_kernel(X[i], X[j], gamma)\n"
          ]
        },
        {
          "output_type": "stream",
          "name": "stdout",
          "text": [
            "     pcost       dcost       gap    pres   dres\n",
            " 0: -1.3328e+02 -7.7517e+03  4e+04  3e+00  2e-15\n",
            " 1: -8.0322e+01 -3.9813e+03  6e+03  2e-01  2e-15\n",
            " 2: -7.0835e+01 -6.4281e+02  7e+02  2e-02  3e-15\n",
            " 3: -9.6460e+01 -2.9483e+02  2e+02  5e-03  2e-15\n",
            " 4: -1.0933e+02 -1.9893e+02  9e+01  1e-03  2e-15\n",
            " 5: -1.1828e+02 -1.5893e+02  4e+01  3e-04  2e-15\n",
            " 6: -1.2209e+02 -1.4484e+02  2e+01  8e-05  2e-15\n",
            " 7: -1.2519e+02 -1.3582e+02  1e+01  3e-06  2e-15\n",
            " 8: -1.2726e+02 -1.3099e+02  4e+00  4e-07  2e-15\n",
            " 9: -1.2811e+02 -1.2940e+02  1e+00  1e-07  2e-15\n",
            "10: -1.2843e+02 -1.2883e+02  4e-01  3e-09  2e-15\n",
            "11: -1.2855e+02 -1.2867e+02  1e-01  2e-15  2e-15\n",
            "12: -1.2859e+02 -1.2862e+02  3e-02  3e-15  2e-15\n",
            "13: -1.2860e+02 -1.2861e+02  1e-03  3e-15  2e-15\n",
            "14: -1.2860e+02 -1.2860e+02  4e-05  2e-15  2e-15\n",
            "Optimal solution found.\n",
            "     pcost       dcost       gap    pres   dres\n",
            " 0: -6.2857e+01 -6.1352e+03  3e+04  2e+00  1e-15\n",
            " 1: -3.4877e+01 -2.6834e+03  4e+03  1e-01  2e-15\n",
            " 2: -3.7846e+01 -4.4235e+02  5e+02  1e-02  2e-15\n",
            " 3: -5.2023e+01 -1.8508e+02  1e+02  3e-03  2e-15\n",
            " 4: -6.1784e+01 -1.0418e+02  4e+01  8e-04  2e-15\n",
            " 5: -6.5938e+01 -8.0015e+01  1e+01  2e-15  1e-15\n",
            " 6: -6.7849e+01 -7.3699e+01  6e+00  8e-15  1e-15\n",
            " 7: -6.8645e+01 -7.1531e+01  3e+00  6e-15  1e-15\n",
            " 8: -6.9206e+01 -7.0171e+01  1e+00  4e-15  1e-15\n",
            " 9: -6.9384e+01 -6.9805e+01  4e-01  6e-15  1e-15\n",
            "10: -6.9487e+01 -6.9645e+01  2e-01  4e-15  9e-16\n",
            "11: -6.9534e+01 -6.9573e+01  4e-02  3e-15  1e-15\n",
            "12: -6.9551e+01 -6.9552e+01  8e-04  4e-16  1e-15\n",
            "13: -6.9551e+01 -6.9551e+01  1e-05  1e-15  1e-15\n",
            "Optimal solution found.\n",
            "     pcost       dcost       gap    pres   dres\n",
            " 0: -3.4710e+02 -8.2108e+03  5e+04  3e+00  6e-15\n",
            " 1: -2.3357e+02 -4.3866e+03  6e+03  2e-01  7e-15\n",
            " 2: -2.2821e+02 -8.3876e+02  7e+02  2e-02  7e-15\n",
            " 3: -2.5933e+02 -5.0944e+02  3e+02  5e-03  6e-15\n",
            " 4: -2.7620e+02 -4.0138e+02  1e+02  2e-03  6e-15\n",
            " 5: -2.8563e+02 -3.5410e+02  7e+01  7e-04  6e-15\n",
            " 6: -2.9237e+02 -3.2587e+02  3e+01  3e-04  6e-15\n",
            " 7: -2.9678e+02 -3.0962e+02  1e+01  4e-05  7e-15\n",
            " 8: -2.9904e+02 -3.0296e+02  4e+00  1e-14  7e-15\n",
            " 9: -2.9978e+02 -3.0148e+02  2e+00  8e-15  6e-15\n",
            "10: -3.0006e+02 -3.0091e+02  8e-01  3e-15  7e-15\n",
            "11: -3.0025e+02 -3.0060e+02  3e-01  8e-15  6e-15\n",
            "12: -3.0033e+02 -3.0047e+02  1e-01  2e-14  7e-15\n",
            "13: -3.0037e+02 -3.0042e+02  5e-02  2e-14  7e-15\n",
            "14: -3.0039e+02 -3.0040e+02  8e-03  2e-15  7e-15\n",
            "15: -3.0039e+02 -3.0039e+02  3e-04  2e-14  7e-15\n",
            "Optimal solution found.\n",
            "     pcost       dcost       gap    pres   dres\n",
            " 0: -5.7688e+02 -8.2578e+03  4e+04  3e+00  1e-14\n",
            " 1: -4.0964e+02 -4.5131e+03  6e+03  1e-01  1e-14\n",
            " 2: -4.1831e+02 -1.1282e+03  8e+02  2e-02  9e-15\n",
            " 3: -4.6215e+02 -7.4139e+02  3e+02  5e-03  1e-14\n",
            " 4: -4.7741e+02 -6.5768e+02  2e+02  2e-03  1e-14\n",
            " 5: -4.9521e+02 -5.7122e+02  8e+01  8e-04  1e-14\n",
            " 6: -5.0312e+02 -5.4140e+02  4e+01  2e-04  1e-14\n",
            " 7: -5.0947e+02 -5.2188e+02  1e+01  3e-05  1e-14\n",
            " 8: -5.1163e+02 -5.1674e+02  5e+00  8e-06  1e-14\n",
            " 9: -5.1262e+02 -5.1456e+02  2e+00  3e-07  1e-14\n",
            "10: -5.1312e+02 -5.1375e+02  6e-01  5e-14  1e-14\n",
            "11: -5.1335e+02 -5.1343e+02  8e-02  3e-14  1e-14\n",
            "12: -5.1339e+02 -5.1339e+02  2e-03  3e-14  2e-14\n",
            "13: -5.1339e+02 -5.1339e+02  3e-05  4e-14  2e-14\n",
            "Optimal solution found.\n",
            "     pcost       dcost       gap    pres   dres\n",
            " 0: -2.3122e+02 -7.4091e+03  4e+04  3e+00  3e-15\n",
            " 1: -1.5601e+02 -3.7914e+03  5e+03  2e-01  3e-15\n",
            " 2: -1.4510e+02 -7.9358e+02  8e+02  2e-02  3e-15\n",
            " 3: -1.7834e+02 -4.0932e+02  3e+02  5e-03  3e-15\n",
            " 4: -1.9343e+02 -3.2654e+02  1e+02  2e-03  3e-15\n",
            " 5: -2.0328e+02 -2.8100e+02  8e+01  9e-04  3e-15\n",
            " 6: -2.1128e+02 -2.4525e+02  3e+01  9e-15  3e-15\n",
            " 7: -2.1848e+02 -2.2662e+02  8e+00  1e-14  3e-15\n",
            " 8: -2.1947e+02 -2.2459e+02  5e+00  1e-14  3e-15\n",
            " 9: -2.2047e+02 -2.2271e+02  2e+00  1e-14  3e-15\n",
            "10: -2.2090e+02 -2.2195e+02  1e+00  3e-14  3e-15\n",
            "11: -2.2113e+02 -2.2156e+02  4e-01  5e-15  3e-15\n",
            "12: -2.2125e+02 -2.2139e+02  1e-01  2e-14  3e-15\n",
            "13: -2.2129e+02 -2.2134e+02  4e-02  8e-16  3e-15\n",
            "14: -2.2131e+02 -2.2131e+02  4e-03  4e-16  3e-15\n",
            "15: -2.2131e+02 -2.2131e+02  1e-04  1e-15  3e-15\n",
            "Optimal solution found.\n",
            "     pcost       dcost       gap    pres   dres\n",
            " 0: -5.1291e+02 -7.7776e+03  4e+04  3e+00  7e-15\n",
            " 1: -3.6996e+02 -4.1863e+03  6e+03  2e-01  7e-15\n",
            " 2: -3.7317e+02 -1.1028e+03  9e+02  3e-02  7e-15\n",
            " 3: -4.1891e+02 -7.0137e+02  3e+02  7e-03  7e-15\n",
            " 4: -4.3492e+02 -6.1805e+02  2e+02  4e-03  7e-15\n",
            " 5: -4.5057e+02 -5.4787e+02  1e+02  2e-03  7e-15\n",
            " 6: -4.6018e+02 -5.0949e+02  5e+01  6e-04  7e-15\n",
            " 7: -4.6742e+02 -4.8247e+02  2e+01  3e-07  9e-15\n",
            " 8: -4.7002e+02 -4.7638e+02  6e+00  3e-08  8e-15\n",
            " 9: -4.7105e+02 -4.7411e+02  3e+00  3e-14  8e-15\n",
            "10: -4.7181e+02 -4.7268e+02  9e-01  3e-14  8e-15\n",
            "11: -4.7189e+02 -4.7254e+02  7e-01  2e-14  7e-15\n",
            "12: -4.7205e+02 -4.7228e+02  2e-01  4e-14  8e-15\n",
            "13: -4.7211e+02 -4.7218e+02  6e-02  3e-14  8e-15\n",
            "14: -4.7213e+02 -4.7216e+02  3e-02  5e-15  9e-15\n",
            "15: -4.7214e+02 -4.7214e+02  6e-03  6e-15  8e-15\n",
            "16: -4.7214e+02 -4.7214e+02  7e-04  3e-14  9e-15\n",
            "17: -4.7214e+02 -4.7214e+02  3e-05  2e-14  8e-15\n",
            "Optimal solution found.\n"
          ]
        }
      ],
      "source": [
        "# TODO: Write your code here\n",
        "\n",
        "def rbf_kernel(x1, x2, gamma):\n",
        "    x1 = np.atleast_2d(x1)\n",
        "    return np.exp(-gamma * np.sum((x1 - x2) ** 2, axis=1))\n",
        "\n",
        "def train_svm(X, y, C, gamma):\n",
        "    n_samples, n_features = X.shape\n",
        "    K = np.zeros((n_samples, n_samples))\n",
        "    for i in range(n_samples):\n",
        "        for j in range(n_samples):\n",
        "            K[i, j] = rbf_kernel(X[i], X[j], gamma)\n",
        "\n",
        "    P = matrix(np.outer(y, y) * K)\n",
        "    q = matrix(-np.ones(n_samples))\n",
        "    G = matrix(np.vstack((np.eye(n_samples) * -1, np.eye(n_samples))))\n",
        "    h = matrix(np.hstack((np.zeros(n_samples), np.ones(n_samples) * C)))\n",
        "    A = matrix(y, (1, n_samples), 'd')\n",
        "    b = matrix(0.0)\n",
        "    # Only using cvxopt library for solving the SVM's QP problem\n",
        "    solvers.options['show_progress'] = True\n",
        "    solution = solvers.qp(P, q, G, h, A, b)\n",
        "    alphas = np.ravel(solution['x'])\n",
        "    return alphas\n",
        "\n",
        "def fit_multiclass_svm(X, y, C, gamma, classes):\n",
        "    models = {}\n",
        "    for cl in classes:\n",
        "        tmp_y = np.where(y == cl, 1, -1)\n",
        "        alphas = train_svm(X, tmp_y, C, gamma)\n",
        "        models[cl] = alphas\n",
        "    return models\n",
        "\n",
        "def predict_multiclass(X, models, X_train, y_train, gamma):\n",
        "    n_samples = X.shape[0]\n",
        "    n_classes = len(models)\n",
        "    predictions = np.zeros((n_samples, n_classes))\n",
        "\n",
        "    for idx, (cl, alphas) in enumerate(models.items()):\n",
        "        is_support = (alphas > 1e-5)\n",
        "        support_vectors = X_train[is_support]\n",
        "        support_labels = y_train[is_support]\n",
        "        support_alphas = alphas[is_support]\n",
        "        for j in range(n_samples):\n",
        "            kernel_values = rbf_kernel(X[j], support_vectors, gamma)\n",
        "            decision_value = np.sum(support_alphas * support_labels * kernel_values)\n",
        "            predictions[j, idx] = decision_value\n",
        "\n",
        "    y_pred = np.argmax(predictions, axis=1)\n",
        "    class_labels = list(models.keys())\n",
        "    y_pred = np.array([class_labels[idx] for idx in y_pred])\n",
        "    return y_pred\n",
        "\n",
        "\n",
        "\n",
        "classes = np.unique(y_train)\n",
        "models = fit_multiclass_svm(X_train_scaled, y_train, C=1, gamma=0.1, classes=classes)\n",
        "y_pred = predict_multiclass(X_test_scaled, models, X_train_scaled, y_train, best_gamma)"
      ]
    },
    {
      "cell_type": "code",
      "source": [
        "def calculate_accuracy(y_true, y_pred):\n",
        "    correct_predictions = np.sum(y_true == y_pred)\n",
        "    total_predictions = len(y_true)\n",
        "    accuracy = correct_predictions / total_predictions\n",
        "    return accuracy\n",
        "\n",
        "def plot_confusion_matrix(y_true, y_pred, classes):\n",
        "    cm = confusion_matrix(y_true, y_pred, labels=classes)\n",
        "    plt.figure(figsize=(10, 7))\n",
        "    sns.heatmap(cm, annot=True, fmt=\"d\", cmap='Blues', xticklabels=classes, yticklabels=classes)\n",
        "    plt.title('Confusion Matrix')\n",
        "    plt.ylabel('Actual Labels')\n",
        "    plt.xlabel('Predicted Labels')\n",
        "    plt.show()\n",
        "    return cm\n",
        "\n",
        "accuracy = calculate_accuracy(y_test, y_pred)\n",
        "conf_matrix = plot_confusion_matrix(y_test, y_pred, classes=np.unique(y_test))\n",
        "print(\"Accuracy:\", accuracy)"
      ],
      "metadata": {
        "colab": {
          "base_uri": "https://localhost:8080/",
          "height": 659
        },
        "id": "3Rf4s51BPksc",
        "outputId": "42b3cc0a-8aad-4ef1-bb90-05300651b7d2"
      },
      "execution_count": 51,
      "outputs": [
        {
          "output_type": "display_data",
          "data": {
            "text/plain": [
              "<Figure size 1000x700 with 2 Axes>"
            ],
            "image/png": "[encoded data removed]"
          },
          "metadata": {}
        },
        {
          "output_type": "stream",
          "name": "stdout",
          "text": [
            "Accuracy: 0.5556246115599751\n"
          ]
        }
      ]
    },
    {
      "cell_type": "markdown",
      "metadata": {
        "id": "KH97ob3h2Kcq"
      },
      "source": [
        "# Different SVM Kernels (40 points)"
      ]
    },
    {
      "cell_type": "markdown",
      "metadata": {
        "id": "okxTKVV_2Kcq"
      },
      "source": [
        "A kernel in SVM is like a tool that helps solve tricky problems. It lets us work in a space with many dimensions, making complex calculations easier. With kernels, we can deal with lots of dimensions, even an endless amount. Kernels are crucial for sorting data into groups and help spot patterns in the data we're looking at. They're especially good at tackling twisty problems with a straightforward approach.\n",
        "\n",
        "Sometimes, finding a straight line or flat surface to divide data isn't possible, especially as we explore more dimensions. That's where different types of SVM kernels come in handy. They transform twisty, complicated data into a simpler form that's easier to separate. In this explanation, we talk about 4 popular types of these kernels. Also in following cells you can use any package.\n",
        "\n",
        "<img src=\"./kernel.jpg\" alt=\"Types of Kernel Functions\"  align=center class=\"saturate\">"
      ]
    },
    {
      "cell_type": "markdown",
      "metadata": {
        "id": "sDXPeGTG2Kcq"
      },
      "source": [
        "### Linear Kernel"
      ]
    },
    {
      "cell_type": "markdown",
      "metadata": {
        "id": "8CsEybnr2Kcr"
      },
      "source": [
        "This is the simplest kind of kernel, typically working in one dimension. It works best when dealing with a lot of features. Linear kernels are quicker than other types.\n",
        "\n",
        "**Formula:**\n",
        "\n",
        "$$F(x, x_j) = sum(x, x_j)$$\n",
        "\n",
        "Now Implement svc classifier using a linear kernel. Get the prediction and evaluate it by function which you implemented before. Also plot confusion matrix by `Seaborn`."
      ]
    },
    {
      "cell_type": "code",
      "source": [
        "# TODO: Write your code here\n",
        "svc = SVC(kernel='linear')\n",
        "svc.fit(X_train_scaled, y_train)\n",
        "y_pred = svc.predict(X_test_scaled)\n",
        "\n",
        "def evaluate(y_test, y_pred):\n",
        "    accuracy = accuracy_score(y_test, y_pred)\n",
        "    balanced_accuracy = balanced_accuracy_score(y_test, y_pred)\n",
        "    confusion_mat = confusion_matrix(y_test, y_pred)\n",
        "\n",
        "    print(\"Accuracy: \", accuracy)\n",
        "    print(\"Balanced Accuracy: \", balanced_accuracy)\n",
        "    print(\"Confusion Matrix:\\n\", confusion_mat)\n",
        "\n",
        "    plt.figure(figsize=(10, 7))\n",
        "    sns.heatmap(confusion_mat, annot=True, fmt=\"d\", cmap='Blues',\n",
        "                xticklabels=np.unique(y_test), yticklabels=np.unique(y_test))\n",
        "    plt.ylabel('Actual')\n",
        "    plt.xlabel('Predicted')\n",
        "    plt.title('Confusion Matrix')\n",
        "    plt.show()\n",
        "\n",
        "    return accuracy, balanced_accuracy, confusion_mat\n",
        "\n",
        "\n",
        "evaluate(y_test, y_pred)"
      ],
      "metadata": {
        "colab": {
          "base_uri": "https://localhost:8080/",
          "height": 945
        },
        "id": "pkAZvfjoW7CO",
        "outputId": "9a8ed829-e417-44a0-cc33-6db737957ee9"
      },
      "execution_count": 53,
      "outputs": [
        {
          "output_type": "stream",
          "name": "stdout",
          "text": [
            "Accuracy:  0.872591671845867\n",
            "Balanced Accuracy:  0.8344319384555986\n",
            "Confusion Matrix:\n",
            " [[351   0   1   0   3   0]\n",
            " [  1 173   1   0  14   0]\n",
            " [  3   0 322  15   1   1]\n",
            " [  4   1  37  72   3  38]\n",
            " [  5   7   0   2 153  18]\n",
            " [  0   0  11  27  12 333]]\n"
          ]
        },
        {
          "output_type": "display_data",
          "data": {
            "text/plain": [
              "<Figure size 1000x700 with 2 Axes>"
            ],
            "image/png": "[encoded data removed]"
          },
          "metadata": {}
        },
        {
          "output_type": "execute_result",
          "data": {
            "text/plain": [
              "(0.872591671845867,\n",
              " 0.8344319384555986,\n",
              " array([[351,   0,   1,   0,   3,   0],\n",
              "        [  1, 173,   1,   0,  14,   0],\n",
              "        [  3,   0, 322,  15,   1,   1],\n",
              "        [  4,   1,  37,  72,   3,  38],\n",
              "        [  5,   7,   0,   2, 153,  18],\n",
              "        [  0,   0,  11,  27,  12, 333]]))"
            ]
          },
          "metadata": {},
          "execution_count": 53
        }
      ]
    },
    {
      "cell_type": "markdown",
      "metadata": {
        "id": "UmeP_wn-2Kcw"
      },
      "source": [
        "### Gaussian RBF kernel"
      ]
    },
    {
      "cell_type": "markdown",
      "metadata": {
        "id": "OwrT92RX2Kcw"
      },
      "source": [
        "This kernel is a favorite choice in SVM, especially for data that doesn't line up straight. It's great for sorting data when you don't know much about it beforehand.\n",
        "\n",
        "**Formula:**\n",
        "\n",
        "$$F(x, x_j) = \\exp{(-\\gamma ||x - xj||^2)}$$\n",
        "\n",
        "Now, configure the SVC classifier with a sigmoid kernel. Get the prediction and evaluate it by function which you implemented before. Also plot confusion matrix as previous part."
      ]
    },
    {
      "cell_type": "code",
      "execution_count": 55,
      "metadata": {
        "id": "P3VtiWbn2Kcw",
        "outputId": "8f584e71-5022-4d71-eaa8-0622c699acd2",
        "colab": {
          "base_uri": "https://localhost:8080/",
          "height": 945
        }
      },
      "outputs": [
        {
          "output_type": "stream",
          "name": "stdout",
          "text": [
            "Accuracy:  0.8912367930391547\n",
            "Balanced Accuracy:  0.8678617390048845\n",
            "Confusion Matrix:\n",
            " [[351   1   2   0   1   0]\n",
            " [  0 181   0   1   6   1]\n",
            " [  3   1 325   7   1   5]\n",
            " [  3   1  37  90   2  22]\n",
            " [  3   2   1   1 164  14]\n",
            " [  0   1  11  41   7 323]]\n"
          ]
        },
        {
          "output_type": "display_data",
          "data": {
            "text/plain": [
              "<Figure size 1000x700 with 2 Axes>"
            ],
            "image/png": "[encoded data removed]"
          },
          "metadata": {}
        },
        {
          "output_type": "execute_result",
          "data": {
            "text/plain": [
              "(0.8912367930391547,\n",
              " 0.8678617390048845,\n",
              " array([[351,   1,   2,   0,   1,   0],\n",
              "        [  0, 181,   0,   1,   6,   1],\n",
              "        [  3,   1, 325,   7,   1,   5],\n",
              "        [  3,   1,  37,  90,   2,  22],\n",
              "        [  3,   2,   1,   1, 164,  14],\n",
              "        [  0,   1,  11,  41,   7, 323]]))"
            ]
          },
          "metadata": {},
          "execution_count": 55
        }
      ],
      "source": [
        "# TODO: Write your code here\n",
        "svc_rbf = SVC(kernel='rbf', gamma='scale')\n",
        "svc_rbf.fit(X_train_scaled, y_train)\n",
        "y_pred_rbf = svc_rbf.predict(X_test_scaled)\n",
        "\n",
        "evaluate(y_test, y_pred_rbf)"
      ]
    },
    {
      "cell_type": "markdown",
      "metadata": {
        "id": "_GXcTu982Kcx"
      },
      "source": [
        "### Polynomial Kernel"
      ]
    },
    {
      "cell_type": "markdown",
      "metadata": {
        "id": "8ScumRq22Kcx"
      },
      "source": [
        "This is a broader version of the linear kernel. It's not as popular because it's not as quick or precise.\n",
        "\n",
        "**Formula:**\n",
        "\n",
        "$$F(x, x_j) = (x.x_j+1)^d$$\n",
        "\n",
        "Now, set up the SVC classifier using a *polynomial* kernel. Get the prediction and evaluate it by function which you implemented before. Also plot confusion matrix as previous parts."
      ]
    },
    {
      "cell_type": "code",
      "source": [
        "# TODO: Write your code here\n",
        "svc_poly = SVC(kernel='poly', degree=3, coef0=1)\n",
        "svc_poly.fit(X_train_scaled, y_train)\n",
        "y_pred_poly = svc_poly.predict(X_test_scaled)\n",
        "\n",
        "evaluate(y_test, y_pred_poly)"
      ],
      "metadata": {
        "colab": {
          "base_uri": "https://localhost:8080/",
          "height": 945
        },
        "id": "YJ1IobXRlF26",
        "outputId": "3251a53e-a353-46eb-dbfb-aae07cf91725"
      },
      "execution_count": 56,
      "outputs": [
        {
          "output_type": "stream",
          "name": "stdout",
          "text": [
            "Accuracy:  0.8949658172778123\n",
            "Balanced Accuracy:  0.8710301313697375\n",
            "Confusion Matrix:\n",
            " [[352   0   1   0   2   0]\n",
            " [  0 181   1   0   5   2]\n",
            " [  3   1 325   7   1   5]\n",
            " [  3   1  35  93   2  21]\n",
            " [  4   2   0   1 161  17]\n",
            " [  0   1  11  35   8 328]]\n"
          ]
        },
        {
          "output_type": "display_data",
          "data": {
            "text/plain": [
              "<Figure size 1000x700 with 2 Axes>"
            ],
            "image/png": "[encoded data removed]"
          },
          "metadata": {}
        },
        {
          "output_type": "execute_result",
          "data": {
            "text/plain": [
              "(0.8949658172778123,\n",
              " 0.8710301313697375,\n",
              " array([[352,   0,   1,   0,   2,   0],\n",
              "        [  0, 181,   1,   0,   5,   2],\n",
              "        [  3,   1, 325,   7,   1,   5],\n",
              "        [  3,   1,  35,  93,   2,  21],\n",
              "        [  4,   2,   0,   1, 161,  17],\n",
              "        [  0,   1,  11,  35,   8, 328]]))"
            ]
          },
          "metadata": {},
          "execution_count": 56
        }
      ]
    },
    {
      "cell_type": "markdown",
      "metadata": {
        "id": "mIX8B_7-2Kcx"
      },
      "source": [
        "### Sigmoid Kernel"
      ]
    },
    {
      "cell_type": "markdown",
      "metadata": {
        "id": "nyBjwFxR2Kcx"
      },
      "source": [
        "This is mainly chosen for use with neural networks. The kernel function acts like the activation function in a two-layer perceptron neural network model, helping to activate the neurons.\n",
        "\n",
        "**Formula:**\n",
        "\n",
        "$$F(x, x_j) = \\tanh(α x a y + c)$$\n",
        "\n",
        "Now, configure the SVC classifier with a sigmoid kernel. Get the prediction and evaluate it by function which you implemented before. Also plot confusion matrix as previous parts."
      ]
    },
    {
      "cell_type": "code",
      "source": [
        "# TODO: Write your code here\n",
        "svc_sigmoid = SVC(kernel='sigmoid', gamma='auto', coef0=1)\n",
        "svc_sigmoid.fit(X_train_scaled, y_train)\n",
        "y_pred_sigmoid = svc_sigmoid.predict(X_test_scaled)\n",
        "\n",
        "evaluate(y_test, y_pred_sigmoid)"
      ],
      "metadata": {
        "colab": {
          "base_uri": "https://localhost:8080/",
          "height": 945
        },
        "id": "eWDTPW9WmUWs",
        "outputId": "5febbc54-bb9c-4582-91a5-51b6412d143c"
      },
      "execution_count": 58,
      "outputs": [
        {
          "output_type": "stream",
          "name": "stdout",
          "text": [
            "Accuracy:  0.6681168427594779\n",
            "Balanced Accuracy:  0.5901725533647915\n",
            "Confusion Matrix:\n",
            " [[281  19  15   0  40   0]\n",
            " [ 82 101   0   1   5   0]\n",
            " [  9   0 312  18   1   2]\n",
            " [  5   0  52  30  19  49]\n",
            " [  7  56   5  39  69   9]\n",
            " [  0   0  17  44  40 282]]\n"
          ]
        },
        {
          "output_type": "display_data",
          "data": {
            "text/plain": [
              "<Figure size 1000x700 with 2 Axes>"
            ],
            "image/png": "[encoded data removed]"
          },
          "metadata": {}
        },
        {
          "output_type": "execute_result",
          "data": {
            "text/plain": [
              "(0.6681168427594779,\n",
              " 0.5901725533647915,\n",
              " array([[281,  19,  15,   0,  40,   0],\n",
              "        [ 82, 101,   0,   1,   5,   0],\n",
              "        [  9,   0, 312,  18,   1,   2],\n",
              "        [  5,   0,  52,  30,  19,  49],\n",
              "        [  7,  56,   5,  39,  69,   9],\n",
              "        [  0,   0,  17,  44,  40, 282]]))"
            ]
          },
          "metadata": {},
          "execution_count": 58
        }
      ]
    },
    {
      "cell_type": "markdown",
      "metadata": {
        "id": "8oxkND5F2Kcx"
      },
      "source": [
        "Compare these four kernel functions with each other. What are the main advantages and disadvantages of each one?"
      ]
    },
    {
      "cell_type": "markdown",
      "metadata": {
        "id": "QjVVuHTq2Kcx"
      },
      "source": [
        "*   Linear kernels are best when the data is inherently linear or when computational efficiency is crucial.\n",
        "*   Polynomial kernels are suitable for datasets where feature interactions play a crucial role, and the data is polynomially separable.\n",
        "*   RBF kernels are ideal for complex datasets with intricate structures, assuming computational resources are sufficient.\n",
        "*   Sigmoid kernels offer a neural network-like decision surface but can be tricky to tune and train effectively."
      ]
    }
  ],
  "metadata": {
    "kernelspec": {
      "display_name": "Python 3",
      "language": "python",
      "name": "python3"
    },
    "language_info": {
      "codemirror_mode": {
        "name": "ipython",
        "version": 3
      },
      "file_extension": ".py",
      "mimetype": "text/x-python",
      "name": "python",
      "nbconvert_exporter": "python",
      "pygments_lexer": "ipython3",
      "version": "3.11.2"
    },
    "colab": {
      "provenance": []
    }
  },
  "nbformat": 4,
  "nbformat_minor": 0
}